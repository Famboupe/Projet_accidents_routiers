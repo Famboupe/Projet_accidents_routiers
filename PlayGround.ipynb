{
 "cells": [
  {
   "cell_type": "code",
   "execution_count": 1,
   "id": "581252f8-86c5-4e38-85fd-e3c583377061",
   "metadata": {},
   "outputs": [],
   "source": [
    "import pandas as pd\n",
    "\n",
    "# create a sample DataFrame\n",
    "df = pd.DataFrame({'start_time': ['2022-06-18 10:30:00', '2022-06-18 11:45:00', '2022-06-18 13:15:00'],\n",
    "                   'end_time': ['2022-06-18 11:00:00', '2022-06-18 13:00:00', '2022-06-18 14:30:00']})"
   ]
  },
  {
   "cell_type": "code",
   "execution_count": 2,
   "id": "037d6c66-e397-4b5f-ae5f-26712509c864",
   "metadata": {},
   "outputs": [
    {
     "data": {
      "text/html": [
       "<div>\n",
       "<style scoped>\n",
       "    .dataframe tbody tr th:only-of-type {\n",
       "        vertical-align: middle;\n",
       "    }\n",
       "\n",
       "    .dataframe tbody tr th {\n",
       "        vertical-align: top;\n",
       "    }\n",
       "\n",
       "    .dataframe thead th {\n",
       "        text-align: right;\n",
       "    }\n",
       "</style>\n",
       "<table border=\"1\" class=\"dataframe\">\n",
       "  <thead>\n",
       "    <tr style=\"text-align: right;\">\n",
       "      <th></th>\n",
       "      <th>start_time</th>\n",
       "      <th>end_time</th>\n",
       "    </tr>\n",
       "  </thead>\n",
       "  <tbody>\n",
       "    <tr>\n",
       "      <th>0</th>\n",
       "      <td>2022-06-18 10:30:00</td>\n",
       "      <td>2022-06-18 11:00:00</td>\n",
       "    </tr>\n",
       "    <tr>\n",
       "      <th>1</th>\n",
       "      <td>2022-06-18 11:45:00</td>\n",
       "      <td>2022-06-18 13:00:00</td>\n",
       "    </tr>\n",
       "    <tr>\n",
       "      <th>2</th>\n",
       "      <td>2022-06-18 13:15:00</td>\n",
       "      <td>2022-06-18 14:30:00</td>\n",
       "    </tr>\n",
       "  </tbody>\n",
       "</table>\n",
       "</div>"
      ],
      "text/plain": [
       "            start_time             end_time\n",
       "0  2022-06-18 10:30:00  2022-06-18 11:00:00\n",
       "1  2022-06-18 11:45:00  2022-06-18 13:00:00\n",
       "2  2022-06-18 13:15:00  2022-06-18 14:30:00"
      ]
     },
     "execution_count": 2,
     "metadata": {},
     "output_type": "execute_result"
    }
   ],
   "source": [
    "df"
   ]
  },
  {
   "cell_type": "code",
   "execution_count": 3,
   "id": "2c0d23b5-d9af-420e-af41-693026225e3d",
   "metadata": {},
   "outputs": [
    {
     "name": "stdout",
     "output_type": "stream",
     "text": [
      "<class 'pandas.core.frame.DataFrame'>\n",
      "RangeIndex: 3 entries, 0 to 2\n",
      "Data columns (total 2 columns):\n",
      " #   Column      Non-Null Count  Dtype \n",
      "---  ------      --------------  ----- \n",
      " 0   start_time  3 non-null      object\n",
      " 1   end_time    3 non-null      object\n",
      "dtypes: object(2)\n",
      "memory usage: 180.0+ bytes\n"
     ]
    }
   ],
   "source": [
    "df.info()"
   ]
  },
  {
   "cell_type": "code",
   "execution_count": 4,
   "id": "c505e377-7c10-4fe9-b43a-bb88c54c6aa8",
   "metadata": {},
   "outputs": [],
   "source": [
    "# convert string columns to datetime\n",
    "df['start_time'] = pd.to_datetime(df['start_time'])\n",
    "df['end_time'] = pd.to_datetime(df['end_time'])"
   ]
  },
  {
   "cell_type": "code",
   "execution_count": 5,
   "id": "45725909-1dac-4392-aa1a-6bd1151b3daa",
   "metadata": {},
   "outputs": [
    {
     "name": "stdout",
     "output_type": "stream",
     "text": [
      "<class 'pandas.core.frame.DataFrame'>\n",
      "RangeIndex: 3 entries, 0 to 2\n",
      "Data columns (total 2 columns):\n",
      " #   Column      Non-Null Count  Dtype         \n",
      "---  ------      --------------  -----         \n",
      " 0   start_time  3 non-null      datetime64[ns]\n",
      " 1   end_time    3 non-null      datetime64[ns]\n",
      "dtypes: datetime64[ns](2)\n",
      "memory usage: 180.0 bytes\n"
     ]
    }
   ],
   "source": [
    "df.info()"
   ]
  },
  {
   "cell_type": "code",
   "execution_count": 6,
   "id": "ac1ab84d-fd27-4652-ac74-07cf651a4ec0",
   "metadata": {},
   "outputs": [],
   "source": [
    "# calculate duration and extract hour component\n",
    "df['duration'] = df['end_time'] - df['start_time']"
   ]
  },
  {
   "cell_type": "code",
   "execution_count": 7,
   "id": "ab3529eb-c5f3-4dea-9f14-0f14dfe22f1e",
   "metadata": {},
   "outputs": [
    {
     "name": "stdout",
     "output_type": "stream",
     "text": [
      "<class 'pandas.core.frame.DataFrame'>\n",
      "RangeIndex: 3 entries, 0 to 2\n",
      "Data columns (total 3 columns):\n",
      " #   Column      Non-Null Count  Dtype          \n",
      "---  ------      --------------  -----          \n",
      " 0   start_time  3 non-null      datetime64[ns] \n",
      " 1   end_time    3 non-null      datetime64[ns] \n",
      " 2   duration    3 non-null      timedelta64[ns]\n",
      "dtypes: datetime64[ns](2), timedelta64[ns](1)\n",
      "memory usage: 204.0 bytes\n"
     ]
    }
   ],
   "source": [
    "df.info()"
   ]
  },
  {
   "cell_type": "code",
   "execution_count": 8,
   "id": "d0eacea4-d068-476b-9900-0fa5ef5a80d5",
   "metadata": {},
   "outputs": [
    {
     "data": {
      "text/html": [
       "<div>\n",
       "<style scoped>\n",
       "    .dataframe tbody tr th:only-of-type {\n",
       "        vertical-align: middle;\n",
       "    }\n",
       "\n",
       "    .dataframe tbody tr th {\n",
       "        vertical-align: top;\n",
       "    }\n",
       "\n",
       "    .dataframe thead th {\n",
       "        text-align: right;\n",
       "    }\n",
       "</style>\n",
       "<table border=\"1\" class=\"dataframe\">\n",
       "  <thead>\n",
       "    <tr style=\"text-align: right;\">\n",
       "      <th></th>\n",
       "      <th>start_time</th>\n",
       "      <th>end_time</th>\n",
       "      <th>duration</th>\n",
       "    </tr>\n",
       "  </thead>\n",
       "  <tbody>\n",
       "    <tr>\n",
       "      <th>0</th>\n",
       "      <td>2022-06-18 10:30:00</td>\n",
       "      <td>2022-06-18 11:00:00</td>\n",
       "      <td>0 days 00:30:00</td>\n",
       "    </tr>\n",
       "    <tr>\n",
       "      <th>1</th>\n",
       "      <td>2022-06-18 11:45:00</td>\n",
       "      <td>2022-06-18 13:00:00</td>\n",
       "      <td>0 days 01:15:00</td>\n",
       "    </tr>\n",
       "    <tr>\n",
       "      <th>2</th>\n",
       "      <td>2022-06-18 13:15:00</td>\n",
       "      <td>2022-06-18 14:30:00</td>\n",
       "      <td>0 days 01:15:00</td>\n",
       "    </tr>\n",
       "  </tbody>\n",
       "</table>\n",
       "</div>"
      ],
      "text/plain": [
       "           start_time            end_time        duration\n",
       "0 2022-06-18 10:30:00 2022-06-18 11:00:00 0 days 00:30:00\n",
       "1 2022-06-18 11:45:00 2022-06-18 13:00:00 0 days 01:15:00\n",
       "2 2022-06-18 13:15:00 2022-06-18 14:30:00 0 days 01:15:00"
      ]
     },
     "execution_count": 8,
     "metadata": {},
     "output_type": "execute_result"
    }
   ],
   "source": [
    "df"
   ]
  },
  {
   "cell_type": "code",
   "execution_count": 9,
   "id": "7ba8400d-9545-4f81-acbb-6079523485ca",
   "metadata": {},
   "outputs": [],
   "source": [
    "df['hour'] = df['duration'].dt.components.hours"
   ]
  },
  {
   "cell_type": "code",
   "execution_count": 10,
   "id": "527a1465-a042-4514-bbbd-39a0817ca79e",
   "metadata": {},
   "outputs": [],
   "source": [
    "df['min'] = df['duration'].dt.components.minutes"
   ]
  },
  {
   "cell_type": "code",
   "execution_count": 11,
   "id": "338cb368-c74e-469f-b4d9-fe2666788d05",
   "metadata": {},
   "outputs": [
    {
     "data": {
      "text/html": [
       "<div>\n",
       "<style scoped>\n",
       "    .dataframe tbody tr th:only-of-type {\n",
       "        vertical-align: middle;\n",
       "    }\n",
       "\n",
       "    .dataframe tbody tr th {\n",
       "        vertical-align: top;\n",
       "    }\n",
       "\n",
       "    .dataframe thead th {\n",
       "        text-align: right;\n",
       "    }\n",
       "</style>\n",
       "<table border=\"1\" class=\"dataframe\">\n",
       "  <thead>\n",
       "    <tr style=\"text-align: right;\">\n",
       "      <th></th>\n",
       "      <th>start_time</th>\n",
       "      <th>end_time</th>\n",
       "      <th>duration</th>\n",
       "      <th>hour</th>\n",
       "      <th>min</th>\n",
       "    </tr>\n",
       "  </thead>\n",
       "  <tbody>\n",
       "    <tr>\n",
       "      <th>0</th>\n",
       "      <td>2022-06-18 10:30:00</td>\n",
       "      <td>2022-06-18 11:00:00</td>\n",
       "      <td>0 days 00:30:00</td>\n",
       "      <td>0</td>\n",
       "      <td>30</td>\n",
       "    </tr>\n",
       "    <tr>\n",
       "      <th>1</th>\n",
       "      <td>2022-06-18 11:45:00</td>\n",
       "      <td>2022-06-18 13:00:00</td>\n",
       "      <td>0 days 01:15:00</td>\n",
       "      <td>1</td>\n",
       "      <td>15</td>\n",
       "    </tr>\n",
       "    <tr>\n",
       "      <th>2</th>\n",
       "      <td>2022-06-18 13:15:00</td>\n",
       "      <td>2022-06-18 14:30:00</td>\n",
       "      <td>0 days 01:15:00</td>\n",
       "      <td>1</td>\n",
       "      <td>15</td>\n",
       "    </tr>\n",
       "  </tbody>\n",
       "</table>\n",
       "</div>"
      ],
      "text/plain": [
       "           start_time            end_time        duration  hour  min\n",
       "0 2022-06-18 10:30:00 2022-06-18 11:00:00 0 days 00:30:00     0   30\n",
       "1 2022-06-18 11:45:00 2022-06-18 13:00:00 0 days 01:15:00     1   15\n",
       "2 2022-06-18 13:15:00 2022-06-18 14:30:00 0 days 01:15:00     1   15"
      ]
     },
     "execution_count": 11,
     "metadata": {},
     "output_type": "execute_result"
    }
   ],
   "source": [
    "df"
   ]
  },
  {
   "cell_type": "code",
   "execution_count": 12,
   "id": "76e8a018-6356-42f5-ad73-69fd01f1ebb3",
   "metadata": {},
   "outputs": [
    {
     "name": "stdout",
     "output_type": "stream",
     "text": [
      "<class 'pandas.core.frame.DataFrame'>\n",
      "RangeIndex: 3 entries, 0 to 2\n",
      "Data columns (total 5 columns):\n",
      " #   Column      Non-Null Count  Dtype          \n",
      "---  ------      --------------  -----          \n",
      " 0   start_time  3 non-null      datetime64[ns] \n",
      " 1   end_time    3 non-null      datetime64[ns] \n",
      " 2   duration    3 non-null      timedelta64[ns]\n",
      " 3   hour        3 non-null      int64          \n",
      " 4   min         3 non-null      int64          \n",
      "dtypes: datetime64[ns](2), int64(2), timedelta64[ns](1)\n",
      "memory usage: 252.0 bytes\n"
     ]
    }
   ],
   "source": [
    "df.info()"
   ]
  },
  {
   "cell_type": "code",
   "execution_count": 13,
   "id": "be9e3494-f90b-495e-b6a9-61c3d5286cfd",
   "metadata": {},
   "outputs": [
    {
     "name": "stdout",
     "output_type": "stream",
     "text": [
      "           start_time            end_time        duration  hour  min\n",
      "0 2022-06-18 10:30:00 2022-06-18 11:00:00 0 days 00:30:00     0   30\n",
      "1 2022-06-18 11:45:00 2022-06-18 13:00:00 0 days 01:15:00     1   15\n",
      "2 2022-06-18 13:15:00 2022-06-18 14:30:00 0 days 01:15:00     1   15\n"
     ]
    }
   ],
   "source": [
    "print(df)"
   ]
  },
  {
   "cell_type": "code",
   "execution_count": null,
   "id": "d55dc2d8-7dc9-4504-8fac-e54b38a03f71",
   "metadata": {},
   "outputs": [],
   "source": []
  },
  {
   "cell_type": "code",
   "execution_count": 14,
   "id": "ce00c42d-f4a4-4cd0-a4ea-26cdd5e76457",
   "metadata": {},
   "outputs": [
    {
     "name": "stdout",
     "output_type": "stream",
     "text": [
      "int64\n"
     ]
    }
   ],
   "source": [
    "import pandas as pd\n",
    "\n",
    "# Create a DataFrame from the dictionary\n",
    "data = {'genre': ['C1666544295', 'M2044282225', 'C38997010', 'C2048537720', 'M1230701703']}\n",
    "df = pd.DataFrame(data)\n",
    "\n",
    "# Remove all characters except numbers, keeping the sign if present\n",
    "df['genre'] = df['genre'].str.replace(r\"[^\\d\\-+\\.]\", \"\", regex=True)\n",
    "\n",
    "# Convert the 'genre' column to integers\n",
    "df['genre'] = pd.to_numeric(df['genre'], errors='coerce')\n",
    "\n",
    "# Check the data type of 'genre' column\n",
    "print(df['genre'].dtype)"
   ]
  },
  {
   "cell_type": "code",
   "execution_count": 15,
   "id": "74bcbe7f-b30a-4b48-92c9-7e40280469c2",
   "metadata": {},
   "outputs": [
    {
     "data": {
      "text/html": [
       "<div>\n",
       "<style scoped>\n",
       "    .dataframe tbody tr th:only-of-type {\n",
       "        vertical-align: middle;\n",
       "    }\n",
       "\n",
       "    .dataframe tbody tr th {\n",
       "        vertical-align: top;\n",
       "    }\n",
       "\n",
       "    .dataframe thead th {\n",
       "        text-align: right;\n",
       "    }\n",
       "</style>\n",
       "<table border=\"1\" class=\"dataframe\">\n",
       "  <thead>\n",
       "    <tr style=\"text-align: right;\">\n",
       "      <th></th>\n",
       "      <th>genre</th>\n",
       "    </tr>\n",
       "  </thead>\n",
       "  <tbody>\n",
       "    <tr>\n",
       "      <th>0</th>\n",
       "      <td>1666544295</td>\n",
       "    </tr>\n",
       "    <tr>\n",
       "      <th>1</th>\n",
       "      <td>2044282225</td>\n",
       "    </tr>\n",
       "    <tr>\n",
       "      <th>2</th>\n",
       "      <td>38997010</td>\n",
       "    </tr>\n",
       "    <tr>\n",
       "      <th>3</th>\n",
       "      <td>2048537720</td>\n",
       "    </tr>\n",
       "    <tr>\n",
       "      <th>4</th>\n",
       "      <td>1230701703</td>\n",
       "    </tr>\n",
       "  </tbody>\n",
       "</table>\n",
       "</div>"
      ],
      "text/plain": [
       "        genre\n",
       "0  1666544295\n",
       "1  2044282225\n",
       "2    38997010\n",
       "3  2048537720\n",
       "4  1230701703"
      ]
     },
     "execution_count": 15,
     "metadata": {},
     "output_type": "execute_result"
    }
   ],
   "source": [
    "df"
   ]
  },
  {
   "cell_type": "code",
   "execution_count": 16,
   "id": "6280a37b-2e07-4ac1-b082-bd98b7518e28",
   "metadata": {},
   "outputs": [],
   "source": [
    "def replace_first_letter_with_ascii(string):\n",
    "    if not string or not isinstance(string, str):\n",
    "        return string\n",
    "\n",
    "    # Extract the first letter\n",
    "    first_letter = string[0]\n",
    "\n",
    "    # Convert the first letter to ASCII code\n",
    "    ascii_code = ord(first_letter)\n",
    "\n",
    "    # Replace the first letter with the ASCII code\n",
    "    replaced_string = str(ascii_code) + string[1:]\n",
    "\n",
    "    return replaced_string\n",
    "\n",
    "# Example usage\n",
    "original_string = \"Hello, world!\"\n",
    "modified_string = replace_first_letter_with_ascii(original_string)\n",
    "#print(f\"Original string: {original_string}\")\n",
    "#print(f\"Modified string: {modified_string}\")"
   ]
  },
  {
   "cell_type": "code",
   "execution_count": 17,
   "id": "1492f3c7-dcde-44f5-9fc4-f5c02bc7fe4f",
   "metadata": {},
   "outputs": [
    {
     "name": "stdout",
     "output_type": "stream",
     "text": [
      "C1666544295\n",
      "671666544295\n"
     ]
    }
   ],
   "source": [
    "original_string = \"C1666544295\"\n",
    "modified_string = replace_first_letter_with_ascii(original_string)\n",
    "print(original_string)\n",
    "print(modified_string)"
   ]
  },
  {
   "cell_type": "code",
   "execution_count": null,
   "id": "f237ee16-bbb6-4742-bb18-ca1feecd6eb4",
   "metadata": {},
   "outputs": [],
   "source": []
  },
  {
   "cell_type": "code",
   "execution_count": 18,
   "id": "46fa7b0b-9889-47ff-8c98-a0c7f1c3733d",
   "metadata": {},
   "outputs": [
    {
     "name": "stdout",
     "output_type": "stream",
     "text": [
      "DataFrame initial :\n",
      "        colonne\n",
      "0            10\n",
      "1            20\n",
      "2            30\n",
      "3            40\n",
      "4  not_a_number\n",
      "5            50\n",
      "6            60\n",
      "7            70\n",
      "8            80\n",
      "\n",
      "Valeurs non convertibles en float :\n",
      "4    not_a_number\n",
      "Name: colonne, dtype: object\n"
     ]
    }
   ],
   "source": [
    "import pandas as pd\n",
    "import numpy as np\n",
    "\n",
    "# Exemple de DataFrame avec une colonne contenant des valeurs\n",
    "data = {'colonne': ['10', '20', '30', '40', 'not_a_number', '50', '60', '70', '80']}\n",
    "df = pd.DataFrame(data)\n",
    "\n",
    "# Affichage du DataFrame initial\n",
    "print(\"DataFrame initial :\")\n",
    "print(df)\n",
    "\n",
    "# Convertir la colonne en float avec gestion des erreurs\n",
    "converted_values = pd.to_numeric(df['colonne'], errors='coerce')\n",
    "\n",
    "# Filtrer les valeurs non convertibles en float (c'est-à-dire les valeurs non NaN)\n",
    "non_convertible_values = df['colonne'][converted_values.isna()]\n",
    "\n",
    "# Affichage des valeurs non convertibles\n",
    "print(\"\\nValeurs non convertibles en float :\")\n",
    "print(non_convertible_values)"
   ]
  },
  {
   "cell_type": "code",
   "execution_count": null,
   "id": "55a37bf1-fe15-41e0-9f1d-18f3ea2f0aec",
   "metadata": {},
   "outputs": [],
   "source": []
  },
  {
   "cell_type": "code",
   "execution_count": null,
   "id": "4f7ad767-0599-4304-9aba-8a68026597c9",
   "metadata": {},
   "outputs": [],
   "source": []
  },
  {
   "cell_type": "code",
   "execution_count": 19,
   "id": "75d77fee-a38f-48b4-b93a-9873445121c7",
   "metadata": {},
   "outputs": [
    {
     "name": "stdout",
     "output_type": "stream",
     "text": [
      "       name name_with_ascii\n",
      "0     AlicB         65lic66\n",
      "1       BAb           6665b\n",
      "2  ChaArlie       Cha65rlie\n",
      "3     David           David\n",
      "4    EBilBA       E66il6665\n"
     ]
    }
   ],
   "source": [
    "import pandas as pd\n",
    "\n",
    "# Create a sample DataFrame with a 'name' column containing strings\n",
    "data = {'name': ['AlicB', 'BAb', 'ChaArlie', 'David', 'EBilBA']}\n",
    "df = pd.DataFrame(data)\n",
    "\n",
    "# Define the function to replace letters with ASCII codes\n",
    "def replace_AB_with_ascii(string):\n",
    "    if not string or not isinstance(string, str):\n",
    "        return string\n",
    "\n",
    "    letter_to_ascii = {'A': ord('A'), 'B': ord('B')}\n",
    "\n",
    "    replaced_string = ''\n",
    "    for char in string:\n",
    "        if char in letter_to_ascii:\n",
    "            replaced_string += str(letter_to_ascii[char])\n",
    "        else:\n",
    "            replaced_string += char\n",
    "\n",
    "    return replaced_string\n",
    "\n",
    "# Apply the function to the 'name' column using 'apply'\n",
    "df['name_with_ascii'] = df['name'].apply(replace_AB_with_ascii)\n",
    "\n",
    "# Print the modified DataFrame\n",
    "print(df)\n"
   ]
  },
  {
   "cell_type": "code",
   "execution_count": null,
   "id": "8d7eb0f6-e508-47a4-b937-8d737b4ce34f",
   "metadata": {},
   "outputs": [],
   "source": []
  },
  {
   "cell_type": "code",
   "execution_count": null,
   "id": "39317d54-5e32-4c4b-bbcf-d1e508effbf6",
   "metadata": {},
   "outputs": [],
   "source": []
  },
  {
   "cell_type": "code",
   "execution_count": null,
   "id": "ee03e853-2509-4a5b-8222-44f8787d607d",
   "metadata": {},
   "outputs": [],
   "source": []
  },
  {
   "cell_type": "code",
   "execution_count": 20,
   "id": "db84d95f-f7a5-42e3-9884-2f3fdadb6d11",
   "metadata": {},
   "outputs": [
    {
     "name": "stdout",
     "output_type": "stream",
     "text": [
      "               col    col_with_ascii\n",
      "0    Hello, World!   72ello, 87orld!\n",
      "1  This is a test.  84his is a test.\n",
      "2  Another example  65nother example\n"
     ]
    }
   ],
   "source": [
    "import pandas as pd\n",
    "\n",
    "# Create a sample DataFrame with a 'col' column containing strings\n",
    "data = {'col': ['Hello, World!', 'This is a test.', 'Another example']}\n",
    "df = pd.DataFrame(data)\n",
    "\n",
    "# Define the function to replace letters with ASCII codes\n",
    "def replace_letters_with_ascii(string):\n",
    "    if not string or not isinstance(string, str):\n",
    "        return string\n",
    "\n",
    "    letter_to_ascii = {char: ord(char) for char in string.upper() if char.isalpha()}\n",
    "\n",
    "    replaced_string = ''\n",
    "    for char in string:\n",
    "        if char in letter_to_ascii:\n",
    "            replaced_string += str(letter_to_ascii[char])\n",
    "        else:\n",
    "            replaced_string += char\n",
    "\n",
    "    return replaced_string\n",
    "\n",
    "# Apply the function to the 'col' column using 'apply'\n",
    "df['col_with_ascii'] = df['col'].apply(replace_letters_with_ascii)\n",
    "\n",
    "# Print the modified DataFrame\n",
    "print(df)"
   ]
  },
  {
   "cell_type": "code",
   "execution_count": null,
   "id": "c9a6ba1c-a971-42f2-b785-e90657c29f22",
   "metadata": {},
   "outputs": [],
   "source": []
  },
  {
   "cell_type": "code",
   "execution_count": null,
   "id": "d306e60d-a051-4a0d-b637-f466488800cb",
   "metadata": {},
   "outputs": [],
   "source": []
  },
  {
   "cell_type": "code",
   "execution_count": null,
   "id": "3ebd629e-6a1f-4e8d-af20-8507f98aa866",
   "metadata": {},
   "outputs": [],
   "source": []
  },
  {
   "cell_type": "code",
   "execution_count": 21,
   "id": "32f79118-cd01-4133-831a-d62015722ddf",
   "metadata": {
    "tags": []
   },
   "outputs": [
    {
     "name": "stdout",
     "output_type": "stream",
     "text": [
      "           col\n",
      "0  C1231006815\n",
      "1  C1666544295\n",
      "2  C1789027422\n"
     ]
    }
   ],
   "source": [
    "import pandas as pd\n",
    "\n",
    "# Create a sample DataFrame with a 'col' column containing strings\n",
    "data = {'col': ['C1231006815', 'C1666544295', 'C1789027422']}\n",
    "df = pd.DataFrame(data)\n",
    "\n",
    "# Modify the 'col' column in-place\n",
    "def replace_first_char_with_ascii(string):\n",
    "    if not string or not isinstance(string, str):\n",
    "        return\n",
    "\n",
    "    ascii_code = ord(string[0])\n",
    "    string = string[1:]  # Remove the first character\n",
    "    string = f\"{ascii_code}-{string}\"  # Insert ASCII code at the beginning\n",
    "\n",
    "df['col'].apply(replace_first_char_with_ascii)\n",
    "\n",
    "# Print the modified DataFrame\n",
    "print(df)"
   ]
  },
  {
   "cell_type": "code",
   "execution_count": null,
   "id": "96f641d9-bada-4781-a2ee-7befe30c58d8",
   "metadata": {},
   "outputs": [],
   "source": []
  },
  {
   "cell_type": "code",
   "execution_count": 22,
   "id": "e130e50a-6f18-48f4-8dde-394f6e7a512e",
   "metadata": {
    "tags": []
   },
   "outputs": [
    {
     "name": "stdout",
     "output_type": "stream",
     "text": [
      "0    671231006815\n",
      "1    671666544295\n",
      "2    671789027422\n",
      "Name: col, dtype: object\n"
     ]
    }
   ],
   "source": [
    "data = {'col': ['C1231006815', 'C1666544295', 'C1789027422']}\n",
    "df = pd.DataFrame(data)\n",
    "def replace_first_letter_with_ascii(string):\n",
    "    if not string or not isinstance(string, str):\n",
    "        return string\n",
    "\n",
    "    # Extract the first letter\n",
    "    first_letter = string[0]\n",
    "\n",
    "    # Convert the first letter to ASCII code\n",
    "    ascii_code = ord(first_letter)\n",
    "\n",
    "    # Replace the first letter with the ASCII code\n",
    "    replaced_string = str(ascii_code) + string[1:]\n",
    "\n",
    "    return replaced_string\n",
    "\n",
    "df['col']= df['col'].apply(replace_first_letter_with_ascii)\n",
    "print(df['col'])"
   ]
  },
  {
   "cell_type": "code",
   "execution_count": 23,
   "id": "14428dc5-737c-4a93-8268-b0eafa7a595d",
   "metadata": {
    "tags": []
   },
   "outputs": [
    {
     "name": "stdout",
     "output_type": "stream",
     "text": [
      "0    671231006815\n",
      "1    671666544295\n",
      "2    671789027422\n",
      "Name: col, dtype: object\n"
     ]
    }
   ],
   "source": [
    "data = {'col': ['C1231006815', 'C1666544295', 'C1789027422']}\n",
    "df = pd.DataFrame(data)\n",
    "def remplace_la_premiere_lettre_par_son_ascii(string):\n",
    "    if not string or not isinstance(string, str):\n",
    "        return string\n",
    "    lettre = string[0]\n",
    "    ascii_code = ord(lettre)\n",
    "    string_final = str(ascii_code) + string[1:]\n",
    "    return string_final\n",
    "\n",
    "df['col']= df['col'].apply(remplace_la_premiere_lettre_par_son_ascii)\n",
    "print(df['col'])"
   ]
  },
  {
   "cell_type": "code",
   "execution_count": null,
   "id": "0a69dc14-2163-4187-b453-5623acfe70b0",
   "metadata": {},
   "outputs": [],
   "source": []
  },
  {
   "cell_type": "code",
   "execution_count": 24,
   "id": "b7396188-011f-4bbc-a75a-438a5e56951b",
   "metadata": {},
   "outputs": [],
   "source": [
    "import re\n",
    "r = re.compile('(a(b)c)d')\n",
    "g = r.match('abcd')"
   ]
  },
  {
   "cell_type": "code",
   "execution_count": 25,
   "id": "21f17200-8d85-4bc2-a628-b6af715c3411",
   "metadata": {
    "tags": []
   },
   "outputs": [
    {
     "name": "stdout",
     "output_type": "stream",
     "text": [
      "re.compile('(a(b)c)d')\n"
     ]
    }
   ],
   "source": [
    "print(r)\n"
   ]
  },
  {
   "cell_type": "code",
   "execution_count": 26,
   "id": "0b7fab0f-b7e2-4f99-873a-446162ebc550",
   "metadata": {
    "tags": []
   },
   "outputs": [
    {
     "name": "stdout",
     "output_type": "stream",
     "text": [
      "<re.Match object; span=(0, 4), match='abcd'>\n"
     ]
    }
   ],
   "source": [
    "print(g)"
   ]
  },
  {
   "cell_type": "code",
   "execution_count": null,
   "id": "d4d17c9e-7c67-43b3-a606-274780d4b76f",
   "metadata": {},
   "outputs": [],
   "source": []
  },
  {
   "cell_type": "code",
   "execution_count": null,
   "id": "40a88dff-2c6c-41c4-aae6-dbf5534bfc4c",
   "metadata": {},
   "outputs": [],
   "source": []
  },
  {
   "cell_type": "code",
   "execution_count": 30,
   "id": "5262b430-b5e4-43ef-a872-28127e28f800",
   "metadata": {},
   "outputs": [],
   "source": [
    "np.random.seed(0)\n",
    "n_clusters = [\n",
    "    np.random.randn(20, 2),  # Cluster 1 K-Means\n",
    "    np.random.randn(15, 2),  # Cluster 2 K-Means\n",
    "    np.random.randn(25, 2)   # Cluster 3 K-Means\n",
    "]\n",
    "    \n"
   ]
  },
  {
   "cell_type": "code",
   "execution_count": 31,
   "id": "1ffd985d-0411-4643-acb4-5d8f4bab104f",
   "metadata": {
    "tags": []
   },
   "outputs": [
    {
     "data": {
      "text/plain": [
       "[array([[ 1.76405235,  0.40015721],\n",
       "        [ 0.97873798,  2.2408932 ],\n",
       "        [ 1.86755799, -0.97727788],\n",
       "        [ 0.95008842, -0.15135721],\n",
       "        [-0.10321885,  0.4105985 ],\n",
       "        [ 0.14404357,  1.45427351],\n",
       "        [ 0.76103773,  0.12167502],\n",
       "        [ 0.44386323,  0.33367433],\n",
       "        [ 1.49407907, -0.20515826],\n",
       "        [ 0.3130677 , -0.85409574],\n",
       "        [-2.55298982,  0.6536186 ],\n",
       "        [ 0.8644362 , -0.74216502],\n",
       "        [ 2.26975462, -1.45436567],\n",
       "        [ 0.04575852, -0.18718385],\n",
       "        [ 1.53277921,  1.46935877],\n",
       "        [ 0.15494743,  0.37816252],\n",
       "        [-0.88778575, -1.98079647],\n",
       "        [-0.34791215,  0.15634897],\n",
       "        [ 1.23029068,  1.20237985],\n",
       "        [-0.38732682, -0.30230275]]),\n",
       " array([[-1.04855297, -1.42001794],\n",
       "        [-1.70627019,  1.9507754 ],\n",
       "        [-0.50965218, -0.4380743 ],\n",
       "        [-1.25279536,  0.77749036],\n",
       "        [-1.61389785, -0.21274028],\n",
       "        [-0.89546656,  0.3869025 ],\n",
       "        [-0.51080514, -1.18063218],\n",
       "        [-0.02818223,  0.42833187],\n",
       "        [ 0.06651722,  0.3024719 ],\n",
       "        [-0.63432209, -0.36274117],\n",
       "        [-0.67246045, -0.35955316],\n",
       "        [-0.81314628, -1.7262826 ],\n",
       "        [ 0.17742614, -0.40178094],\n",
       "        [-1.63019835,  0.46278226],\n",
       "        [-0.90729836,  0.0519454 ]]),\n",
       " array([[ 0.72909056,  0.12898291],\n",
       "        [ 1.13940068, -1.23482582],\n",
       "        [ 0.40234164, -0.68481009],\n",
       "        [-0.87079715, -0.57884966],\n",
       "        [-0.31155253,  0.05616534],\n",
       "        [-1.16514984,  0.90082649],\n",
       "        [ 0.46566244, -1.53624369],\n",
       "        [ 1.48825219,  1.89588918],\n",
       "        [ 1.17877957, -0.17992484],\n",
       "        [-1.07075262,  1.05445173],\n",
       "        [-0.40317695,  1.22244507],\n",
       "        [ 0.20827498,  0.97663904],\n",
       "        [ 0.3563664 ,  0.70657317],\n",
       "        [ 0.01050002,  1.78587049],\n",
       "        [ 0.12691209,  0.40198936],\n",
       "        [ 1.8831507 , -1.34775906],\n",
       "        [-1.270485  ,  0.96939671],\n",
       "        [-1.17312341,  1.94362119],\n",
       "        [-0.41361898, -0.74745481],\n",
       "        [ 1.92294203,  1.48051479],\n",
       "        [ 1.86755896,  0.90604466],\n",
       "        [-0.86122569,  1.91006495],\n",
       "        [-0.26800337,  0.8024564 ],\n",
       "        [ 0.94725197, -0.15501009],\n",
       "        [ 0.61407937,  0.92220667]])]"
      ]
     },
     "execution_count": 31,
     "metadata": {},
     "output_type": "execute_result"
    }
   ],
   "source": [
    "n_clusters"
   ]
  },
  {
   "cell_type": "code",
   "execution_count": null,
   "id": "278621a2-bc83-4814-bd92-fa1f097359c9",
   "metadata": {},
   "outputs": [],
   "source": []
  },
  {
   "cell_type": "code",
   "execution_count": null,
   "id": "bd574108-79a7-430c-8169-dbdc6b1bb422",
   "metadata": {},
   "outputs": [],
   "source": []
  },
  {
   "cell_type": "code",
   "execution_count": 61,
   "id": "b1527f4f-9579-4000-b5f3-4b9ec37d5a00",
   "metadata": {
    "tags": []
   },
   "outputs": [
    {
     "name": "stdout",
     "output_type": "stream",
     "text": [
      "f = 0.3424664577455166\n"
     ]
    }
   ],
   "source": [
    "#Python\n",
    "from math import*\n",
    "\n",
    "def calculate_f(x):\n",
    "  \"\"\"Calculates the value of r = cos(x^2) for a given input value x.\n",
    "\n",
    "  Args:\n",
    "    x: The input value.\n",
    "\n",
    "  Returns:\n",
    "    The value of r = cos(x^2).\n",
    "  \"\"\"\n",
    "  #r = math.cos(math.pow(x, 2))\n",
    "  f = cos(pow(x, 2))\n",
    "  return f\n",
    "\n",
    "# Example usage\n",
    "x = 14.0\n",
    "f = calculate_f(x)\n",
    "print(\"f =\", f)"
   ]
  },
  {
   "cell_type": "code",
   "execution_count": 63,
   "id": "48e08512-76a0-4d03-a9a7-68bc6f05f41e",
   "metadata": {
    "tags": []
   },
   "outputs": [
    {
     "name": "stdout",
     "output_type": "stream",
     "text": [
      "g = 1.6406037580680897\n"
     ]
    }
   ],
   "source": [
    "def calculate_g(x):\n",
    "  \"\"\"Calculates the value of r = cos(x^2) for a given input value x.\n",
    "\n",
    "  Args:\n",
    "    x: The input value.\n",
    "\n",
    "  Returns:\n",
    "    The value of r = cos(x^2).\n",
    "  \"\"\"\n",
    "  #r = math.cos(math.pow(x, 2))\n",
    "  g = pow(tan(x), 1/4)\n",
    "  return g\n",
    "g = calculate_g(x)\n",
    "print(\"g =\", g)"
   ]
  },
  {
   "cell_type": "code",
   "execution_count": 65,
   "id": "f249f856-11a5-4109-ad75-fb7f660e546a",
   "metadata": {
    "tags": []
   },
   "outputs": [],
   "source": [
    "h = 1/(1 + math.exp(f-g))\n"
   ]
  },
  {
   "cell_type": "code",
   "execution_count": 67,
   "id": "b5237268-98d2-4b95-ac46-a468fd0c61b3",
   "metadata": {
    "tags": []
   },
   "outputs": [
    {
     "name": "stdout",
     "output_type": "stream",
     "text": [
      "h = 0.7855213268294411\n"
     ]
    }
   ],
   "source": [
    "print(\"h =\", h)"
   ]
  },
  {
   "cell_type": "code",
   "execution_count": null,
   "id": "f4ddc101-cc80-45a9-9ef8-1819385c794e",
   "metadata": {},
   "outputs": [],
   "source": []
  }
 ],
 "metadata": {
  "kernelspec": {
   "display_name": "Projet_accidents_routiers_V10",
   "language": "python",
   "name": "projet_accidents_routiers_v10"
  },
  "language_info": {
   "codemirror_mode": {
    "name": "ipython",
    "version": 3
   },
   "file_extension": ".py",
   "mimetype": "text/x-python",
   "name": "python",
   "nbconvert_exporter": "python",
   "pygments_lexer": "ipython3",
   "version": "3.11.7"
  }
 },
 "nbformat": 4,
 "nbformat_minor": 5
}
