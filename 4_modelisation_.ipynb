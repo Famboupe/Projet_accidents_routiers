{
 "cells": [
  {
   "cell_type": "markdown",
   "metadata": {
    "id": "NxzRd3c1FmPT"
   },
   "source": [
    "Projet : Accident de la route\n",
    "==============\n",
    "\n",
    "## Etape 3 : Modélisation\n",
    "\n",
    "### Import des données"
   ]
  },
  {
   "cell_type": "code",
   "execution_count": 1,
   "metadata": {
    "id": "XEzjmg7_FmPU"
   },
   "outputs": [],
   "source": [
    "# import des librairies\n",
    "import pandas as pd\n",
    "pd.set_option('display.max_columns', None)\n",
    "pd.options.display.max_info_columns\n",
    "\n",
    "import numpy as np\n",
    "import matplotlib.pyplot as plt\n",
    "import seaborn as sns\n",
    "\n",
    "#from lazypredict.supervised import LazyClassifier\n",
    "from lazypredict.Supervised import LazyClassifier\n",
    "\n",
    "\n",
    "import sklearn\n",
    "from sklearn.model_selection import GridSearchCV, KFold, cross_val_score#, train_test_split\n",
    "#from sklearn.feature_selection import SelectKBest, f_classif, chi2\n",
    "#from sklearn.multiclass import OneVsRestClassifier\n",
    "from sklearn.preprocessing import StandardScaler\n",
    "from xgboost import XGBClassifier\n",
    "from sklearn.tree import DecisionTreeClassifier\n",
    "#from sklearn.linear_model import LogisticRegression\n",
    "from sklearn.ensemble import AdaBoostClassifier,ExtraTreesClassifier, RandomForestClassifier\n",
    "from lightgbm import LGBMClassifier\n",
    "from sklearn.metrics import confusion_matrix,classification_report, f1_score, accuracy_score, recall_score, precision_score\n",
    "from sklearn.neighbors import KNeighborsClassifier\n",
    "\n",
    "import sys\n",
    "import joblib"
   ]
  },
  {
   "cell_type": "code",
   "execution_count": 2,
   "metadata": {
    "id": "nXJWdtuWFmPV",
    "outputId": "bcffbaf7-cb0b-44d5-fde0-4b9a882f92c4"
   },
   "outputs": [
    {
     "name": "stdout",
     "output_type": "stream",
     "text": [
      "Version de Python: 3.11.7 | packaged by Anaconda, Inc. | (main, Dec 15 2023, 18:05:47) [MSC v.1916 64 bit (AMD64)]\n",
      "Version de pandas: 2.1.4\n",
      "Version de scikit-learn: 1.2.2\n",
      "Version de pandas: 1.26.3\n"
     ]
    }
   ],
   "source": [
    "\n",
    "print(\"Version de Python:\", sys.version)\n",
    "print(\"Version de pandas:\", pd.__version__)\n",
    "print(\"Version de scikit-learn:\", sklearn.__version__)\n",
    "print(\"Version de pandas:\", np.__version__)\n"
   ]
  },
  {
   "cell_type": "code",
   "execution_count": 3,
   "metadata": {},
   "outputs": [
    {
     "data": {
      "text/html": [
       "<div>\n",
       "<style scoped>\n",
       "    .dataframe tbody tr th:only-of-type {\n",
       "        vertical-align: middle;\n",
       "    }\n",
       "\n",
       "    .dataframe tbody tr th {\n",
       "        vertical-align: top;\n",
       "    }\n",
       "\n",
       "    .dataframe thead th {\n",
       "        text-align: right;\n",
       "    }\n",
       "</style>\n",
       "<table border=\"1\" class=\"dataframe\">\n",
       "  <thead>\n",
       "    <tr style=\"text-align: right;\">\n",
       "      <th></th>\n",
       "      <th>place</th>\n",
       "      <th>catu</th>\n",
       "      <th>grav</th>\n",
       "      <th>sexe</th>\n",
       "      <th>trajet</th>\n",
       "      <th>secu1</th>\n",
       "      <th>locp</th>\n",
       "      <th>catr</th>\n",
       "      <th>circ</th>\n",
       "      <th>nbv</th>\n",
       "      <th>vosp</th>\n",
       "      <th>prof</th>\n",
       "      <th>plan</th>\n",
       "      <th>surf</th>\n",
       "      <th>infra</th>\n",
       "      <th>situ</th>\n",
       "      <th>vma</th>\n",
       "      <th>lum</th>\n",
       "      <th>com</th>\n",
       "      <th>agg</th>\n",
       "      <th>int</th>\n",
       "      <th>atm</th>\n",
       "      <th>col</th>\n",
       "      <th>lat</th>\n",
       "      <th>long</th>\n",
       "      <th>senc</th>\n",
       "      <th>catv</th>\n",
       "      <th>obs</th>\n",
       "      <th>obsm</th>\n",
       "      <th>choc</th>\n",
       "      <th>manv</th>\n",
       "      <th>motor</th>\n",
       "      <th>age_group</th>\n",
       "      <th>h_group</th>\n",
       "      <th>weekday</th>\n",
       "      <th>index</th>\n",
       "    </tr>\n",
       "  </thead>\n",
       "  <tbody>\n",
       "    <tr>\n",
       "      <th>0</th>\n",
       "      <td>1</td>\n",
       "      <td>1</td>\n",
       "      <td>1</td>\n",
       "      <td>2</td>\n",
       "      <td>5</td>\n",
       "      <td>1</td>\n",
       "      <td>0</td>\n",
       "      <td>4</td>\n",
       "      <td>-1</td>\n",
       "      <td>2</td>\n",
       "      <td>0</td>\n",
       "      <td>1</td>\n",
       "      <td>1</td>\n",
       "      <td>1</td>\n",
       "      <td>0</td>\n",
       "      <td>1</td>\n",
       "      <td>50</td>\n",
       "      <td>5</td>\n",
       "      <td>66136</td>\n",
       "      <td>2</td>\n",
       "      <td>2</td>\n",
       "      <td>1</td>\n",
       "      <td>3</td>\n",
       "      <td>42.70</td>\n",
       "      <td>2.89</td>\n",
       "      <td>1</td>\n",
       "      <td>6</td>\n",
       "      <td>0</td>\n",
       "      <td>2</td>\n",
       "      <td>7</td>\n",
       "      <td>1</td>\n",
       "      <td>1</td>\n",
       "      <td>4</td>\n",
       "      <td>2</td>\n",
       "      <td>5</td>\n",
       "      <td>422246</td>\n",
       "    </tr>\n",
       "    <tr>\n",
       "      <th>1</th>\n",
       "      <td>5</td>\n",
       "      <td>2</td>\n",
       "      <td>1</td>\n",
       "      <td>2</td>\n",
       "      <td>0</td>\n",
       "      <td>1</td>\n",
       "      <td>-1</td>\n",
       "      <td>7</td>\n",
       "      <td>2</td>\n",
       "      <td>4</td>\n",
       "      <td>0</td>\n",
       "      <td>2</td>\n",
       "      <td>1</td>\n",
       "      <td>1</td>\n",
       "      <td>0</td>\n",
       "      <td>1</td>\n",
       "      <td>50</td>\n",
       "      <td>5</td>\n",
       "      <td>13215</td>\n",
       "      <td>2</td>\n",
       "      <td>1</td>\n",
       "      <td>1</td>\n",
       "      <td>3</td>\n",
       "      <td>43.37</td>\n",
       "      <td>5.35</td>\n",
       "      <td>0</td>\n",
       "      <td>3</td>\n",
       "      <td>0</td>\n",
       "      <td>2</td>\n",
       "      <td>7</td>\n",
       "      <td>1</td>\n",
       "      <td>1</td>\n",
       "      <td>6</td>\n",
       "      <td>1</td>\n",
       "      <td>2</td>\n",
       "      <td>176315</td>\n",
       "    </tr>\n",
       "    <tr>\n",
       "      <th>2</th>\n",
       "      <td>1</td>\n",
       "      <td>1</td>\n",
       "      <td>1</td>\n",
       "      <td>1</td>\n",
       "      <td>4</td>\n",
       "      <td>1</td>\n",
       "      <td>-1</td>\n",
       "      <td>1</td>\n",
       "      <td>1</td>\n",
       "      <td>2</td>\n",
       "      <td>0</td>\n",
       "      <td>1</td>\n",
       "      <td>3</td>\n",
       "      <td>1</td>\n",
       "      <td>0</td>\n",
       "      <td>1</td>\n",
       "      <td>80</td>\n",
       "      <td>1</td>\n",
       "      <td>69283</td>\n",
       "      <td>1</td>\n",
       "      <td>1</td>\n",
       "      <td>1</td>\n",
       "      <td>5</td>\n",
       "      <td>45.67</td>\n",
       "      <td>4.94</td>\n",
       "      <td>2</td>\n",
       "      <td>5</td>\n",
       "      <td>0</td>\n",
       "      <td>2</td>\n",
       "      <td>1</td>\n",
       "      <td>13</td>\n",
       "      <td>1</td>\n",
       "      <td>4</td>\n",
       "      <td>6</td>\n",
       "      <td>1</td>\n",
       "      <td>236564</td>\n",
       "    </tr>\n",
       "    <tr>\n",
       "      <th>3</th>\n",
       "      <td>1</td>\n",
       "      <td>1</td>\n",
       "      <td>0</td>\n",
       "      <td>2</td>\n",
       "      <td>9</td>\n",
       "      <td>1</td>\n",
       "      <td>0</td>\n",
       "      <td>1</td>\n",
       "      <td>3</td>\n",
       "      <td>4</td>\n",
       "      <td>0</td>\n",
       "      <td>1</td>\n",
       "      <td>1</td>\n",
       "      <td>2</td>\n",
       "      <td>0</td>\n",
       "      <td>1</td>\n",
       "      <td>130</td>\n",
       "      <td>3</td>\n",
       "      <td>87014</td>\n",
       "      <td>1</td>\n",
       "      <td>1</td>\n",
       "      <td>2</td>\n",
       "      <td>5</td>\n",
       "      <td>46.09</td>\n",
       "      <td>1.36</td>\n",
       "      <td>2</td>\n",
       "      <td>6</td>\n",
       "      <td>1</td>\n",
       "      <td>0</td>\n",
       "      <td>3</td>\n",
       "      <td>2</td>\n",
       "      <td>1</td>\n",
       "      <td>7</td>\n",
       "      <td>7</td>\n",
       "      <td>6</td>\n",
       "      <td>262438</td>\n",
       "    </tr>\n",
       "    <tr>\n",
       "      <th>4</th>\n",
       "      <td>1</td>\n",
       "      <td>1</td>\n",
       "      <td>1</td>\n",
       "      <td>1</td>\n",
       "      <td>5</td>\n",
       "      <td>1</td>\n",
       "      <td>0</td>\n",
       "      <td>1</td>\n",
       "      <td>3</td>\n",
       "      <td>1</td>\n",
       "      <td>0</td>\n",
       "      <td>1</td>\n",
       "      <td>1</td>\n",
       "      <td>1</td>\n",
       "      <td>8</td>\n",
       "      <td>1</td>\n",
       "      <td>70</td>\n",
       "      <td>1</td>\n",
       "      <td>67462</td>\n",
       "      <td>1</td>\n",
       "      <td>1</td>\n",
       "      <td>1</td>\n",
       "      <td>2</td>\n",
       "      <td>48.29</td>\n",
       "      <td>7.46</td>\n",
       "      <td>1</td>\n",
       "      <td>3</td>\n",
       "      <td>4</td>\n",
       "      <td>2</td>\n",
       "      <td>1</td>\n",
       "      <td>1</td>\n",
       "      <td>1</td>\n",
       "      <td>3</td>\n",
       "      <td>6</td>\n",
       "      <td>5</td>\n",
       "      <td>182769</td>\n",
       "    </tr>\n",
       "  </tbody>\n",
       "</table>\n",
       "</div>"
      ],
      "text/plain": [
       "   place  catu  grav  sexe  trajet  secu1  locp  catr  circ  nbv  vosp  prof  \\\n",
       "0      1     1     1     2       5      1     0     4    -1    2     0     1   \n",
       "1      5     2     1     2       0      1    -1     7     2    4     0     2   \n",
       "2      1     1     1     1       4      1    -1     1     1    2     0     1   \n",
       "3      1     1     0     2       9      1     0     1     3    4     0     1   \n",
       "4      1     1     1     1       5      1     0     1     3    1     0     1   \n",
       "\n",
       "   plan  surf  infra  situ  vma  lum    com  agg  int  atm  col   lat  long  \\\n",
       "0     1     1      0     1   50    5  66136    2    2    1    3 42.70  2.89   \n",
       "1     1     1      0     1   50    5  13215    2    1    1    3 43.37  5.35   \n",
       "2     3     1      0     1   80    1  69283    1    1    1    5 45.67  4.94   \n",
       "3     1     2      0     1  130    3  87014    1    1    2    5 46.09  1.36   \n",
       "4     1     1      8     1   70    1  67462    1    1    1    2 48.29  7.46   \n",
       "\n",
       "   senc  catv  obs  obsm  choc  manv  motor  age_group  h_group  weekday  \\\n",
       "0     1     6    0     2     7     1      1          4        2        5   \n",
       "1     0     3    0     2     7     1      1          6        1        2   \n",
       "2     2     5    0     2     1    13      1          4        6        1   \n",
       "3     2     6    1     0     3     2      1          7        7        6   \n",
       "4     1     3    4     2     1     1      1          3        6        5   \n",
       "\n",
       "    index  \n",
       "0  422246  \n",
       "1  176315  \n",
       "2  236564  \n",
       "3  262438  \n",
       "4  182769  "
      ]
     },
     "execution_count": 3,
     "metadata": {},
     "output_type": "execute_result"
    }
   ],
   "source": [
    "# import du dataset\n",
    "df_train = pd.read_csv(\"dataset/df_train.csv\")\n",
    "df_train.head()\n",
    "\n",
    "df_test = pd.read_csv(\"dataset/df_test.csv\")\n",
    "df_test.head()"
   ]
  },
  {
   "cell_type": "markdown",
   "metadata": {
    "id": "LtgAHbTmFmPW"
   },
   "source": [
    "### Séparation des données"
   ]
  },
  {
   "cell_type": "code",
   "execution_count": 4,
   "metadata": {},
   "outputs": [],
   "source": [
    "X_train = df_train.drop([\"grav\",\"index\"], axis=1)\n",
    "y_train = df_train.grav\n",
    "\n",
    "X_test = df_test.drop([\"grav\",\"index\"], axis=1)\n",
    "y_test = df_test.grav"
   ]
  },
  {
   "cell_type": "markdown",
   "metadata": {
    "id": "hIXnsKh5FmPW"
   },
   "source": [
    "### Aperçu  de la performance relative des différents modèles de classification"
   ]
  },
  {
   "cell_type": "code",
   "execution_count": 5,
   "metadata": {
    "id": "BXUEUN0xFmPW"
   },
   "outputs": [],
   "source": [
    "\n",
    "models_list = [AdaBoostClassifier,XGBClassifier,LGBMClassifier,KNeighborsClassifier, ExtraTreesClassifier]\n"
   ]
  },
  {
   "cell_type": "code",
   "execution_count": 6,
   "metadata": {
    "id": "47oXwoL4FmPX",
    "outputId": "9061fc50-dc67-4535-d169-9437494c5693"
   },
   "outputs": [
    {
     "name": "stderr",
     "output_type": "stream",
     "text": [
      " 40%|████      | 2/5 [00:15<00:19,  6.46s/it]"
     ]
    },
    {
     "name": "stdout",
     "output_type": "stream",
     "text": [
      "[LightGBM] [Info] Number of positive: 212781, number of negative: 152361\n",
      "[LightGBM] [Info] Auto-choosing row-wise multi-threading, the overhead of testing was 0.013936 seconds.\n",
      "You can set `force_row_wise=true` to remove the overhead.\n",
      "And if memory is not enough, you can set `force_col_wise=true`.\n",
      "[LightGBM] [Info] Total Bins 1070\n",
      "[LightGBM] [Info] Number of data points in the train set: 365142, number of used features: 34\n",
      "[LightGBM] [Info] [binary:BoostFromScore]: pavg=0.582735 -> initscore=0.334011\n",
      "[LightGBM] [Info] Start training from score 0.334011\n"
     ]
    },
    {
     "name": "stderr",
     "output_type": "stream",
     "text": [
      "100%|██████████| 5/5 [01:12<00:00, 14.49s/it]\n"
     ]
    },
    {
     "name": "stdout",
     "output_type": "stream",
     "text": [
      "'tuple' object has no attribute '__name__'\n",
      "Invalid Classifier(s)\n"
     ]
    },
    {
     "name": "stderr",
     "output_type": "stream",
     "text": [
      " 40%|████      | 2/5 [00:15<00:19,  6.64s/it]"
     ]
    },
    {
     "name": "stdout",
     "output_type": "stream",
     "text": [
      "[LightGBM] [Info] Number of positive: 212781, number of negative: 152361\n",
      "[LightGBM] [Info] Auto-choosing row-wise multi-threading, the overhead of testing was 0.012716 seconds.\n",
      "You can set `force_row_wise=true` to remove the overhead.\n",
      "And if memory is not enough, you can set `force_col_wise=true`.\n",
      "[LightGBM] [Info] Total Bins 1070\n",
      "[LightGBM] [Info] Number of data points in the train set: 365142, number of used features: 34\n",
      "[LightGBM] [Info] [binary:BoostFromScore]: pavg=0.582735 -> initscore=0.334011\n",
      "[LightGBM] [Info] Start training from score 0.334011\n"
     ]
    },
    {
     "name": "stderr",
     "output_type": "stream",
     "text": [
      "100%|██████████| 5/5 [01:12<00:00, 14.49s/it]"
     ]
    },
    {
     "name": "stdout",
     "output_type": "stream",
     "text": [
      "[<class 'sklearn.ensemble._weight_boosting.AdaBoostClassifier'>, <class 'xgboost.sklearn.XGBClassifier'>, <class 'lightgbm.sklearn.LGBMClassifier'>, <class 'sklearn.neighbors._classification.KNeighborsClassifier'>, <class 'sklearn.ensemble._forest.ExtraTreesClassifier'>]\n"
     ]
    },
    {
     "name": "stderr",
     "output_type": "stream",
     "text": [
      "\n"
     ]
    }
   ],
   "source": [
    "# Initialiser LazyClassifier\n",
    "clf = LazyClassifier(verbose=0, ignore_warnings=True, custom_metric=None,\n",
    "                     predictions=True, classifiers=models_list)\n",
    "\n",
    "# Entrainer et évaluer les modèles\n",
    "models_train, predictions_train = clf.fit(X_train, X_test, y_train, y_test)\n",
    "models_test, predictions_test = clf.fit(X_train, X_test, y_train, y_test)\n",
    "# Afficher les résultats\n",
    "print(models_list)\n"
   ]
  },
  {
   "cell_type": "code",
   "execution_count": 7,
   "metadata": {
    "id": "-8LgDu9GFmPX",
    "outputId": "3ac1d50a-4d47-4cdb-9ba1-767d18ce7ed6"
   },
   "outputs": [
    {
     "data": {
      "text/html": [
       "<div>\n",
       "<style scoped>\n",
       "    .dataframe tbody tr th:only-of-type {\n",
       "        vertical-align: middle;\n",
       "    }\n",
       "\n",
       "    .dataframe tbody tr th {\n",
       "        vertical-align: top;\n",
       "    }\n",
       "\n",
       "    .dataframe thead th {\n",
       "        text-align: right;\n",
       "    }\n",
       "</style>\n",
       "<table border=\"1\" class=\"dataframe\">\n",
       "  <thead>\n",
       "    <tr style=\"text-align: right;\">\n",
       "      <th></th>\n",
       "      <th>Accuracy</th>\n",
       "      <th>Balanced Accuracy</th>\n",
       "      <th>ROC AUC</th>\n",
       "      <th>F1 Score</th>\n",
       "      <th>Time Taken</th>\n",
       "    </tr>\n",
       "    <tr>\n",
       "      <th>Model</th>\n",
       "      <th></th>\n",
       "      <th></th>\n",
       "      <th></th>\n",
       "      <th></th>\n",
       "      <th></th>\n",
       "    </tr>\n",
       "  </thead>\n",
       "  <tbody>\n",
       "    <tr>\n",
       "      <th>XGBClassifier</th>\n",
       "      <td>0.81</td>\n",
       "      <td>0.81</td>\n",
       "      <td>0.81</td>\n",
       "      <td>0.81</td>\n",
       "      <td>1.35</td>\n",
       "    </tr>\n",
       "    <tr>\n",
       "      <th>ExtraTreesClassifier</th>\n",
       "      <td>0.81</td>\n",
       "      <td>0.81</td>\n",
       "      <td>0.81</td>\n",
       "      <td>0.81</td>\n",
       "      <td>46.28</td>\n",
       "    </tr>\n",
       "    <tr>\n",
       "      <th>LGBMClassifier</th>\n",
       "      <td>0.81</td>\n",
       "      <td>0.80</td>\n",
       "      <td>0.80</td>\n",
       "      <td>0.81</td>\n",
       "      <td>1.27</td>\n",
       "    </tr>\n",
       "    <tr>\n",
       "      <th>AdaBoostClassifier</th>\n",
       "      <td>0.79</td>\n",
       "      <td>0.79</td>\n",
       "      <td>0.79</td>\n",
       "      <td>0.79</td>\n",
       "      <td>13.77</td>\n",
       "    </tr>\n",
       "    <tr>\n",
       "      <th>KNeighborsClassifier</th>\n",
       "      <td>0.75</td>\n",
       "      <td>0.75</td>\n",
       "      <td>0.75</td>\n",
       "      <td>0.75</td>\n",
       "      <td>9.75</td>\n",
       "    </tr>\n",
       "  </tbody>\n",
       "</table>\n",
       "</div>"
      ],
      "text/plain": [
       "                      Accuracy  Balanced Accuracy  ROC AUC  F1 Score  \\\n",
       "Model                                                                  \n",
       "XGBClassifier             0.81               0.81     0.81      0.81   \n",
       "ExtraTreesClassifier      0.81               0.81     0.81      0.81   \n",
       "LGBMClassifier            0.81               0.80     0.80      0.81   \n",
       "AdaBoostClassifier        0.79               0.79     0.79      0.79   \n",
       "KNeighborsClassifier      0.75               0.75     0.75      0.75   \n",
       "\n",
       "                      Time Taken  \n",
       "Model                             \n",
       "XGBClassifier               1.35  \n",
       "ExtraTreesClassifier       46.28  \n",
       "LGBMClassifier              1.27  \n",
       "AdaBoostClassifier         13.77  \n",
       "KNeighborsClassifier        9.75  "
      ]
     },
     "execution_count": 7,
     "metadata": {},
     "output_type": "execute_result"
    }
   ],
   "source": [
    "models_train"
   ]
  },
  {
   "cell_type": "code",
   "execution_count": 8,
   "metadata": {},
   "outputs": [
    {
     "data": {
      "text/plain": [
       "['models_saved/lazy_classifier.joblib']"
      ]
     },
     "execution_count": 8,
     "metadata": {},
     "output_type": "execute_result"
    }
   ],
   "source": [
    "# Sauvegarder les résultats\n",
    "joblib.dump(models_train, 'models_saved/lazy_classifier.joblib')"
   ]
  },
  {
   "cell_type": "markdown",
   "metadata": {
    "id": "6YRS6rPgFmPX"
   },
   "source": [
    "### Modélisation\n",
    "\n",
    "#### Modèle Adaboost"
   ]
  },
  {
   "cell_type": "code",
   "execution_count": 9,
   "metadata": {
    "id": "cgSH-jTNFmPX",
    "outputId": "6fe3050e-d7b8-4c50-b2b5-863cd0c8e3f3"
   },
   "outputs": [
    {
     "name": "stdout",
     "output_type": "stream",
     "text": [
      "Fitting 5 folds for each of 6 candidates, totalling 30 fits\n",
      "Meilleurs paramètres trouvés: {'algorithm': 'SAMME.R', 'learning_rate': 0.1, 'n_estimators': 800}\n",
      "Meilleur score de validation croisée: 0.812535601304711\n",
      "Matrice de confusion :\n",
      " [[30135  7956]\n",
      " [11165 42030]]\n"
     ]
    },
    {
     "data": {
      "image/png": "[encoded data removed]",
      "text/plain": [
       "<Figure size 800x600 with 2 Axes>"
      ]
     },
     "metadata": {},
     "output_type": "display_data"
    }
   ],
   "source": [
    "# model adaboost\n",
    "\n",
    "scaler = StandardScaler()\n",
    "\n",
    "X_train_scaled = scaler.fit_transform(X_train)\n",
    "X_test_scaled = scaler.transform(X_test)\n",
    "\n",
    "\n",
    "hp_ada = {\n",
    "    'n_estimators': [600, 700, 800],        # Nombre de classificateurs faibles\n",
    "    'learning_rate': [0.01, 0.1],     # Taux d'apprentissage : ajuste la contribution de chaque classificateur faible à la prédiction finale\n",
    "    'algorithm': ['SAMME.R']      # Algorithme utilisé: 'SAMME.R'\n",
    "}\n",
    "\n",
    "dtc = DecisionTreeClassifier(random_state=42, max_depth=1)\n",
    "\n",
    "gs_ada= GridSearchCV(estimator=AdaBoostClassifier(random_state=42, estimator=dtc),\n",
    "                     param_grid=hp_ada,\n",
    "                           cv = 5,  # Nombre de folds pour la validation croisée\n",
    "                           verbose = 3, # Affiche le degré de détail des calculs\n",
    "                           refit=True, # réentraine le modèle avec toutes les données\n",
    "                           scoring=\"f1\",\n",
    "                           n_jobs = -1)  # Utiliser etous les cours du CPU\n",
    "\n",
    "gs_ada.fit(X_train_scaled, y_train)\n",
    "\n",
    "best_hp_ada = gs_ada.best_params_\n",
    "best_score_ada = gs_ada.best_score_\n",
    "best_estimator_ada = gs_ada.best_estimator_\n",
    "\n",
    "print(\"Meilleurs paramètres trouvés:\", best_hp_ada)\n",
    "print(\"Meilleur score de validation croisée:\", best_score_ada)\n",
    "\n",
    "y_pred_ada = best_estimator_ada.predict(X_test_scaled)\n",
    "\n",
    "cm_ada = confusion_matrix(y_test, y_pred_ada)\n",
    "print(\"Matrice de confusion :\\n\", cm_ada)\n",
    "\n",
    "#row_sums_ada = cm_ada.sum(axis = 1)\n",
    "#cm_percent_ada = (cm_ada.T / row_sums_ada).T * 100\n",
    "\n",
    "cm_percent_ada = cm_ada.astype('float') / cm_ada.sum(axis=1)[:, np.newaxis] * 100\n",
    "\n",
    "\n",
    "plt.figure(figsize=(8, 6))\n",
    "sns.heatmap(cm_percent_ada, annot = True, fmt = \".2f\", cmap = \"Blues\")\n",
    "plt.xlabel('Classe prédite')\n",
    "plt.ylabel('Classe réelle')\n",
    "plt.title('Matrice de confusion avec pourcentages')\n",
    "plt.show();"
   ]
  },
  {
   "cell_type": "markdown",
   "metadata": {
    "id": "46sJ5acXFmPX"
   },
   "source": [
    "#### Sauvegarde du modèle"
   ]
  },
  {
   "cell_type": "code",
   "execution_count": 10,
   "metadata": {
    "id": "0ID01wkqFmPX"
   },
   "outputs": [
    {
     "data": {
      "text/plain": [
       "['models_saved/best_estimator_ada_model.joblib']"
      ]
     },
     "execution_count": 10,
     "metadata": {},
     "output_type": "execute_result"
    }
   ],
   "source": [
    "# Sauvegarder le modèle\n",
    "joblib.dump(best_estimator_ada, 'models_saved/best_estimator_ada_model.joblib')"
   ]
  },
  {
   "cell_type": "markdown",
   "metadata": {},
   "source": [
    "#### Modèle Random Forest Classifier"
   ]
  },
  {
   "cell_type": "code",
   "execution_count": 11,
   "metadata": {},
   "outputs": [
    {
     "name": "stdout",
     "output_type": "stream",
     "text": [
      "Meilleurs paramètres trouvés: <bound method BaseEstimator.get_params of RandomForestClassifier(random_state=42)>\n",
      "Matrice de confusion :\n",
      " [[30439  7652]\n",
      " [ 9267 43928]]\n"
     ]
    },
    {
     "data": {
      "image/png": "[encoded data removed]",
      "text/plain": [
       "<Figure size 800x600 with 2 Axes>"
      ]
     },
     "metadata": {},
     "output_type": "display_data"
    },
    {
     "name": "stdout",
     "output_type": "stream",
     "text": [
      "[0.03990293 0.03134351 0.0152261  0.02369087 0.01351158 0.02224427\n",
      " 0.01666631 0.01396233 0.01945496 0.00625401 0.01019532 0.00980528\n",
      " 0.0084554  0.01072554 0.00773937 0.02331236 0.01247187 0.05587568\n",
      " 0.01158316 0.01604782 0.01177034 0.04759401 0.06056232 0.06067711\n",
      " 0.01901507 0.16498982 0.03188728 0.04883438 0.03652321 0.03702645\n",
      " 0.01856679 0.03529952 0.02835758 0.03042748]\n",
      "F1-Score: 0.8385206394655214\n"
     ]
    }
   ],
   "source": [
    "scaler = StandardScaler()\n",
    "\n",
    "X_train_scaled = scaler.fit_transform(X_train)\n",
    "X_test_scaled = scaler.transform(X_test)\n",
    "\n",
    "\n",
    "# model baseline\n",
    "model = RandomForestClassifier(random_state=42).fit(X_train_scaled, y_train)\n",
    "y_pred_rf_1 = model.predict(X_test_scaled)\n",
    "\n",
    "best_hp_rf_1 = model.get_params\n",
    "print(\"Meilleurs paramètres trouvés:\", best_hp_rf_1)\n",
    "\n",
    "cm_rf_1 = confusion_matrix(y_test, y_pred_rf_1)\n",
    "print(\"Matrice de confusion :\\n\", cm_rf_1)\n",
    "\n",
    "row_sums_rf_1 = cm_rf_1.sum(axis = 1)\n",
    "cm_percent_rf_1 = (cm_rf_1.T / row_sums_rf_1).T * 100\n",
    "\n",
    "plt.figure(figsize=(8, 6))\n",
    "sns.heatmap(cm_percent_rf_1, annot = True, fmt = \".2f\", cmap = \"Blues\")\n",
    "plt.xlabel('Classe prédite')\n",
    "plt.ylabel('Classe réelle')\n",
    "plt.title('Matrice de confusion avec pourcentages')\n",
    "plt.show();\n",
    "\n",
    "importances_model = model.feature_importances_\n",
    "print(importances_model)\n",
    "\n",
    "accuracy_score(y_test, y_pred_rf_1)\n",
    "\n",
    "\n",
    "f1 = f1_score(y_test, y_pred_rf_1, average='binary')  \n",
    "print(f\"F1-Score: {f1}\")"
   ]
  },
  {
   "cell_type": "code",
   "execution_count": 12,
   "metadata": {},
   "outputs": [
    {
     "data": {
      "text/plain": [
       "['models_saved/rf_model.joblib']"
      ]
     },
     "execution_count": 12,
     "metadata": {},
     "output_type": "execute_result"
    }
   ],
   "source": [
    "# Sauvegarder les résultats\n",
    "joblib.dump(model, 'models_saved/rf_model.joblib')"
   ]
  },
  {
   "cell_type": "markdown",
   "metadata": {
    "id": "qzU1cpjdFmPX"
   },
   "source": [
    "#### Modèle ExtraTreesClassifier"
   ]
  },
  {
   "cell_type": "code",
   "execution_count": 13,
   "metadata": {
    "id": "sniY5XHgFmPX",
    "outputId": "b11050b6-65ce-493e-d5b1-cc0c6e52a9b0"
   },
   "outputs": [
    {
     "name": "stdout",
     "output_type": "stream",
     "text": [
      "ExtraTreesClassifier Accuracy: 0.81\n",
      "\n",
      "Classification Report:\n",
      "              precision    recall  f1-score   support\n",
      "\n",
      "           0       0.76      0.79      0.78     38091\n",
      "           1       0.85      0.82      0.83     53195\n",
      "\n",
      "    accuracy                           0.81     91286\n",
      "   macro avg       0.80      0.81      0.80     91286\n",
      "weighted avg       0.81      0.81      0.81     91286\n",
      "\n"
     ]
    }
   ],
   "source": [
    "# ExtraTreesClassifier\n",
    "\n",
    "scaler = StandardScaler()\n",
    "\n",
    "X_train_scaled = scaler.fit_transform(X_train)\n",
    "X_test_scaled = scaler.transform(X_test)\n",
    "\n",
    "# Initialiser et entraîner le modèle ExtraTreesClassifier\n",
    "et_clf = ExtraTreesClassifier(n_estimators=100, random_state=42)\n",
    "et_clf.fit(X_train_scaled, y_train)\n",
    "\n",
    "# Prédire les valeurs pour l'ensemble de test\n",
    "y_pred_extrTr = et_clf.predict(X_test_scaled)\n",
    "\n",
    "# Évaluer le modèle\n",
    "accuracy_et = accuracy_score(y_test, y_pred_extrTr)\n",
    "report_et = classification_report(y_test, y_pred_extrTr)\n",
    "\n",
    "# Afficher les résultats\n",
    "print(f\"ExtraTreesClassifier Accuracy: {accuracy_et:.2f}\")\n",
    "print(\"\\nClassification Report:\")\n",
    "print(report_et)"
   ]
  },
  {
   "cell_type": "code",
   "execution_count": 14,
   "metadata": {},
   "outputs": [
    {
     "name": "stdout",
     "output_type": "stream",
     "text": [
      "Matrice de confusion :\n",
      " [[30054  8037]\n",
      " [ 9360 43835]]\n"
     ]
    },
    {
     "data": {
      "image/png": "[encoded data removed]",
      "text/plain": [
       "<Figure size 800x600 with 2 Axes>"
      ]
     },
     "metadata": {},
     "output_type": "display_data"
    }
   ],
   "source": [
    "cm_et = confusion_matrix(y_test, y_pred_extrTr)\n",
    "print(\"Matrice de confusion :\\n\", cm_et)\n",
    "\n",
    "row_sums_et = cm_et.sum(axis = 1)\n",
    "cm_percent_et = (cm_et.T / row_sums_et).T * 100\n",
    "\n",
    "plt.figure(figsize=(8, 6))\n",
    "sns.heatmap(cm_percent_et, annot = True, fmt = \".2f\", cmap = \"Blues\")\n",
    "plt.xlabel('Classe prédite')\n",
    "plt.ylabel('Classe réelle')\n",
    "plt.title('Matrice de confusion avec pourcentages')\n",
    "plt.show();"
   ]
  },
  {
   "cell_type": "code",
   "execution_count": 15,
   "metadata": {},
   "outputs": [
    {
     "data": {
      "text/plain": [
       "['Brouillons/extra_tree_classifier_model.joblib']"
      ]
     },
     "execution_count": 15,
     "metadata": {},
     "output_type": "execute_result"
    }
   ],
   "source": [
    "# Sauvegarder le modèle\n",
    "joblib.dump(et_clf, 'Brouillons/extra_tree_classifier_model.joblib')"
   ]
  },
  {
   "cell_type": "markdown",
   "metadata": {
    "id": "crdCkOKmFmPY"
   },
   "source": [
    "#### Modèle XGBClassifier"
   ]
  },
  {
   "cell_type": "code",
   "execution_count": 16,
   "metadata": {
    "id": "w2BmyMIvFmPY",
    "outputId": "f8632590-fae6-4694-fe5b-d9fdfdd60a9a"
   },
   "outputs": [
    {
     "name": "stdout",
     "output_type": "stream",
     "text": [
      "XGBClassifier Accuracy: 0.81\n",
      "\n",
      "Classification Report:\n",
      "              precision    recall  f1-score   support\n",
      "\n",
      "           0       0.77      0.79      0.78     38091\n",
      "           1       0.84      0.83      0.84     53195\n",
      "\n",
      "    accuracy                           0.81     91286\n",
      "   macro avg       0.81      0.81      0.81     91286\n",
      "weighted avg       0.81      0.81      0.81     91286\n",
      "\n"
     ]
    }
   ],
   "source": [
    "# XGBClassifier\n",
    "\n",
    "# Initialiser et entraîner le modèle XGBClassifier\n",
    "xgb_clf = XGBClassifier(use_label_encoder=False)\n",
    "xgb_clf.fit(X_train, y_train)\n",
    "\n",
    "# Prédire les valeurs pour l'ensemble de test\n",
    "y_pred_xgb = xgb_clf.predict(X_test)\n",
    "\n",
    "# Évaluer le modèle\n",
    "accuracy_xgb = accuracy_score(y_test, y_pred_xgb)\n",
    "report_xgb = classification_report(y_test, y_pred_xgb)\n",
    "# Afficher les résultats\n",
    "print(f\"XGBClassifier Accuracy: {accuracy_xgb:.2f}\")\n",
    "print(\"\\nClassification Report:\")\n",
    "print(report_xgb)"
   ]
  },
  {
   "cell_type": "code",
   "execution_count": 17,
   "metadata": {},
   "outputs": [
    {
     "data": {
      "text/plain": [
       "['models_saved/GBClassifier_model.joblib']"
      ]
     },
     "execution_count": 17,
     "metadata": {},
     "output_type": "execute_result"
    }
   ],
   "source": [
    "# Sauvegarder le modèle\n",
    "joblib.dump(xgb_clf, 'models_saved/GBClassifier_model.joblib')"
   ]
  },
  {
   "cell_type": "markdown",
   "metadata": {
    "id": "srC9xJjwFmPY"
   },
   "source": [
    "#### Modèle LGBMClassifier"
   ]
  },
  {
   "cell_type": "code",
   "execution_count": 18,
   "metadata": {
    "id": "iueD1w-TFmPY",
    "outputId": "7649e790-3075-4496-f5bf-9f14a76659eb"
   },
   "outputs": [
    {
     "name": "stdout",
     "output_type": "stream",
     "text": [
      "[LightGBM] [Warning] Unknown parameter: use_label_encoder\n",
      "[LightGBM] [Warning] Unknown parameter: eval_metric\n",
      "[LightGBM] [Warning] Unknown parameter: use_label_encoder\n",
      "[LightGBM] [Warning] Unknown parameter: eval_metric\n",
      "[LightGBM] [Info] Number of positive: 212781, number of negative: 152361\n",
      "[LightGBM] [Info] Auto-choosing row-wise multi-threading, the overhead of testing was 0.013624 seconds.\n",
      "You can set `force_row_wise=true` to remove the overhead.\n",
      "And if memory is not enough, you can set `force_col_wise=true`.\n",
      "[LightGBM] [Info] Total Bins 1058\n",
      "[LightGBM] [Info] Number of data points in the train set: 365142, number of used features: 34\n",
      "[LightGBM] [Info] [binary:BoostFromScore]: pavg=0.582735 -> initscore=0.334011\n",
      "[LightGBM] [Info] Start training from score 0.334011\n",
      "[LightGBM] [Warning] Unknown parameter: use_label_encoder\n",
      "[LightGBM] [Warning] Unknown parameter: eval_metric\n",
      "LGBMClassifier Accuracy: 0.81\n",
      "\n",
      "Classification Report:\n",
      "              precision    recall  f1-score   support\n",
      "\n",
      "           0       0.77      0.78      0.77     38091\n",
      "           1       0.84      0.83      0.84     53195\n",
      "\n",
      "    accuracy                           0.81     91286\n",
      "   macro avg       0.80      0.81      0.80     91286\n",
      "weighted avg       0.81      0.81      0.81     91286\n",
      "\n"
     ]
    }
   ],
   "source": [
    "# LGBMClassifier\n",
    "\n",
    "# LightGBM : lightgbm.LGBMClassifier\n",
    "# Initialiser et entraîner le modèle LightGBM\n",
    "lig_clf = LGBMClassifier(use_label_encoder=False, eval_metric='logloss')\n",
    "lig_clf.fit(X_train, y_train)\n",
    "\n",
    "# Prédire les valeurs pour l'ensemble de test\n",
    "y_pred_lgbm = lig_clf.predict(X_test)\n",
    "\n",
    "# Évaluer le modèle\n",
    "accuracy_lgbm = accuracy_score(y_test, y_pred_lgbm)\n",
    "report_lgbm = classification_report(y_test, y_pred_lgbm)\n",
    "\n",
    "# Afficher les résultats\n",
    "print(f\"LGBMClassifier Accuracy: {accuracy_lgbm:.2f}\")\n",
    "print(\"\\nClassification Report:\")\n",
    "print(report_lgbm)"
   ]
  },
  {
   "cell_type": "code",
   "execution_count": 19,
   "metadata": {},
   "outputs": [
    {
     "data": {
      "text/plain": [
       "['models_saved/LGBMClassifier_model.joblib']"
      ]
     },
     "execution_count": 19,
     "metadata": {},
     "output_type": "execute_result"
    }
   ],
   "source": [
    "# Sauvegarder le modèle\n",
    "joblib.dump(lig_clf, 'models_saved/LGBMClassifier_model.joblib')"
   ]
  },
  {
   "cell_type": "markdown",
   "metadata": {
    "id": "W6gTqBv6FmPY"
   },
   "source": [
    "#### Modèle KNeighborsClassifier"
   ]
  },
  {
   "cell_type": "code",
   "execution_count": 20,
   "metadata": {
    "id": "rMuRq4E9FmPY",
    "outputId": "1c86528e-c813-40b4-bfc4-c616649c7811"
   },
   "outputs": [
    {
     "name": "stdout",
     "output_type": "stream",
     "text": [
      "KNeighborsClassifier Accuracy: 0.65\n",
      "\n",
      "Classification Report:\n",
      "              precision    recall  f1-score   support\n",
      "\n",
      "           0       0.58      0.62      0.60     38091\n",
      "           1       0.71      0.67      0.69     53195\n",
      "\n",
      "    accuracy                           0.65     91286\n",
      "   macro avg       0.64      0.65      0.64     91286\n",
      "weighted avg       0.66      0.65      0.65     91286\n",
      "\n"
     ]
    }
   ],
   "source": [
    "# # KNeighborsClassifier\n",
    "\n",
    "# # Initialiser et entraîner le modèle KNeighborsClassifier\n",
    "knn_clf = KNeighborsClassifier(n_neighbors=3)\n",
    "knn_clf.fit(X_train, y_train)\n",
    "\n",
    " # Prédire les valeurs pour l'ensemble de test\n",
    "y_pred_knn = knn_clf.predict(X_test)\n",
    "\n",
    "# # Évaluer le modèle\n",
    "accuracy_knn = accuracy_score(y_test, y_pred_knn)\n",
    "report_knn = classification_report(y_test, y_pred_knn)\n",
    "\n",
    "# # Afficher les résultats\n",
    "print(f\"KNeighborsClassifier Accuracy: {accuracy_knn:.2f}\")\n",
    "print(\"\\nClassification Report:\")\n",
    "print(report_knn)"
   ]
  },
  {
   "cell_type": "code",
   "execution_count": 21,
   "metadata": {},
   "outputs": [
    {
     "data": {
      "text/plain": [
       "['models_saved/KNeighborsClassifier_model.joblib']"
      ]
     },
     "execution_count": 21,
     "metadata": {},
     "output_type": "execute_result"
    }
   ],
   "source": [
    "# Sauvegarder le modèle\n",
    "joblib.dump(knn_clf, 'models_saved/KNeighborsClassifier_model.joblib')"
   ]
  },
  {
   "cell_type": "markdown",
   "metadata": {
    "id": "4nqebVYLFmPY"
   },
   "source": [
    "### Cross Validation"
   ]
  },
  {
   "cell_type": "code",
   "execution_count": 22,
   "metadata": {},
   "outputs": [],
   "source": [
    "################################### Verifier #######################################"
   ]
  },
  {
   "cell_type": "code",
   "execution_count": 23,
   "metadata": {},
   "outputs": [],
   "source": [
    "#X = df.drop(['trajet','age_group', 'long', 'motor', 'vosp', 'lum', 'agg', 'com', 'situ','grav', 'infra', 'surf', 'plan', 'circ', 'atm', 'senc', 'int', 'prof', 'nbv', 'weekday'], axis=1)\n",
    "#y = df.grav\n",
    "\n",
    "X_train = df_train.drop(['trajet','age_group', 'long', 'motor', 'vosp', 'lum', 'agg', 'com', 'situ','grav', 'infra', 'surf', 'plan', 'circ', 'atm', 'senc', 'int', 'prof', 'nbv', 'weekday'], axis=1)\n",
    "y_train = df_train.grav"
   ]
  },
  {
   "cell_type": "code",
   "execution_count": 24,
   "metadata": {},
   "outputs": [],
   "source": [
    "X_test = df_test.drop(['trajet','age_group', 'long', 'motor', 'vosp', 'lum', 'agg', 'com', 'situ','grav', 'infra', 'surf', 'plan', 'circ', 'atm', 'senc', 'int', 'prof', 'nbv', 'weekday'], axis=1)\n",
    "y_test = df_test.grav\n"
   ]
  },
  {
   "cell_type": "code",
   "execution_count": 25,
   "metadata": {
    "id": "zRPNONVxFmPY",
    "outputId": "a7fcc331-19a6-4a92-8c50-7f9b90d47ae1"
   },
   "outputs": [
    {
     "name": "stdout",
     "output_type": "stream",
     "text": [
      "Scores de validation croisée :  [0.80763806 0.80963727 0.80681382 0.80903215 0.80992222]\n",
      "Score moyen :  0.8086087054956209\n",
      "Ecart type  :  0.0011938439862934245\n"
     ]
    }
   ],
   "source": [
    "# Cross validation - XGBClassifier - KFold = 5\n",
    "\n",
    "# Initialisation du modèle\n",
    "model_xgbc = XGBClassifier()\n",
    "\n",
    "# Configuration de la validation croisée K-Fold\n",
    "kf_xgbc = KFold(n_splits=5, shuffle=True, random_state=42)\n",
    "\n",
    "# Évaluation du modèle avec la validation croisée\n",
    "scores_xgbc = cross_val_score(model_xgbc, X_train, y_train, cv=kf_xgbc)\n",
    "std_score_xgbc = np.std(scores_xgbc)    # Écart-type des scores\n",
    "print(\"Scores de validation croisée : \", scores_xgbc)\n",
    "print(\"Score moyen : \", scores_xgbc.mean())\n",
    "print(\"Ecart type  : \", std_score_xgbc)"
   ]
  },
  {
   "cell_type": "code",
   "execution_count": 26,
   "metadata": {
    "id": "yaH59jcmFmPY",
    "outputId": "e6b9428f-38e5-493f-a138-1d7c23b0b7b7"
   },
   "outputs": [
    {
     "name": "stdout",
     "output_type": "stream",
     "text": [
      "Scores de validation croisée :  [0.7856331  0.78635884 0.78624637 0.78966972 0.78830038]\n",
      "Score moyen :  0.7872416826643249\n",
      "Ecart type moyen :  0.0015082276212912116\n"
     ]
    }
   ],
   "source": [
    "# Cross validation - AdaBoostClassifier\n",
    "\n",
    "# Initialisation du modèle\n",
    "model_ada = AdaBoostClassifier()\n",
    "\n",
    "# Configuration de la validation croisée K-Fold\n",
    "kf_ada = KFold(n_splits=5, shuffle=True, random_state=42)\n",
    "\n",
    "# Évaluation du modèle avec la validation croisée\n",
    "scores_ada = cross_val_score(model_ada, X_train, y_train, cv=kf_ada)\n",
    "std_score_ada = np.std(scores_ada)    # Écart-type des scores\n",
    "print(\"Scores de validation croisée : \", scores_ada)\n",
    "print(\"Score moyen : \", scores_ada.mean())\n",
    "print(\"Ecart type moyen : \", std_score_ada)"
   ]
  },
  {
   "cell_type": "code",
   "execution_count": 27,
   "metadata": {
    "id": "pwtOS23vFmPY",
    "outputId": "aa935c5c-dfc7-4214-cbbb-555ef6b78d9a"
   },
   "outputs": [
    {
     "name": "stdout",
     "output_type": "stream",
     "text": [
      "Scores de validation croisée :  [0.7904668  0.79028879 0.7919839  0.78998466 0.79036808]\n",
      "Score moyen :  0.7906184456493668\n",
      "Ecart type moyen :  0.000701496905051997\n"
     ]
    }
   ],
   "source": [
    "# Cross validation - ExtraTreesClassifier\n",
    "\n",
    "# Initialisation du modèle\n",
    "model_et = ExtraTreesClassifier()\n",
    "\n",
    "# Configuration de la validation croisée K-Fold\n",
    "kf_et = KFold(n_splits=5, shuffle=True, random_state=42)\n",
    "\n",
    "# Évaluation du modèle avec la validation croisée\n",
    "scores_et = cross_val_score(model_et, X_train, y_train, cv=kf_et)\n",
    "std_score_et = np.std(scores_et)    # Écart-type des scores\n",
    "print(\"Scores de validation croisée : \", scores_et)\n",
    "print(\"Score moyen : \", scores_et.mean())\n",
    "print(\"Ecart type moyen : \", std_score_et)"
   ]
  },
  {
   "cell_type": "code",
   "execution_count": 28,
   "metadata": {
    "id": "W_bs-vtkFmPY",
    "outputId": "655d6e09-9add-4351-ddac-7faec96a266b"
   },
   "outputs": [
    {
     "name": "stdout",
     "output_type": "stream",
     "text": [
      "[LightGBM] [Info] Number of positive: 169997, number of negative: 122116\n",
      "[LightGBM] [Info] Auto-choosing row-wise multi-threading, the overhead of testing was 0.005359 seconds.\n",
      "You can set `force_row_wise=true` to remove the overhead.\n",
      "And if memory is not enough, you can set `force_col_wise=true`.\n",
      "[LightGBM] [Info] Total Bins 669\n",
      "[LightGBM] [Info] Number of data points in the train set: 292113, number of used features: 16\n",
      "[LightGBM] [Info] [binary:BoostFromScore]: pavg=0.581956 -> initscore=0.330809\n",
      "[LightGBM] [Info] Start training from score 0.330809\n",
      "[LightGBM] [Info] Number of positive: 170178, number of negative: 121935\n",
      "[LightGBM] [Info] Auto-choosing row-wise multi-threading, the overhead of testing was 0.006032 seconds.\n",
      "You can set `force_row_wise=true` to remove the overhead.\n",
      "And if memory is not enough, you can set `force_col_wise=true`.\n",
      "[LightGBM] [Info] Total Bins 671\n",
      "[LightGBM] [Info] Number of data points in the train set: 292113, number of used features: 16\n",
      "[LightGBM] [Info] [binary:BoostFromScore]: pavg=0.582576 -> initscore=0.333357\n",
      "[LightGBM] [Info] Start training from score 0.333357\n",
      "[LightGBM] [Info] Number of positive: 170193, number of negative: 121921\n",
      "[LightGBM] [Info] Auto-choosing row-wise multi-threading, the overhead of testing was 0.005887 seconds.\n",
      "You can set `force_row_wise=true` to remove the overhead.\n",
      "And if memory is not enough, you can set `force_col_wise=true`.\n",
      "[LightGBM] [Info] Total Bins 669\n",
      "[LightGBM] [Info] Number of data points in the train set: 292114, number of used features: 16\n",
      "[LightGBM] [Info] [binary:BoostFromScore]: pavg=0.582625 -> initscore=0.333560\n",
      "[LightGBM] [Info] Start training from score 0.333560\n",
      "[LightGBM] [Info] Number of positive: 170526, number of negative: 121588\n",
      "[LightGBM] [Info] Auto-choosing row-wise multi-threading, the overhead of testing was 0.005470 seconds.\n",
      "You can set `force_row_wise=true` to remove the overhead.\n",
      "And if memory is not enough, you can set `force_col_wise=true`.\n",
      "[LightGBM] [Info] Total Bins 670\n",
      "[LightGBM] [Info] Number of data points in the train set: 292114, number of used features: 16\n",
      "[LightGBM] [Info] [binary:BoostFromScore]: pavg=0.583765 -> initscore=0.338249\n",
      "[LightGBM] [Info] Start training from score 0.338249\n",
      "[LightGBM] [Info] Number of positive: 170230, number of negative: 121884\n",
      "[LightGBM] [Info] Auto-choosing row-wise multi-threading, the overhead of testing was 0.005683 seconds.\n",
      "You can set `force_row_wise=true` to remove the overhead.\n",
      "And if memory is not enough, you can set `force_col_wise=true`.\n",
      "[LightGBM] [Info] Total Bins 671\n",
      "[LightGBM] [Info] Number of data points in the train set: 292114, number of used features: 16\n",
      "[LightGBM] [Info] [binary:BoostFromScore]: pavg=0.582752 -> initscore=0.334081\n",
      "[LightGBM] [Info] Start training from score 0.334081\n",
      "Scores de validation croisée :  [0.80463925 0.80651522 0.80440379 0.80823794 0.8064441 ]\n",
      "Score moyen :  0.8060480605946406\n",
      "Ecart type moyen :  0.001404208438409331\n"
     ]
    }
   ],
   "source": [
    "# Cross validation - LGBMClassifier\n",
    "\n",
    "# Initialisation du modèle\n",
    "model_lgbm = LGBMClassifier()\n",
    "\n",
    "# Configuration de la validation croisée K-Fold\n",
    "kf_lgbm = KFold(n_splits=5, shuffle=True, random_state=42)\n",
    "\n",
    "# Évaluation du modèle avec la validation croisée\n",
    "scores_lgbm = cross_val_score(model_lgbm, X_train, y_train, cv=kf_lgbm)\n",
    "std_score_lgbm = np.std(scores_lgbm)    # Écart-type des scores\n",
    "print(\"Scores de validation croisée : \", scores_lgbm)\n",
    "print(\"Score moyen : \", scores_lgbm.mean())\n",
    "print(\"Ecart type moyen : \", std_score_lgbm)\n"
   ]
  },
  {
   "cell_type": "markdown",
   "metadata": {
    "id": "NToNRCt1FmPZ"
   },
   "source": [
    "### Comparaison des scores pour chaque modèle"
   ]
  },
  {
   "cell_type": "code",
   "execution_count": 29,
   "metadata": {},
   "outputs": [
    {
     "ename": "FileNotFoundError",
     "evalue": "[Errno 2] No such file or directory: 'Brouillons/rf_model.joblib'",
     "output_type": "error",
     "traceback": [
      "\u001b[1;31m---------------------------------------------------------------------------\u001b[0m",
      "\u001b[1;31mFileNotFoundError\u001b[0m                         Traceback (most recent call last)",
      "Cell \u001b[1;32mIn[29], line 6\u001b[0m\n\u001b[0;32m      4\u001b[0m lgbm_model \u001b[38;5;241m=\u001b[39m joblib\u001b[38;5;241m.\u001b[39mload(\u001b[38;5;124m'\u001b[39m\u001b[38;5;124mmodels_saved/LGBMClassifier_model.joblib\u001b[39m\u001b[38;5;124m'\u001b[39m)\n\u001b[0;32m      5\u001b[0m knn_model \u001b[38;5;241m=\u001b[39m joblib\u001b[38;5;241m.\u001b[39mload(\u001b[38;5;124m'\u001b[39m\u001b[38;5;124mmodels_saved/KNeighborsClassifier_model.joblib\u001b[39m\u001b[38;5;124m'\u001b[39m)\n\u001b[1;32m----> 6\u001b[0m rf_model \u001b[38;5;241m=\u001b[39m joblib\u001b[38;5;241m.\u001b[39mload(\u001b[38;5;124m'\u001b[39m\u001b[38;5;124mBrouillons/rf_model.joblib\u001b[39m\u001b[38;5;124m'\u001b[39m)\n\u001b[0;32m      8\u001b[0m models \u001b[38;5;241m=\u001b[39m {\n\u001b[0;32m      9\u001b[0m     \u001b[38;5;124m'\u001b[39m\u001b[38;5;124mAdaBoostClassifier\u001b[39m\u001b[38;5;124m'\u001b[39m: ada_model,\n\u001b[0;32m     10\u001b[0m     \u001b[38;5;124m'\u001b[39m\u001b[38;5;124mExtraTreesClassifier\u001b[39m\u001b[38;5;124m'\u001b[39m: et_model,\n\u001b[1;32m   (...)\u001b[0m\n\u001b[0;32m     14\u001b[0m    \u001b[38;5;124m'\u001b[39m\u001b[38;5;124mRandom Forest Classifier\u001b[39m\u001b[38;5;124m'\u001b[39m : rf_model\n\u001b[0;32m     15\u001b[0m    }\n\u001b[0;32m     17\u001b[0m \u001b[38;5;66;03m# Liste pour stocker les résultats\u001b[39;00m\n",
      "File \u001b[1;32m~\\anaconda3\\envs\\Projet_accidents_routiers\\Lib\\site-packages\\joblib\\numpy_pickle.py:650\u001b[0m, in \u001b[0;36mload\u001b[1;34m(filename, mmap_mode)\u001b[0m\n\u001b[0;32m    648\u001b[0m         obj \u001b[38;5;241m=\u001b[39m _unpickle(fobj)\n\u001b[0;32m    649\u001b[0m \u001b[38;5;28;01melse\u001b[39;00m:\n\u001b[1;32m--> 650\u001b[0m     \u001b[38;5;28;01mwith\u001b[39;00m \u001b[38;5;28mopen\u001b[39m(filename, \u001b[38;5;124m'\u001b[39m\u001b[38;5;124mrb\u001b[39m\u001b[38;5;124m'\u001b[39m) \u001b[38;5;28;01mas\u001b[39;00m f:\n\u001b[0;32m    651\u001b[0m         \u001b[38;5;28;01mwith\u001b[39;00m _read_fileobject(f, filename, mmap_mode) \u001b[38;5;28;01mas\u001b[39;00m fobj:\n\u001b[0;32m    652\u001b[0m             \u001b[38;5;28;01mif\u001b[39;00m \u001b[38;5;28misinstance\u001b[39m(fobj, \u001b[38;5;28mstr\u001b[39m):\n\u001b[0;32m    653\u001b[0m                 \u001b[38;5;66;03m# if the returned file object is a string, this means we\u001b[39;00m\n\u001b[0;32m    654\u001b[0m                 \u001b[38;5;66;03m# try to load a pickle file generated with an version of\u001b[39;00m\n\u001b[0;32m    655\u001b[0m                 \u001b[38;5;66;03m# Joblib so we load it with joblib compatibility function.\u001b[39;00m\n",
      "\u001b[1;31mFileNotFoundError\u001b[0m: [Errno 2] No such file or directory: 'Brouillons/rf_model.joblib'"
     ]
    }
   ],
   "source": [
    "ada_model = joblib.load('models_saved/best_estimator_ada_model.joblib')\n",
    "et_model = joblib.load('Brouillons/extra_tree_classifier_model.joblib')\n",
    "xgbc_model = joblib.load('models_saved/GBClassifier_model.joblib')\n",
    "lgbm_model = joblib.load('models_saved/LGBMClassifier_model.joblib')\n",
    "knn_model = joblib.load('models_saved/KNeighborsClassifier_model.joblib')\n",
    "rf_model = joblib.load('Brouillons/rf_model.joblib')\n",
    "\n",
    "models = {\n",
    "    'AdaBoostClassifier': ada_model,\n",
    "    'ExtraTreesClassifier': et_model,\n",
    "    'XGBClassifier': xgbc_model,\n",
    "    'LGBMClassifier' : lgbm_model,\n",
    "   'KNeighborsClassifier' : knn_model,\n",
    "   'Random Forest Classifier' : rf_model\n",
    "   }\n",
    "\n",
    "# Liste pour stocker les résultats\n",
    "results = []\n",
    "\n",
    "for name, model in models.items():\n",
    "    results_pred = model.predict(X_test)\n",
    "    \n",
    "    results.append({\n",
    "        'Model': name,\n",
    "        'Accuracy': accuracy_score(y_test, results_pred),\n",
    "        'Ecart_type': np.std(results_pred),\n",
    "        'f1_score': f1_score(y_test, results_pred),\n",
    "        'recall_score' : recall_score(y_test, results_pred),\n",
    "        'precision_score' : precision_score(y_test, results_pred)\n",
    "            })\n",
    "   \n",
    "results_df = pd.DataFrame(results)\n",
    "\n",
    "# Afficher le résultat\n",
    "results_df"
   ]
  },
  {
   "cell_type": "markdown",
   "metadata": {
    "id": "-TPd9vUUFmPZ"
   },
   "source": [
    "### Analyse des résultats"
   ]
  },
  {
   "cell_type": "code",
   "execution_count": null,
   "metadata": {},
   "outputs": [],
   "source": [
    "y_pred_ada = ada_model.predict(X_test)\n",
    "y_pred_et = et_model.predict(X_test)\n",
    "y_pred_xgbc = xgbc_model.predict(X_test)\n",
    "y_pred_lgbm = lgbm_model.predict(X_test)\n",
    "y_pred_knn = knn_model.predict(X_test)\n",
    "y_pred_rf = rf_model.predict(X_test)"
   ]
  },
  {
   "cell_type": "code",
   "execution_count": null,
   "metadata": {
    "id": "2iAYQnXWFmPZ"
   },
   "outputs": [],
   "source": [
    "# création d'un df pour ajouter les prédictions au dataset\n",
    "#df_filtered = df.copy()\n",
    "df_filtered = df.iloc[:len(y_test)]\n",
    "\n",
    "df_filtered['gravite'] = df['grav']\n",
    "df_filtered = df_filtered.drop(['grav'], axis=1)\n",
    "\n",
    "df_filtered['pred_ada'] = y_pred_ada\n",
    "df_filtered['pred_extrTr'] = y_pred_et\n",
    "df_filtered['pred_xgb'] = y_pred_xgbc\n",
    "df_filtered['pred_lgbm'] = y_pred_lgbm\n",
    "df_filtered['pred_knn'] = y_pred_knn\n",
    "print(df_filtered.shape)\n",
    "df_filtered.head()"
   ]
  },
  {
   "cell_type": "code",
   "execution_count": null,
   "metadata": {},
   "outputs": [],
   "source": [
    "df_bis = pd.read_csv(\"dataset/dataset_analyse.csv\")\n",
    "df_bis.head()"
   ]
  },
  {
   "cell_type": "code",
   "execution_count": null,
   "metadata": {},
   "outputs": [],
   "source": [
    "#df_filtered = df.iloc[:len(y_test)]\n",
    "#df_filtered\n",
    "\n",
    "df_bis[\"lat\"] = [str(value) for value in df_bis[\"lat\"]]\n",
    "df_bis[\"lat\"] = [value.replace(',', '.') for value in df_bis[\"lat\"]]\n",
    "df_bis[\"lat\"] = df_bis[\"lat\"].astype(float)\n",
    "df_bis[\"long\"] = [str(value) for value in df_bis[\"long\"]]\n",
    "df_bis[\"long\"] = [value.replace(',', '.') for value in df_bis[\"long\"]]\n",
    "df_bis[\"long\"] = df_bis[\"long\"].astype(float)\n",
    "\n",
    "\n",
    "df_temp = pd.merge(df_filtered.drop(['nbv', 'trajet','locp', 'catv',\"secu1\", 'place'], axis=1), \n",
    "                   df_bis.drop(['com', 'dep','lartpc','larrout','occutc', 'pr', 'pr1','v2'], axis=1), \n",
    "                   on=[ 'circ', 'catr','lat', 'long', 'sexe', 'catu', 'vosp', 'prof', 'plan', 'surf', 'infra',\n",
    "                        'situ','vma','lum','agg', 'choc', 'int', 'atm', 'col', 'senc', 'obs', \n",
    "                        'obsm', 'manv', 'motor'], how='left' \n",
    "                    )\n",
    "print(df_filtered.shape)\n",
    "print(df_temp.shape)\n",
    "print(df_temp.an.value_counts())\n",
    "print(df_bis.an.value_counts())\n",
    "df_temp.head()\n",
    "\n",
    "\n",
    "\n",
    "#df_temp.to_csv('dataset/dataset_merge.csv', index=False)"
   ]
  },
  {
   "cell_type": "code",
   "execution_count": null,
   "metadata": {},
   "outputs": [],
   "source": [
    "features = X_train.columns\n",
    "\n",
    "importances = ada_model.feature_importances_\n",
    "indices = np.argsort(importances)\n",
    "\n",
    "plt.figure(figsize=(10, 6))\n",
    "plt.title(\"Importance des Variables\")\n",
    "plt.barh(range(len(indices)), importances[indices], align=\"center\")\n",
    "plt.yticks(range(len(indices)), [features[i] for i in indices])\n",
    "plt.xlabel('Importance Relative')\n",
    "plt.show()"
   ]
  },
  {
   "cell_type": "code",
   "execution_count": null,
   "metadata": {
    "id": "aUncnZMlFmPZ"
   },
   "outputs": [],
   "source": [
    "# création d'un df qui affiche toutes les prédictions qui ne sont pas identiques au réel\n",
    "df_mismatch_ada = df_temp[df_temp['grav'] != df_temp['pred_ada']]\n",
    "df_mismatch_ada.shape\n",
    "\n",
    "len(df_mismatch_ada)/len(df.grav)*100"
   ]
  },
  {
   "cell_type": "code",
   "execution_count": null,
   "metadata": {},
   "outputs": [],
   "source": [
    "# création d'un df qui affiche toutes les prédictions qui ne sont pas identiques au réel\n",
    "df_mismatch_ada = df_filtered[df_filtered['gravite'] != df_filtered['pred_ada']]\n",
    "df_mismatch_ada.shape\n",
    "\n",
    "len(df_mismatch_ada)/len(df.grav)*100"
   ]
  },
  {
   "cell_type": "code",
   "execution_count": null,
   "metadata": {
    "id": "nDxsxTFVFmPZ"
   },
   "outputs": [],
   "source": [
    "# création d'un df qui affiche toutes les prédictions qui ne sont pas identiques au réel\n",
    "df_mismatch_et = df_filtered[df_filtered['gravite'] != df_filtered['pred_extrTr']]\n",
    "df_mismatch_et.shape\n",
    "\n",
    "\n",
    "len(df_mismatch_et)/len(df.grav)*100"
   ]
  },
  {
   "cell_type": "code",
   "execution_count": null,
   "metadata": {},
   "outputs": [],
   "source": [
    "# création d'un df qui affiche toutes les prédictions qui ne sont pas identiques au réel\n",
    "df_mismatch_xgb = df_filtered[df_filtered['gravite'] != df_filtered['pred_xgb']]\n",
    "df_mismatch_xgb.head()\n",
    "\n",
    "len(df_mismatch_xgb)/len(df.grav)*100"
   ]
  },
  {
   "cell_type": "code",
   "execution_count": null,
   "metadata": {},
   "outputs": [],
   "source": [
    "# création d'un df qui affiche toutes les prédictions qui ne sont pas identiques au réel\n",
    "df_mismatch_lgbm = df_filtered[df_filtered['gravite'] != df_filtered['pred_lgbm']]\n",
    "df_mismatch_lgbm.head()\n",
    "\n",
    "len(df_mismatch_lgbm)/len(df.grav)*100"
   ]
  },
  {
   "cell_type": "code",
   "execution_count": null,
   "metadata": {},
   "outputs": [],
   "source": [
    "# création d'un df qui affiche toutes les prédictions qui ne sont pas identiques au réel\n",
    "df_mismatch_knn = df_filtered[df_filtered['gravite'] != df_filtered['pred_knn']]\n",
    "df_mismatch_knn.head()\n",
    "\n",
    "len(df_mismatch_knn)/len(df.grav)*100"
   ]
  }
 ],
 "metadata": {
  "colab": {
   "provenance": []
  },
  "kernelspec": {
   "display_name": "Projet_accidents_routiers_v13",
   "language": "python",
   "name": "projet_accidents_routiers_v13"
  },
  "language_info": {
   "codemirror_mode": {
    "name": "ipython",
    "version": 3
   },
   "file_extension": ".py",
   "mimetype": "text/x-python",
   "name": "python",
   "nbconvert_exporter": "python",
   "pygments_lexer": "ipython3",
   "version": "3.11.7"
  }
 },
 "nbformat": 4,
 "nbformat_minor": 4
}
