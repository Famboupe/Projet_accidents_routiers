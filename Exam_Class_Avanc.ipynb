{
 "cells": [
  {
   "cell_type": "code",
   "execution_count": 1,
   "id": "4d7a93f4-b902-44c3-ba91-e5aaf6746374",
   "metadata": {
    "editable": true,
    "slideshow": {
     "slide_type": ""
    },
    "tags": []
   },
   "outputs": [],
   "source": [
    "import numpy as np\n",
    "import pandas as pd\n",
    "import matplotlib.pyplot as plt\n",
    "import missingno as msno\n",
    "#%matplotlib inline\n",
    "import seaborn as sns\n",
    "\n",
    "\n",
    "from sklearn.preprocessing import PolynomialFeatures"
   ]
  },
  {
   "cell_type": "code",
   "execution_count": 2,
   "id": "a3397f84-79f9-49e1-844a-f02e5a4fe6fb",
   "metadata": {
    "tags": []
   },
   "outputs": [
    {
     "data": {
      "text/plain": [
       "array([[0, 1],\n",
       "       [2, 3],\n",
       "       [4, 5]])"
      ]
     },
     "execution_count": 2,
     "metadata": {},
     "output_type": "execute_result"
    }
   ],
   "source": [
    "X = np.arange(6).reshape(3, 2)\n",
    "X"
   ]
  },
  {
   "cell_type": "code",
   "execution_count": 3,
   "id": "ccdf1e14-da67-4f9b-a9b3-f2c6f8fe219f",
   "metadata": {
    "tags": []
   },
   "outputs": [
    {
     "data": {
      "text/html": [
       "<style>#sk-container-id-1 {color: black;background-color: white;}#sk-container-id-1 pre{padding: 0;}#sk-container-id-1 div.sk-toggleable {background-color: white;}#sk-container-id-1 label.sk-toggleable__label {cursor: pointer;display: block;width: 100%;margin-bottom: 0;padding: 0.3em;box-sizing: border-box;text-align: center;}#sk-container-id-1 label.sk-toggleable__label-arrow:before {content: \"▸\";float: left;margin-right: 0.25em;color: #696969;}#sk-container-id-1 label.sk-toggleable__label-arrow:hover:before {color: black;}#sk-container-id-1 div.sk-estimator:hover label.sk-toggleable__label-arrow:before {color: black;}#sk-container-id-1 div.sk-toggleable__content {max-height: 0;max-width: 0;overflow: hidden;text-align: left;background-color: #f0f8ff;}#sk-container-id-1 div.sk-toggleable__content pre {margin: 0.2em;color: black;border-radius: 0.25em;background-color: #f0f8ff;}#sk-container-id-1 input.sk-toggleable__control:checked~div.sk-toggleable__content {max-height: 200px;max-width: 100%;overflow: auto;}#sk-container-id-1 input.sk-toggleable__control:checked~label.sk-toggleable__label-arrow:before {content: \"▾\";}#sk-container-id-1 div.sk-estimator input.sk-toggleable__control:checked~label.sk-toggleable__label {background-color: #d4ebff;}#sk-container-id-1 div.sk-label input.sk-toggleable__control:checked~label.sk-toggleable__label {background-color: #d4ebff;}#sk-container-id-1 input.sk-hidden--visually {border: 0;clip: rect(1px 1px 1px 1px);clip: rect(1px, 1px, 1px, 1px);height: 1px;margin: -1px;overflow: hidden;padding: 0;position: absolute;width: 1px;}#sk-container-id-1 div.sk-estimator {font-family: monospace;background-color: #f0f8ff;border: 1px dotted black;border-radius: 0.25em;box-sizing: border-box;margin-bottom: 0.5em;}#sk-container-id-1 div.sk-estimator:hover {background-color: #d4ebff;}#sk-container-id-1 div.sk-parallel-item::after {content: \"\";width: 100%;border-bottom: 1px solid gray;flex-grow: 1;}#sk-container-id-1 div.sk-label:hover label.sk-toggleable__label {background-color: #d4ebff;}#sk-container-id-1 div.sk-serial::before {content: \"\";position: absolute;border-left: 1px solid gray;box-sizing: border-box;top: 0;bottom: 0;left: 50%;z-index: 0;}#sk-container-id-1 div.sk-serial {display: flex;flex-direction: column;align-items: center;background-color: white;padding-right: 0.2em;padding-left: 0.2em;position: relative;}#sk-container-id-1 div.sk-item {position: relative;z-index: 1;}#sk-container-id-1 div.sk-parallel {display: flex;align-items: stretch;justify-content: center;background-color: white;position: relative;}#sk-container-id-1 div.sk-item::before, #sk-container-id-1 div.sk-parallel-item::before {content: \"\";position: absolute;border-left: 1px solid gray;box-sizing: border-box;top: 0;bottom: 0;left: 50%;z-index: -1;}#sk-container-id-1 div.sk-parallel-item {display: flex;flex-direction: column;z-index: 1;position: relative;background-color: white;}#sk-container-id-1 div.sk-parallel-item:first-child::after {align-self: flex-end;width: 50%;}#sk-container-id-1 div.sk-parallel-item:last-child::after {align-self: flex-start;width: 50%;}#sk-container-id-1 div.sk-parallel-item:only-child::after {width: 0;}#sk-container-id-1 div.sk-dashed-wrapped {border: 1px dashed gray;margin: 0 0.4em 0.5em 0.4em;box-sizing: border-box;padding-bottom: 0.4em;background-color: white;}#sk-container-id-1 div.sk-label label {font-family: monospace;font-weight: bold;display: inline-block;line-height: 1.2em;}#sk-container-id-1 div.sk-label-container {text-align: center;}#sk-container-id-1 div.sk-container {/* jupyter's `normalize.less` sets `[hidden] { display: none; }` but bootstrap.min.css set `[hidden] { display: none !important; }` so we also need the `!important` here to be able to override the default hidden behavior on the sphinx rendered scikit-learn.org. See: https://github.com/scikit-learn/scikit-learn/issues/21755 */display: inline-block !important;position: relative;}#sk-container-id-1 div.sk-text-repr-fallback {display: none;}</style><div id=\"sk-container-id-1\" class=\"sk-top-container\"><div class=\"sk-text-repr-fallback\"><pre>PolynomialFeatures()</pre><b>In a Jupyter environment, please rerun this cell to show the HTML representation or trust the notebook. <br />On GitHub, the HTML representation is unable to render, please try loading this page with nbviewer.org.</b></div><div class=\"sk-container\" hidden><div class=\"sk-item\"><div class=\"sk-estimator sk-toggleable\"><input class=\"sk-toggleable__control sk-hidden--visually\" id=\"sk-estimator-id-1\" type=\"checkbox\" checked><label for=\"sk-estimator-id-1\" class=\"sk-toggleable__label sk-toggleable__label-arrow\">PolynomialFeatures</label><div class=\"sk-toggleable__content\"><pre>PolynomialFeatures()</pre></div></div></div></div></div>"
      ],
      "text/plain": [
       "PolynomialFeatures()"
      ]
     },
     "execution_count": 3,
     "metadata": {},
     "output_type": "execute_result"
    }
   ],
   "source": [
    "poly = PolynomialFeatures(2)\n",
    "poly"
   ]
  },
  {
   "cell_type": "code",
   "execution_count": null,
   "id": "6c9d2cdc-2ffd-4ba2-8d63-ac3e8441527e",
   "metadata": {
    "tags": []
   },
   "outputs": [],
   "source": []
  },
  {
   "cell_type": "code",
   "execution_count": 4,
   "id": "0f35918b-7553-4b30-9c56-50eca847d1b9",
   "metadata": {
    "tags": []
   },
   "outputs": [
    {
     "data": {
      "text/plain": [
       "array([[ 1.,  0.,  1.,  0.,  0.,  1.],\n",
       "       [ 1.,  2.,  3.,  4.,  6.,  9.],\n",
       "       [ 1.,  4.,  5., 16., 20., 25.]])"
      ]
     },
     "execution_count": 4,
     "metadata": {},
     "output_type": "execute_result"
    }
   ],
   "source": [
    "poly.fit_transform(X)"
   ]
  },
  {
   "cell_type": "code",
   "execution_count": 5,
   "id": "c3d12361-b7d3-48e7-b6f8-0599c2a3e34f",
   "metadata": {
    "tags": []
   },
   "outputs": [],
   "source": [
    "det = {\n",
    "    'show_id' : ['s1', 's2', 's3', 's4', 's5', 's6', 's7', 's8', 's9'],\n",
    "    'type' : ['TV Show', 'Movie', 'Movie', 'TV Show', '?','TV Show', 'Movie', 'Movie', 'TV Show'],\n",
    "    'title' : ['rent', '???', 'marche', 'ecole', 'defense', 'vie', 'zero', 'rent', 'vie'],\n",
    "    'director' : ['Abdou', 'Grau', 'Chan', 'Acker','?', 'rrr', 'Acker','Marcel', 'Labrador'],     \n",
    "    'country' : ['Brazil', 'Mexico', 'UK', 'US', 'US','UK','UK','???','UK'], \n",
    "     'manque' : [139, np.nan, np.nan, np.nan, np.nan, np.nan,np.nan, np.nan, np.nan],\n",
    "    'added' : [12.8, 17.8, 1007, 32, 1720.4, 4587, 1001.4,28.45, 37845.9],     \n",
    "    'release_year' : [2020, 2016, 2011, 2009,2008, 2010, 2017, 2009, 2022],    \n",
    "    'rating' : ['TV-MA', 'TV-MA', 'R', 'PG-13', 'PG-13', 'RP-12','PGI-17', 'TV-MO', 'S'],   \n",
    "    'duration' : [90.5, 93, 78, 80,123, 75.33, 115, 86, 125],    \n",
    "    'averageRating' : [5.7, np.nan, 10.5, 6.2, 6.2, np.nan, 10, 3.5, 9],\n",
    "    'is_action' : [True, True, False, True, False, False,True, False, False],\n",
    "    'duree' : [139, 90, np.nan, 155, 133, np.nan,165, 120, 159],\n",
    "    'Nb_entree' : [np.nan, np.nan, np.nan, np.nan, np.nan, np.nan,165, np.nan, np.nan],\n",
    "    'numVotes' : [1670, 208, np.nan,'!', np.nan, 817, 163, 33204, 1266]}"
   ]
  },
  {
   "cell_type": "code",
   "execution_count": 6,
   "id": "466a89c8-2bf5-46aa-b6aa-e0a11b65719b",
   "metadata": {
    "tags": []
   },
   "outputs": [],
   "source": [
    "# creating a Dataframe object \n",
    "det = pd.DataFrame(det)"
   ]
  },
  {
   "cell_type": "code",
   "execution_count": 7,
   "id": "2ec07fd2-7f77-41e7-8184-aaaf856b82a1",
   "metadata": {
    "tags": []
   },
   "outputs": [
    {
     "data": {
      "text/html": [
       "<div>\n",
       "<style scoped>\n",
       "    .dataframe tbody tr th:only-of-type {\n",
       "        vertical-align: middle;\n",
       "    }\n",
       "\n",
       "    .dataframe tbody tr th {\n",
       "        vertical-align: top;\n",
       "    }\n",
       "\n",
       "    .dataframe thead th {\n",
       "        text-align: right;\n",
       "    }\n",
       "</style>\n",
       "<table border=\"1\" class=\"dataframe\">\n",
       "  <thead>\n",
       "    <tr style=\"text-align: right;\">\n",
       "      <th></th>\n",
       "      <th>show_id</th>\n",
       "      <th>type</th>\n",
       "      <th>title</th>\n",
       "      <th>director</th>\n",
       "      <th>country</th>\n",
       "      <th>manque</th>\n",
       "      <th>added</th>\n",
       "      <th>release_year</th>\n",
       "      <th>rating</th>\n",
       "      <th>duration</th>\n",
       "      <th>averageRating</th>\n",
       "      <th>is_action</th>\n",
       "      <th>duree</th>\n",
       "      <th>Nb_entree</th>\n",
       "      <th>numVotes</th>\n",
       "    </tr>\n",
       "  </thead>\n",
       "  <tbody>\n",
       "    <tr>\n",
       "      <th>0</th>\n",
       "      <td>s1</td>\n",
       "      <td>TV Show</td>\n",
       "      <td>rent</td>\n",
       "      <td>Abdou</td>\n",
       "      <td>Brazil</td>\n",
       "      <td>139.0</td>\n",
       "      <td>12.80</td>\n",
       "      <td>2020</td>\n",
       "      <td>TV-MA</td>\n",
       "      <td>90.50</td>\n",
       "      <td>5.7</td>\n",
       "      <td>True</td>\n",
       "      <td>139.0</td>\n",
       "      <td>NaN</td>\n",
       "      <td>1670</td>\n",
       "    </tr>\n",
       "    <tr>\n",
       "      <th>1</th>\n",
       "      <td>s2</td>\n",
       "      <td>Movie</td>\n",
       "      <td>???</td>\n",
       "      <td>Grau</td>\n",
       "      <td>Mexico</td>\n",
       "      <td>NaN</td>\n",
       "      <td>17.80</td>\n",
       "      <td>2016</td>\n",
       "      <td>TV-MA</td>\n",
       "      <td>93.00</td>\n",
       "      <td>NaN</td>\n",
       "      <td>True</td>\n",
       "      <td>90.0</td>\n",
       "      <td>NaN</td>\n",
       "      <td>208</td>\n",
       "    </tr>\n",
       "    <tr>\n",
       "      <th>2</th>\n",
       "      <td>s3</td>\n",
       "      <td>Movie</td>\n",
       "      <td>marche</td>\n",
       "      <td>Chan</td>\n",
       "      <td>UK</td>\n",
       "      <td>NaN</td>\n",
       "      <td>1007.00</td>\n",
       "      <td>2011</td>\n",
       "      <td>R</td>\n",
       "      <td>78.00</td>\n",
       "      <td>10.5</td>\n",
       "      <td>False</td>\n",
       "      <td>NaN</td>\n",
       "      <td>NaN</td>\n",
       "      <td>NaN</td>\n",
       "    </tr>\n",
       "    <tr>\n",
       "      <th>3</th>\n",
       "      <td>s4</td>\n",
       "      <td>TV Show</td>\n",
       "      <td>ecole</td>\n",
       "      <td>Acker</td>\n",
       "      <td>US</td>\n",
       "      <td>NaN</td>\n",
       "      <td>32.00</td>\n",
       "      <td>2009</td>\n",
       "      <td>PG-13</td>\n",
       "      <td>80.00</td>\n",
       "      <td>6.2</td>\n",
       "      <td>True</td>\n",
       "      <td>155.0</td>\n",
       "      <td>NaN</td>\n",
       "      <td>!</td>\n",
       "    </tr>\n",
       "    <tr>\n",
       "      <th>4</th>\n",
       "      <td>s5</td>\n",
       "      <td>?</td>\n",
       "      <td>defense</td>\n",
       "      <td>?</td>\n",
       "      <td>US</td>\n",
       "      <td>NaN</td>\n",
       "      <td>1720.40</td>\n",
       "      <td>2008</td>\n",
       "      <td>PG-13</td>\n",
       "      <td>123.00</td>\n",
       "      <td>6.2</td>\n",
       "      <td>False</td>\n",
       "      <td>133.0</td>\n",
       "      <td>NaN</td>\n",
       "      <td>NaN</td>\n",
       "    </tr>\n",
       "    <tr>\n",
       "      <th>5</th>\n",
       "      <td>s6</td>\n",
       "      <td>TV Show</td>\n",
       "      <td>vie</td>\n",
       "      <td>rrr</td>\n",
       "      <td>UK</td>\n",
       "      <td>NaN</td>\n",
       "      <td>4587.00</td>\n",
       "      <td>2010</td>\n",
       "      <td>RP-12</td>\n",
       "      <td>75.33</td>\n",
       "      <td>NaN</td>\n",
       "      <td>False</td>\n",
       "      <td>NaN</td>\n",
       "      <td>NaN</td>\n",
       "      <td>817</td>\n",
       "    </tr>\n",
       "    <tr>\n",
       "      <th>6</th>\n",
       "      <td>s7</td>\n",
       "      <td>Movie</td>\n",
       "      <td>zero</td>\n",
       "      <td>Acker</td>\n",
       "      <td>UK</td>\n",
       "      <td>NaN</td>\n",
       "      <td>1001.40</td>\n",
       "      <td>2017</td>\n",
       "      <td>PGI-17</td>\n",
       "      <td>115.00</td>\n",
       "      <td>10.0</td>\n",
       "      <td>True</td>\n",
       "      <td>165.0</td>\n",
       "      <td>165.0</td>\n",
       "      <td>163</td>\n",
       "    </tr>\n",
       "    <tr>\n",
       "      <th>7</th>\n",
       "      <td>s8</td>\n",
       "      <td>Movie</td>\n",
       "      <td>rent</td>\n",
       "      <td>Marcel</td>\n",
       "      <td>???</td>\n",
       "      <td>NaN</td>\n",
       "      <td>28.45</td>\n",
       "      <td>2009</td>\n",
       "      <td>TV-MO</td>\n",
       "      <td>86.00</td>\n",
       "      <td>3.5</td>\n",
       "      <td>False</td>\n",
       "      <td>120.0</td>\n",
       "      <td>NaN</td>\n",
       "      <td>33204</td>\n",
       "    </tr>\n",
       "    <tr>\n",
       "      <th>8</th>\n",
       "      <td>s9</td>\n",
       "      <td>TV Show</td>\n",
       "      <td>vie</td>\n",
       "      <td>Labrador</td>\n",
       "      <td>UK</td>\n",
       "      <td>NaN</td>\n",
       "      <td>37845.90</td>\n",
       "      <td>2022</td>\n",
       "      <td>S</td>\n",
       "      <td>125.00</td>\n",
       "      <td>9.0</td>\n",
       "      <td>False</td>\n",
       "      <td>159.0</td>\n",
       "      <td>NaN</td>\n",
       "      <td>1266</td>\n",
       "    </tr>\n",
       "  </tbody>\n",
       "</table>\n",
       "</div>"
      ],
      "text/plain": [
       "  show_id     type    title  director country  manque     added  release_year  \\\n",
       "0      s1  TV Show     rent     Abdou  Brazil   139.0     12.80          2020   \n",
       "1      s2    Movie      ???      Grau  Mexico     NaN     17.80          2016   \n",
       "2      s3    Movie   marche      Chan      UK     NaN   1007.00          2011   \n",
       "3      s4  TV Show    ecole     Acker      US     NaN     32.00          2009   \n",
       "4      s5        ?  defense         ?      US     NaN   1720.40          2008   \n",
       "5      s6  TV Show      vie       rrr      UK     NaN   4587.00          2010   \n",
       "6      s7    Movie     zero     Acker      UK     NaN   1001.40          2017   \n",
       "7      s8    Movie     rent    Marcel     ???     NaN     28.45          2009   \n",
       "8      s9  TV Show      vie  Labrador      UK     NaN  37845.90          2022   \n",
       "\n",
       "   rating  duration  averageRating  is_action  duree  Nb_entree numVotes  \n",
       "0   TV-MA     90.50            5.7       True  139.0        NaN     1670  \n",
       "1   TV-MA     93.00            NaN       True   90.0        NaN      208  \n",
       "2       R     78.00           10.5      False    NaN        NaN      NaN  \n",
       "3   PG-13     80.00            6.2       True  155.0        NaN        !  \n",
       "4   PG-13    123.00            6.2      False  133.0        NaN      NaN  \n",
       "5   RP-12     75.33            NaN      False    NaN        NaN      817  \n",
       "6  PGI-17    115.00           10.0       True  165.0      165.0      163  \n",
       "7   TV-MO     86.00            3.5      False  120.0        NaN    33204  \n",
       "8       S    125.00            9.0      False  159.0        NaN     1266  "
      ]
     },
     "execution_count": 7,
     "metadata": {},
     "output_type": "execute_result"
    }
   ],
   "source": [
    "det"
   ]
  },
  {
   "cell_type": "code",
   "execution_count": 8,
   "id": "05cd3971-f607-4b0b-9fe8-e0c7da10674a",
   "metadata": {
    "tags": []
   },
   "outputs": [],
   "source": [
    " det[\"duration\" + \"_Bucket\"] = det[\"duration\"] // 2 * 1"
   ]
  },
  {
   "cell_type": "code",
   "execution_count": 9,
   "id": "45039bde-8023-4db1-b80b-11372c8c191f",
   "metadata": {
    "tags": []
   },
   "outputs": [
    {
     "data": {
      "text/html": [
       "<div>\n",
       "<style scoped>\n",
       "    .dataframe tbody tr th:only-of-type {\n",
       "        vertical-align: middle;\n",
       "    }\n",
       "\n",
       "    .dataframe tbody tr th {\n",
       "        vertical-align: top;\n",
       "    }\n",
       "\n",
       "    .dataframe thead th {\n",
       "        text-align: right;\n",
       "    }\n",
       "</style>\n",
       "<table border=\"1\" class=\"dataframe\">\n",
       "  <thead>\n",
       "    <tr style=\"text-align: right;\">\n",
       "      <th></th>\n",
       "      <th>show_id</th>\n",
       "      <th>type</th>\n",
       "      <th>title</th>\n",
       "      <th>director</th>\n",
       "      <th>country</th>\n",
       "      <th>manque</th>\n",
       "      <th>added</th>\n",
       "      <th>release_year</th>\n",
       "      <th>rating</th>\n",
       "      <th>duration</th>\n",
       "      <th>averageRating</th>\n",
       "      <th>is_action</th>\n",
       "      <th>duree</th>\n",
       "      <th>Nb_entree</th>\n",
       "      <th>numVotes</th>\n",
       "      <th>duration_Bucket</th>\n",
       "    </tr>\n",
       "  </thead>\n",
       "  <tbody>\n",
       "    <tr>\n",
       "      <th>0</th>\n",
       "      <td>s1</td>\n",
       "      <td>TV Show</td>\n",
       "      <td>rent</td>\n",
       "      <td>Abdou</td>\n",
       "      <td>Brazil</td>\n",
       "      <td>139.0</td>\n",
       "      <td>12.80</td>\n",
       "      <td>2020</td>\n",
       "      <td>TV-MA</td>\n",
       "      <td>90.50</td>\n",
       "      <td>5.7</td>\n",
       "      <td>True</td>\n",
       "      <td>139.0</td>\n",
       "      <td>NaN</td>\n",
       "      <td>1670</td>\n",
       "      <td>45.0</td>\n",
       "    </tr>\n",
       "    <tr>\n",
       "      <th>1</th>\n",
       "      <td>s2</td>\n",
       "      <td>Movie</td>\n",
       "      <td>???</td>\n",
       "      <td>Grau</td>\n",
       "      <td>Mexico</td>\n",
       "      <td>NaN</td>\n",
       "      <td>17.80</td>\n",
       "      <td>2016</td>\n",
       "      <td>TV-MA</td>\n",
       "      <td>93.00</td>\n",
       "      <td>NaN</td>\n",
       "      <td>True</td>\n",
       "      <td>90.0</td>\n",
       "      <td>NaN</td>\n",
       "      <td>208</td>\n",
       "      <td>46.0</td>\n",
       "    </tr>\n",
       "    <tr>\n",
       "      <th>2</th>\n",
       "      <td>s3</td>\n",
       "      <td>Movie</td>\n",
       "      <td>marche</td>\n",
       "      <td>Chan</td>\n",
       "      <td>UK</td>\n",
       "      <td>NaN</td>\n",
       "      <td>1007.00</td>\n",
       "      <td>2011</td>\n",
       "      <td>R</td>\n",
       "      <td>78.00</td>\n",
       "      <td>10.5</td>\n",
       "      <td>False</td>\n",
       "      <td>NaN</td>\n",
       "      <td>NaN</td>\n",
       "      <td>NaN</td>\n",
       "      <td>39.0</td>\n",
       "    </tr>\n",
       "    <tr>\n",
       "      <th>3</th>\n",
       "      <td>s4</td>\n",
       "      <td>TV Show</td>\n",
       "      <td>ecole</td>\n",
       "      <td>Acker</td>\n",
       "      <td>US</td>\n",
       "      <td>NaN</td>\n",
       "      <td>32.00</td>\n",
       "      <td>2009</td>\n",
       "      <td>PG-13</td>\n",
       "      <td>80.00</td>\n",
       "      <td>6.2</td>\n",
       "      <td>True</td>\n",
       "      <td>155.0</td>\n",
       "      <td>NaN</td>\n",
       "      <td>!</td>\n",
       "      <td>40.0</td>\n",
       "    </tr>\n",
       "    <tr>\n",
       "      <th>4</th>\n",
       "      <td>s5</td>\n",
       "      <td>?</td>\n",
       "      <td>defense</td>\n",
       "      <td>?</td>\n",
       "      <td>US</td>\n",
       "      <td>NaN</td>\n",
       "      <td>1720.40</td>\n",
       "      <td>2008</td>\n",
       "      <td>PG-13</td>\n",
       "      <td>123.00</td>\n",
       "      <td>6.2</td>\n",
       "      <td>False</td>\n",
       "      <td>133.0</td>\n",
       "      <td>NaN</td>\n",
       "      <td>NaN</td>\n",
       "      <td>61.0</td>\n",
       "    </tr>\n",
       "    <tr>\n",
       "      <th>5</th>\n",
       "      <td>s6</td>\n",
       "      <td>TV Show</td>\n",
       "      <td>vie</td>\n",
       "      <td>rrr</td>\n",
       "      <td>UK</td>\n",
       "      <td>NaN</td>\n",
       "      <td>4587.00</td>\n",
       "      <td>2010</td>\n",
       "      <td>RP-12</td>\n",
       "      <td>75.33</td>\n",
       "      <td>NaN</td>\n",
       "      <td>False</td>\n",
       "      <td>NaN</td>\n",
       "      <td>NaN</td>\n",
       "      <td>817</td>\n",
       "      <td>37.0</td>\n",
       "    </tr>\n",
       "    <tr>\n",
       "      <th>6</th>\n",
       "      <td>s7</td>\n",
       "      <td>Movie</td>\n",
       "      <td>zero</td>\n",
       "      <td>Acker</td>\n",
       "      <td>UK</td>\n",
       "      <td>NaN</td>\n",
       "      <td>1001.40</td>\n",
       "      <td>2017</td>\n",
       "      <td>PGI-17</td>\n",
       "      <td>115.00</td>\n",
       "      <td>10.0</td>\n",
       "      <td>True</td>\n",
       "      <td>165.0</td>\n",
       "      <td>165.0</td>\n",
       "      <td>163</td>\n",
       "      <td>57.0</td>\n",
       "    </tr>\n",
       "    <tr>\n",
       "      <th>7</th>\n",
       "      <td>s8</td>\n",
       "      <td>Movie</td>\n",
       "      <td>rent</td>\n",
       "      <td>Marcel</td>\n",
       "      <td>???</td>\n",
       "      <td>NaN</td>\n",
       "      <td>28.45</td>\n",
       "      <td>2009</td>\n",
       "      <td>TV-MO</td>\n",
       "      <td>86.00</td>\n",
       "      <td>3.5</td>\n",
       "      <td>False</td>\n",
       "      <td>120.0</td>\n",
       "      <td>NaN</td>\n",
       "      <td>33204</td>\n",
       "      <td>43.0</td>\n",
       "    </tr>\n",
       "    <tr>\n",
       "      <th>8</th>\n",
       "      <td>s9</td>\n",
       "      <td>TV Show</td>\n",
       "      <td>vie</td>\n",
       "      <td>Labrador</td>\n",
       "      <td>UK</td>\n",
       "      <td>NaN</td>\n",
       "      <td>37845.90</td>\n",
       "      <td>2022</td>\n",
       "      <td>S</td>\n",
       "      <td>125.00</td>\n",
       "      <td>9.0</td>\n",
       "      <td>False</td>\n",
       "      <td>159.0</td>\n",
       "      <td>NaN</td>\n",
       "      <td>1266</td>\n",
       "      <td>62.0</td>\n",
       "    </tr>\n",
       "  </tbody>\n",
       "</table>\n",
       "</div>"
      ],
      "text/plain": [
       "  show_id     type    title  director country  manque     added  release_year  \\\n",
       "0      s1  TV Show     rent     Abdou  Brazil   139.0     12.80          2020   \n",
       "1      s2    Movie      ???      Grau  Mexico     NaN     17.80          2016   \n",
       "2      s3    Movie   marche      Chan      UK     NaN   1007.00          2011   \n",
       "3      s4  TV Show    ecole     Acker      US     NaN     32.00          2009   \n",
       "4      s5        ?  defense         ?      US     NaN   1720.40          2008   \n",
       "5      s6  TV Show      vie       rrr      UK     NaN   4587.00          2010   \n",
       "6      s7    Movie     zero     Acker      UK     NaN   1001.40          2017   \n",
       "7      s8    Movie     rent    Marcel     ???     NaN     28.45          2009   \n",
       "8      s9  TV Show      vie  Labrador      UK     NaN  37845.90          2022   \n",
       "\n",
       "   rating  duration  averageRating  is_action  duree  Nb_entree numVotes  \\\n",
       "0   TV-MA     90.50            5.7       True  139.0        NaN     1670   \n",
       "1   TV-MA     93.00            NaN       True   90.0        NaN      208   \n",
       "2       R     78.00           10.5      False    NaN        NaN      NaN   \n",
       "3   PG-13     80.00            6.2       True  155.0        NaN        !   \n",
       "4   PG-13    123.00            6.2      False  133.0        NaN      NaN   \n",
       "5   RP-12     75.33            NaN      False    NaN        NaN      817   \n",
       "6  PGI-17    115.00           10.0       True  165.0      165.0      163   \n",
       "7   TV-MO     86.00            3.5      False  120.0        NaN    33204   \n",
       "8       S    125.00            9.0      False  159.0        NaN     1266   \n",
       "\n",
       "   duration_Bucket  \n",
       "0             45.0  \n",
       "1             46.0  \n",
       "2             39.0  \n",
       "3             40.0  \n",
       "4             61.0  \n",
       "5             37.0  \n",
       "6             57.0  \n",
       "7             43.0  \n",
       "8             62.0  "
      ]
     },
     "execution_count": 9,
     "metadata": {},
     "output_type": "execute_result"
    }
   ],
   "source": [
    "det"
   ]
  },
  {
   "cell_type": "code",
   "execution_count": null,
   "id": "cf903ce0-235b-4050-9519-03c867733dde",
   "metadata": {},
   "outputs": [],
   "source": []
  },
  {
   "cell_type": "code",
   "execution_count": 10,
   "id": "4f575623-5069-4be5-89d9-6012005464de",
   "metadata": {
    "editable": true,
    "slideshow": {
     "slide_type": ""
    },
    "tags": []
   },
   "outputs": [],
   "source": [
    "pd.pandas.set_option('display.max_columns', None)\n",
    "pd.pandas.set_option('display.max_rows', None)"
   ]
  },
  {
   "cell_type": "code",
   "execution_count": null,
   "id": "788c0143-9000-4bc8-8210-2c116acf346e",
   "metadata": {},
   "outputs": [],
   "source": []
  },
  {
   "cell_type": "code",
   "execution_count": 11,
   "id": "5677c233-f6f1-42b6-80cf-bc1905ab2fed",
   "metadata": {
    "tags": []
   },
   "outputs": [
    {
     "data": {
      "text/plain": [
       "array([0.01      , 0.01444444, 0.01888889, 0.02333333, 0.02777778,\n",
       "       0.03222222, 0.03666667, 0.04111111, 0.04555556, 0.05      ])"
      ]
     },
     "execution_count": 11,
     "metadata": {},
     "output_type": "execute_result"
    }
   ],
   "source": [
    "np.linspace(0.01, 0.05, 10)"
   ]
  },
  {
   "cell_type": "code",
   "execution_count": null,
   "id": "6d480c44-de8b-4d44-87b5-d25a81313b2e",
   "metadata": {},
   "outputs": [],
   "source": []
  },
  {
   "cell_type": "code",
   "execution_count": null,
   "id": "de31e7e1-2f90-43c4-b5c2-59d772113617",
   "metadata": {},
   "outputs": [],
   "source": []
  },
  {
   "cell_type": "code",
   "execution_count": 12,
   "id": "63577ed9-6e55-4201-a850-61af06f81dd9",
   "metadata": {},
   "outputs": [],
   "source": [
    "# Create first data frame\n",
    "df1_Test = pd.DataFrame({\n",
    "   'key1': ['A', 'B', 'C', 'D'],\n",
    "   'key2': ['W', 'X', 'Y', 'Z'],\n",
    "   'value1': [1, 2, 3, 4],\n",
    "   'value2': [5, 6, 7, 8]\n",
    "})\n",
    "\n",
    "# Create second data frame\n",
    "df2_Test = pd.DataFrame({\n",
    "   'key1': ['A', 'B', 'C', 'E'],\n",
    "   'key2': ['W', 'X', 'Z', 'Y'],\n",
    "    'value1': [0, 25, 3, 13],\n",
    "   'value3': [9, 10, 11, 12],\n",
    "   'value4': [13, 14, 15, 16]\n",
    "})"
   ]
  },
  {
   "cell_type": "code",
   "execution_count": 13,
   "id": "9cc28644-ac65-4979-8be0-ef56011571f7",
   "metadata": {},
   "outputs": [
    {
     "data": {
      "text/html": [
       "<div>\n",
       "<style scoped>\n",
       "    .dataframe tbody tr th:only-of-type {\n",
       "        vertical-align: middle;\n",
       "    }\n",
       "\n",
       "    .dataframe tbody tr th {\n",
       "        vertical-align: top;\n",
       "    }\n",
       "\n",
       "    .dataframe thead th {\n",
       "        text-align: right;\n",
       "    }\n",
       "</style>\n",
       "<table border=\"1\" class=\"dataframe\">\n",
       "  <thead>\n",
       "    <tr style=\"text-align: right;\">\n",
       "      <th></th>\n",
       "      <th>key1</th>\n",
       "      <th>key2</th>\n",
       "      <th>value1</th>\n",
       "      <th>value2</th>\n",
       "    </tr>\n",
       "  </thead>\n",
       "  <tbody>\n",
       "    <tr>\n",
       "      <th>0</th>\n",
       "      <td>A</td>\n",
       "      <td>W</td>\n",
       "      <td>1</td>\n",
       "      <td>5</td>\n",
       "    </tr>\n",
       "    <tr>\n",
       "      <th>1</th>\n",
       "      <td>B</td>\n",
       "      <td>X</td>\n",
       "      <td>2</td>\n",
       "      <td>6</td>\n",
       "    </tr>\n",
       "    <tr>\n",
       "      <th>2</th>\n",
       "      <td>C</td>\n",
       "      <td>Y</td>\n",
       "      <td>3</td>\n",
       "      <td>7</td>\n",
       "    </tr>\n",
       "    <tr>\n",
       "      <th>3</th>\n",
       "      <td>D</td>\n",
       "      <td>Z</td>\n",
       "      <td>4</td>\n",
       "      <td>8</td>\n",
       "    </tr>\n",
       "  </tbody>\n",
       "</table>\n",
       "</div>"
      ],
      "text/plain": [
       "  key1 key2  value1  value2\n",
       "0    A    W       1       5\n",
       "1    B    X       2       6\n",
       "2    C    Y       3       7\n",
       "3    D    Z       4       8"
      ]
     },
     "execution_count": 13,
     "metadata": {},
     "output_type": "execute_result"
    }
   ],
   "source": [
    "df1_Test"
   ]
  },
  {
   "cell_type": "code",
   "execution_count": 14,
   "id": "a2c7adf6-8014-4b02-b2a0-01172dffce08",
   "metadata": {},
   "outputs": [
    {
     "data": {
      "text/html": [
       "<div>\n",
       "<style scoped>\n",
       "    .dataframe tbody tr th:only-of-type {\n",
       "        vertical-align: middle;\n",
       "    }\n",
       "\n",
       "    .dataframe tbody tr th {\n",
       "        vertical-align: top;\n",
       "    }\n",
       "\n",
       "    .dataframe thead th {\n",
       "        text-align: right;\n",
       "    }\n",
       "</style>\n",
       "<table border=\"1\" class=\"dataframe\">\n",
       "  <thead>\n",
       "    <tr style=\"text-align: right;\">\n",
       "      <th></th>\n",
       "      <th>key1</th>\n",
       "      <th>key2</th>\n",
       "      <th>value1</th>\n",
       "      <th>value3</th>\n",
       "      <th>value4</th>\n",
       "    </tr>\n",
       "  </thead>\n",
       "  <tbody>\n",
       "    <tr>\n",
       "      <th>0</th>\n",
       "      <td>A</td>\n",
       "      <td>W</td>\n",
       "      <td>0</td>\n",
       "      <td>9</td>\n",
       "      <td>13</td>\n",
       "    </tr>\n",
       "    <tr>\n",
       "      <th>1</th>\n",
       "      <td>B</td>\n",
       "      <td>X</td>\n",
       "      <td>25</td>\n",
       "      <td>10</td>\n",
       "      <td>14</td>\n",
       "    </tr>\n",
       "    <tr>\n",
       "      <th>2</th>\n",
       "      <td>C</td>\n",
       "      <td>Z</td>\n",
       "      <td>3</td>\n",
       "      <td>11</td>\n",
       "      <td>15</td>\n",
       "    </tr>\n",
       "    <tr>\n",
       "      <th>3</th>\n",
       "      <td>E</td>\n",
       "      <td>Y</td>\n",
       "      <td>13</td>\n",
       "      <td>12</td>\n",
       "      <td>16</td>\n",
       "    </tr>\n",
       "  </tbody>\n",
       "</table>\n",
       "</div>"
      ],
      "text/plain": [
       "  key1 key2  value1  value3  value4\n",
       "0    A    W       0       9      13\n",
       "1    B    X      25      10      14\n",
       "2    C    Z       3      11      15\n",
       "3    E    Y      13      12      16"
      ]
     },
     "execution_count": 14,
     "metadata": {},
     "output_type": "execute_result"
    }
   ],
   "source": [
    "df2_Test"
   ]
  },
  {
   "cell_type": "code",
   "execution_count": 15,
   "id": "967e3aa4-7d1a-4f89-895d-d46e8ca6e52d",
   "metadata": {
    "editable": true,
    "slideshow": {
     "slide_type": ""
    },
    "tags": []
   },
   "outputs": [],
   "source": [
    "# Merge data frames on multiple columns\n",
    "merged_df = pd.merge(df1_Test, df2_Test, on=['key1', 'key2', 'value1'], how='outer')"
   ]
  },
  {
   "cell_type": "code",
   "execution_count": 16,
   "id": "2e95624e-01fe-4146-ad0a-8cee53431ef6",
   "metadata": {},
   "outputs": [
    {
     "data": {
      "text/html": [
       "<div>\n",
       "<style scoped>\n",
       "    .dataframe tbody tr th:only-of-type {\n",
       "        vertical-align: middle;\n",
       "    }\n",
       "\n",
       "    .dataframe tbody tr th {\n",
       "        vertical-align: top;\n",
       "    }\n",
       "\n",
       "    .dataframe thead th {\n",
       "        text-align: right;\n",
       "    }\n",
       "</style>\n",
       "<table border=\"1\" class=\"dataframe\">\n",
       "  <thead>\n",
       "    <tr style=\"text-align: right;\">\n",
       "      <th></th>\n",
       "      <th>key1</th>\n",
       "      <th>key2</th>\n",
       "      <th>value1</th>\n",
       "      <th>value2</th>\n",
       "      <th>value3</th>\n",
       "      <th>value4</th>\n",
       "    </tr>\n",
       "  </thead>\n",
       "  <tbody>\n",
       "    <tr>\n",
       "      <th>0</th>\n",
       "      <td>A</td>\n",
       "      <td>W</td>\n",
       "      <td>1</td>\n",
       "      <td>5.0</td>\n",
       "      <td>NaN</td>\n",
       "      <td>NaN</td>\n",
       "    </tr>\n",
       "    <tr>\n",
       "      <th>1</th>\n",
       "      <td>B</td>\n",
       "      <td>X</td>\n",
       "      <td>2</td>\n",
       "      <td>6.0</td>\n",
       "      <td>NaN</td>\n",
       "      <td>NaN</td>\n",
       "    </tr>\n",
       "    <tr>\n",
       "      <th>2</th>\n",
       "      <td>C</td>\n",
       "      <td>Y</td>\n",
       "      <td>3</td>\n",
       "      <td>7.0</td>\n",
       "      <td>NaN</td>\n",
       "      <td>NaN</td>\n",
       "    </tr>\n",
       "    <tr>\n",
       "      <th>3</th>\n",
       "      <td>D</td>\n",
       "      <td>Z</td>\n",
       "      <td>4</td>\n",
       "      <td>8.0</td>\n",
       "      <td>NaN</td>\n",
       "      <td>NaN</td>\n",
       "    </tr>\n",
       "    <tr>\n",
       "      <th>4</th>\n",
       "      <td>A</td>\n",
       "      <td>W</td>\n",
       "      <td>0</td>\n",
       "      <td>NaN</td>\n",
       "      <td>9.0</td>\n",
       "      <td>13.0</td>\n",
       "    </tr>\n",
       "    <tr>\n",
       "      <th>5</th>\n",
       "      <td>B</td>\n",
       "      <td>X</td>\n",
       "      <td>25</td>\n",
       "      <td>NaN</td>\n",
       "      <td>10.0</td>\n",
       "      <td>14.0</td>\n",
       "    </tr>\n",
       "    <tr>\n",
       "      <th>6</th>\n",
       "      <td>C</td>\n",
       "      <td>Z</td>\n",
       "      <td>3</td>\n",
       "      <td>NaN</td>\n",
       "      <td>11.0</td>\n",
       "      <td>15.0</td>\n",
       "    </tr>\n",
       "    <tr>\n",
       "      <th>7</th>\n",
       "      <td>E</td>\n",
       "      <td>Y</td>\n",
       "      <td>13</td>\n",
       "      <td>NaN</td>\n",
       "      <td>12.0</td>\n",
       "      <td>16.0</td>\n",
       "    </tr>\n",
       "  </tbody>\n",
       "</table>\n",
       "</div>"
      ],
      "text/plain": [
       "  key1 key2  value1  value2  value3  value4\n",
       "0    A    W       1     5.0     NaN     NaN\n",
       "1    B    X       2     6.0     NaN     NaN\n",
       "2    C    Y       3     7.0     NaN     NaN\n",
       "3    D    Z       4     8.0     NaN     NaN\n",
       "4    A    W       0     NaN     9.0    13.0\n",
       "5    B    X      25     NaN    10.0    14.0\n",
       "6    C    Z       3     NaN    11.0    15.0\n",
       "7    E    Y      13     NaN    12.0    16.0"
      ]
     },
     "execution_count": 16,
     "metadata": {},
     "output_type": "execute_result"
    }
   ],
   "source": [
    "merged_df"
   ]
  },
  {
   "cell_type": "code",
   "execution_count": 17,
   "id": "cc586c34-6749-41a3-ad63-7453539fe840",
   "metadata": {},
   "outputs": [
    {
     "data": {
      "text/plain": [
       "array([ 0,  1,  2,  3,  4, 13, 25], dtype=int64)"
      ]
     },
     "execution_count": 17,
     "metadata": {},
     "output_type": "execute_result"
    }
   ],
   "source": [
    "np.unique(merged_df.value1)"
   ]
  },
  {
   "cell_type": "code",
   "execution_count": 18,
   "id": "e0cc094f-dc5b-425b-bd51-f0d10722814e",
   "metadata": {},
   "outputs": [
    {
     "data": {
      "text/plain": [
       "7"
      ]
     },
     "execution_count": 18,
     "metadata": {},
     "output_type": "execute_result"
    }
   ],
   "source": [
    "len(np.unique(merged_df.value1))"
   ]
  },
  {
   "cell_type": "code",
   "execution_count": 19,
   "id": "91e92482-b6d1-4240-9b73-80b2061d1ad0",
   "metadata": {},
   "outputs": [
    {
     "data": {
      "text/plain": [
       "0     1\n",
       "1     2\n",
       "2     3\n",
       "3     4\n",
       "5    25\n",
       "6     3\n",
       "7    13\n",
       "Name: value1, dtype: int64"
      ]
     },
     "execution_count": 19,
     "metadata": {},
     "output_type": "execute_result"
    }
   ],
   "source": [
    "merged_df.value1[merged_df.value1 > 0]"
   ]
  },
  {
   "cell_type": "code",
   "execution_count": 20,
   "id": "45d570d6-57ac-4fb1-805f-d1fa26ccb1da",
   "metadata": {},
   "outputs": [
    {
     "data": {
      "text/plain": [
       "25"
      ]
     },
     "execution_count": 20,
     "metadata": {},
     "output_type": "execute_result"
    }
   ],
   "source": [
    "merged_df.value1[merged_df.value1 > 0].max()"
   ]
  },
  {
   "cell_type": "code",
   "execution_count": 21,
   "id": "28e9c013-52ec-4829-b26e-80501a41f580",
   "metadata": {},
   "outputs": [
    {
     "data": {
      "text/plain": [
       "0    W\n",
       "1    X\n",
       "2    Y\n",
       "3    Z\n",
       "4    W\n",
       "5    X\n",
       "6    Z\n",
       "7    Y\n",
       "Name: key2, dtype: object"
      ]
     },
     "execution_count": 21,
     "metadata": {},
     "output_type": "execute_result"
    }
   ],
   "source": [
    "merged_df[\"key2\"]"
   ]
  },
  {
   "cell_type": "code",
   "execution_count": 22,
   "id": "c008cbc6-6435-4e00-abef-eb0324011dfc",
   "metadata": {},
   "outputs": [
    {
     "data": {
      "text/plain": [
       "array([1, 1, 1, 1, 0, 0, 0, 0])"
      ]
     },
     "execution_count": 22,
     "metadata": {},
     "output_type": "execute_result"
    }
   ],
   "source": [
    " np.where(merged_df['value2'].isna(), 0, 1)"
   ]
  },
  {
   "cell_type": "code",
   "execution_count": 23,
   "id": "7405d54c-5efd-4c3f-990b-802823222959",
   "metadata": {},
   "outputs": [
    {
     "name": "stdout",
     "output_type": "stream",
     "text": [
      "col_0  0  1\n",
      "key2       \n",
      "W      1  1\n",
      "X      1  1\n",
      "Y      1  1\n",
      "Z      1  1\n"
     ]
    }
   ],
   "source": [
    "print(pd.crosstab(merged_df[\"key2\"], np.where(merged_df['value2'].isna(), 0, 1)))"
   ]
  },
  {
   "cell_type": "code",
   "execution_count": 24,
   "id": "7dba67c8-c256-4f3a-a278-5bf8bb19f8ab",
   "metadata": {},
   "outputs": [
    {
     "data": {
      "text/html": [
       "<div>\n",
       "<style scoped>\n",
       "    .dataframe tbody tr th:only-of-type {\n",
       "        vertical-align: middle;\n",
       "    }\n",
       "\n",
       "    .dataframe tbody tr th {\n",
       "        vertical-align: top;\n",
       "    }\n",
       "\n",
       "    .dataframe thead th {\n",
       "        text-align: right;\n",
       "    }\n",
       "</style>\n",
       "<table border=\"1\" class=\"dataframe\">\n",
       "  <thead>\n",
       "    <tr style=\"text-align: right;\">\n",
       "      <th></th>\n",
       "      <th>key1</th>\n",
       "      <th>key2</th>\n",
       "      <th>value1</th>\n",
       "      <th>value2</th>\n",
       "      <th>value3</th>\n",
       "      <th>value4</th>\n",
       "    </tr>\n",
       "  </thead>\n",
       "  <tbody>\n",
       "    <tr>\n",
       "      <th>0</th>\n",
       "      <td>A</td>\n",
       "      <td>W</td>\n",
       "      <td>1</td>\n",
       "      <td>5.0</td>\n",
       "      <td>NaN</td>\n",
       "      <td>NaN</td>\n",
       "    </tr>\n",
       "    <tr>\n",
       "      <th>1</th>\n",
       "      <td>B</td>\n",
       "      <td>X</td>\n",
       "      <td>2</td>\n",
       "      <td>6.0</td>\n",
       "      <td>NaN</td>\n",
       "      <td>NaN</td>\n",
       "    </tr>\n",
       "    <tr>\n",
       "      <th>2</th>\n",
       "      <td>C</td>\n",
       "      <td>Y</td>\n",
       "      <td>3</td>\n",
       "      <td>7.0</td>\n",
       "      <td>NaN</td>\n",
       "      <td>NaN</td>\n",
       "    </tr>\n",
       "    <tr>\n",
       "      <th>3</th>\n",
       "      <td>D</td>\n",
       "      <td>Z</td>\n",
       "      <td>4</td>\n",
       "      <td>8.0</td>\n",
       "      <td>NaN</td>\n",
       "      <td>NaN</td>\n",
       "    </tr>\n",
       "    <tr>\n",
       "      <th>4</th>\n",
       "      <td>A</td>\n",
       "      <td>W</td>\n",
       "      <td>0</td>\n",
       "      <td>NaN</td>\n",
       "      <td>9.0</td>\n",
       "      <td>13.0</td>\n",
       "    </tr>\n",
       "    <tr>\n",
       "      <th>5</th>\n",
       "      <td>B</td>\n",
       "      <td>X</td>\n",
       "      <td>25</td>\n",
       "      <td>NaN</td>\n",
       "      <td>10.0</td>\n",
       "      <td>14.0</td>\n",
       "    </tr>\n",
       "    <tr>\n",
       "      <th>6</th>\n",
       "      <td>C</td>\n",
       "      <td>Z</td>\n",
       "      <td>3</td>\n",
       "      <td>NaN</td>\n",
       "      <td>11.0</td>\n",
       "      <td>15.0</td>\n",
       "    </tr>\n",
       "    <tr>\n",
       "      <th>7</th>\n",
       "      <td>E</td>\n",
       "      <td>Y</td>\n",
       "      <td>13</td>\n",
       "      <td>NaN</td>\n",
       "      <td>12.0</td>\n",
       "      <td>16.0</td>\n",
       "    </tr>\n",
       "  </tbody>\n",
       "</table>\n",
       "</div>"
      ],
      "text/plain": [
       "  key1 key2  value1  value2  value3  value4\n",
       "0    A    W       1     5.0     NaN     NaN\n",
       "1    B    X       2     6.0     NaN     NaN\n",
       "2    C    Y       3     7.0     NaN     NaN\n",
       "3    D    Z       4     8.0     NaN     NaN\n",
       "4    A    W       0     NaN     9.0    13.0\n",
       "5    B    X      25     NaN    10.0    14.0\n",
       "6    C    Z       3     NaN    11.0    15.0\n",
       "7    E    Y      13     NaN    12.0    16.0"
      ]
     },
     "execution_count": 24,
     "metadata": {},
     "output_type": "execute_result"
    }
   ],
   "source": [
    "merged_df"
   ]
  },
  {
   "cell_type": "code",
   "execution_count": null,
   "id": "7a05f79f-8ed3-4923-b277-520bf07998ba",
   "metadata": {
    "editable": true,
    "slideshow": {
     "slide_type": ""
    },
    "tags": []
   },
   "outputs": [],
   "source": []
  },
  {
   "cell_type": "code",
   "execution_count": 25,
   "id": "2c85f269-de1c-4362-94cb-c95ca3c89e61",
   "metadata": {},
   "outputs": [],
   "source": [
    "###################################################################################"
   ]
  },
  {
   "cell_type": "code",
   "execution_count": null,
   "id": "e9c9db74-b04f-4174-9aaf-50a2bc58aeeb",
   "metadata": {},
   "outputs": [],
   "source": []
  },
  {
   "cell_type": "code",
   "execution_count": 26,
   "id": "10f983e6-a506-48e7-9ced-a3d69888106f",
   "metadata": {},
   "outputs": [],
   "source": [
    "#dataFrame=pd.read_excel('C:/Training_DataScientist_MachineLearning/Sprint5 Machine_Learning_2_de_4/Classification avancée/hiva.xlsx')#, sep=\";\")"
   ]
  },
  {
   "cell_type": "code",
   "execution_count": null,
   "id": "59d61477-ccbd-4daa-99f3-2c62711e770b",
   "metadata": {},
   "outputs": [],
   "source": []
  },
  {
   "cell_type": "code",
   "execution_count": 27,
   "id": "19cf4fb1-56a4-4f98-8eb7-c229b096499d",
   "metadata": {
    "tags": []
   },
   "outputs": [],
   "source": [
    "# Create first data frame\n",
    "dataFrame_1 = pd.DataFrame({\n",
    "    'unnamed': [0, 1, 2, 3],\n",
    "   'key1': ['A', 'B', 'C', 'D'],\n",
    "   'key2': ['W', 'X', 'Y', 'Z'],\n",
    "   'value1': [1, np.nan, 3, 4],\n",
    "   'value2': [5, 6, 7, 8]\n",
    "})\n",
    "\n",
    "# Create second data frame\n",
    "dataFrame_2 = pd.DataFrame({\n",
    "   'unnamed': [0, 1, 2, 3], \n",
    "   'key1': ['A', 'B', 'a', np.nan],\n",
    "   'key2': ['W', np.nan, 'Z', 'Y'],\n",
    "    'value1': [0, np.nan, 3, 13],\n",
    "   'value3': [4, 10, 17, 12],\n",
    "   'value4': [13, 14, 15, 16]\n",
    "})"
   ]
  },
  {
   "cell_type": "code",
   "execution_count": 28,
   "id": "037ea069-64ee-4591-83d3-1d4142065a93",
   "metadata": {
    "tags": []
   },
   "outputs": [
    {
     "data": {
      "text/html": [
       "<div>\n",
       "<style scoped>\n",
       "    .dataframe tbody tr th:only-of-type {\n",
       "        vertical-align: middle;\n",
       "    }\n",
       "\n",
       "    .dataframe tbody tr th {\n",
       "        vertical-align: top;\n",
       "    }\n",
       "\n",
       "    .dataframe thead th {\n",
       "        text-align: right;\n",
       "    }\n",
       "</style>\n",
       "<table border=\"1\" class=\"dataframe\">\n",
       "  <thead>\n",
       "    <tr style=\"text-align: right;\">\n",
       "      <th></th>\n",
       "      <th>unnamed</th>\n",
       "      <th>key1</th>\n",
       "      <th>key2</th>\n",
       "      <th>value1</th>\n",
       "      <th>value2</th>\n",
       "    </tr>\n",
       "  </thead>\n",
       "  <tbody>\n",
       "    <tr>\n",
       "      <th>0</th>\n",
       "      <td>0</td>\n",
       "      <td>A</td>\n",
       "      <td>W</td>\n",
       "      <td>1.0</td>\n",
       "      <td>5</td>\n",
       "    </tr>\n",
       "    <tr>\n",
       "      <th>1</th>\n",
       "      <td>1</td>\n",
       "      <td>B</td>\n",
       "      <td>X</td>\n",
       "      <td>NaN</td>\n",
       "      <td>6</td>\n",
       "    </tr>\n",
       "    <tr>\n",
       "      <th>2</th>\n",
       "      <td>2</td>\n",
       "      <td>C</td>\n",
       "      <td>Y</td>\n",
       "      <td>3.0</td>\n",
       "      <td>7</td>\n",
       "    </tr>\n",
       "    <tr>\n",
       "      <th>3</th>\n",
       "      <td>3</td>\n",
       "      <td>D</td>\n",
       "      <td>Z</td>\n",
       "      <td>4.0</td>\n",
       "      <td>8</td>\n",
       "    </tr>\n",
       "  </tbody>\n",
       "</table>\n",
       "</div>"
      ],
      "text/plain": [
       "   unnamed key1 key2  value1  value2\n",
       "0        0    A    W     1.0       5\n",
       "1        1    B    X     NaN       6\n",
       "2        2    C    Y     3.0       7\n",
       "3        3    D    Z     4.0       8"
      ]
     },
     "execution_count": 28,
     "metadata": {},
     "output_type": "execute_result"
    }
   ],
   "source": [
    "dataFrame_1"
   ]
  },
  {
   "cell_type": "code",
   "execution_count": null,
   "id": "baed832f-af0f-4fa2-853f-adfdc704a43f",
   "metadata": {},
   "outputs": [],
   "source": []
  },
  {
   "cell_type": "code",
   "execution_count": 29,
   "id": "99a9514d-50a3-4ac9-989d-9ffa5c8ec683",
   "metadata": {
    "tags": []
   },
   "outputs": [],
   "source": [
    "dataFrame_1.set_index('unnamed', inplace=True)"
   ]
  },
  {
   "cell_type": "code",
   "execution_count": 30,
   "id": "e276b367-7ab2-4167-9f97-d6d51354cbd0",
   "metadata": {
    "tags": []
   },
   "outputs": [
    {
     "data": {
      "text/html": [
       "<div>\n",
       "<style scoped>\n",
       "    .dataframe tbody tr th:only-of-type {\n",
       "        vertical-align: middle;\n",
       "    }\n",
       "\n",
       "    .dataframe tbody tr th {\n",
       "        vertical-align: top;\n",
       "    }\n",
       "\n",
       "    .dataframe thead th {\n",
       "        text-align: right;\n",
       "    }\n",
       "</style>\n",
       "<table border=\"1\" class=\"dataframe\">\n",
       "  <thead>\n",
       "    <tr style=\"text-align: right;\">\n",
       "      <th></th>\n",
       "      <th>key1</th>\n",
       "      <th>key2</th>\n",
       "      <th>value1</th>\n",
       "      <th>value2</th>\n",
       "    </tr>\n",
       "    <tr>\n",
       "      <th>unnamed</th>\n",
       "      <th></th>\n",
       "      <th></th>\n",
       "      <th></th>\n",
       "      <th></th>\n",
       "    </tr>\n",
       "  </thead>\n",
       "  <tbody>\n",
       "    <tr>\n",
       "      <th>0</th>\n",
       "      <td>A</td>\n",
       "      <td>W</td>\n",
       "      <td>1.0</td>\n",
       "      <td>5</td>\n",
       "    </tr>\n",
       "    <tr>\n",
       "      <th>1</th>\n",
       "      <td>B</td>\n",
       "      <td>X</td>\n",
       "      <td>NaN</td>\n",
       "      <td>6</td>\n",
       "    </tr>\n",
       "    <tr>\n",
       "      <th>2</th>\n",
       "      <td>C</td>\n",
       "      <td>Y</td>\n",
       "      <td>3.0</td>\n",
       "      <td>7</td>\n",
       "    </tr>\n",
       "    <tr>\n",
       "      <th>3</th>\n",
       "      <td>D</td>\n",
       "      <td>Z</td>\n",
       "      <td>4.0</td>\n",
       "      <td>8</td>\n",
       "    </tr>\n",
       "  </tbody>\n",
       "</table>\n",
       "</div>"
      ],
      "text/plain": [
       "        key1 key2  value1  value2\n",
       "unnamed                          \n",
       "0          A    W     1.0       5\n",
       "1          B    X     NaN       6\n",
       "2          C    Y     3.0       7\n",
       "3          D    Z     4.0       8"
      ]
     },
     "execution_count": 30,
     "metadata": {},
     "output_type": "execute_result"
    }
   ],
   "source": [
    "dataFrame_1"
   ]
  },
  {
   "cell_type": "code",
   "execution_count": null,
   "id": "bafb6f60-a4e4-4136-bc00-86405a350757",
   "metadata": {},
   "outputs": [],
   "source": []
  },
  {
   "cell_type": "code",
   "execution_count": 31,
   "id": "96281cdc-5e22-49fb-a622-74f6cea09c62",
   "metadata": {
    "tags": []
   },
   "outputs": [
    {
     "data": {
      "text/html": [
       "<div>\n",
       "<style scoped>\n",
       "    .dataframe tbody tr th:only-of-type {\n",
       "        vertical-align: middle;\n",
       "    }\n",
       "\n",
       "    .dataframe tbody tr th {\n",
       "        vertical-align: top;\n",
       "    }\n",
       "\n",
       "    .dataframe thead th {\n",
       "        text-align: right;\n",
       "    }\n",
       "</style>\n",
       "<table border=\"1\" class=\"dataframe\">\n",
       "  <thead>\n",
       "    <tr style=\"text-align: right;\">\n",
       "      <th></th>\n",
       "      <th>unnamed</th>\n",
       "      <th>key1</th>\n",
       "      <th>key2</th>\n",
       "      <th>value1</th>\n",
       "      <th>value3</th>\n",
       "      <th>value4</th>\n",
       "    </tr>\n",
       "  </thead>\n",
       "  <tbody>\n",
       "    <tr>\n",
       "      <th>0</th>\n",
       "      <td>0</td>\n",
       "      <td>A</td>\n",
       "      <td>W</td>\n",
       "      <td>0.0</td>\n",
       "      <td>4</td>\n",
       "      <td>13</td>\n",
       "    </tr>\n",
       "    <tr>\n",
       "      <th>1</th>\n",
       "      <td>1</td>\n",
       "      <td>B</td>\n",
       "      <td>NaN</td>\n",
       "      <td>NaN</td>\n",
       "      <td>10</td>\n",
       "      <td>14</td>\n",
       "    </tr>\n",
       "    <tr>\n",
       "      <th>2</th>\n",
       "      <td>2</td>\n",
       "      <td>a</td>\n",
       "      <td>Z</td>\n",
       "      <td>3.0</td>\n",
       "      <td>17</td>\n",
       "      <td>15</td>\n",
       "    </tr>\n",
       "    <tr>\n",
       "      <th>3</th>\n",
       "      <td>3</td>\n",
       "      <td>NaN</td>\n",
       "      <td>Y</td>\n",
       "      <td>13.0</td>\n",
       "      <td>12</td>\n",
       "      <td>16</td>\n",
       "    </tr>\n",
       "  </tbody>\n",
       "</table>\n",
       "</div>"
      ],
      "text/plain": [
       "   unnamed key1 key2  value1  value3  value4\n",
       "0        0    A    W     0.0       4      13\n",
       "1        1    B  NaN     NaN      10      14\n",
       "2        2    a    Z     3.0      17      15\n",
       "3        3  NaN    Y    13.0      12      16"
      ]
     },
     "execution_count": 31,
     "metadata": {},
     "output_type": "execute_result"
    }
   ],
   "source": [
    "dataFrame_2"
   ]
  },
  {
   "cell_type": "code",
   "execution_count": null,
   "id": "2d2eeb3c-99f8-4ce6-8f0e-758e50b55add",
   "metadata": {},
   "outputs": [],
   "source": []
  },
  {
   "cell_type": "code",
   "execution_count": null,
   "id": "47ebada7-a793-4695-8153-b7cc3af47bb7",
   "metadata": {},
   "outputs": [],
   "source": []
  },
  {
   "cell_type": "code",
   "execution_count": null,
   "id": "aa49b3a8-48a0-4a5b-8166-048d817f3965",
   "metadata": {},
   "outputs": [],
   "source": []
  },
  {
   "cell_type": "code",
   "execution_count": null,
   "id": "5308096f-921e-4db4-a198-ad92aed87938",
   "metadata": {},
   "outputs": [],
   "source": []
  },
  {
   "cell_type": "code",
   "execution_count": 32,
   "id": "0889fae2-c0dd-4b1d-b974-8881893556b4",
   "metadata": {
    "tags": []
   },
   "outputs": [
    {
     "data": {
      "text/html": [
       "<div>\n",
       "<style scoped>\n",
       "    .dataframe tbody tr th:only-of-type {\n",
       "        vertical-align: middle;\n",
       "    }\n",
       "\n",
       "    .dataframe tbody tr th {\n",
       "        vertical-align: top;\n",
       "    }\n",
       "\n",
       "    .dataframe thead th {\n",
       "        text-align: right;\n",
       "    }\n",
       "</style>\n",
       "<table border=\"1\" class=\"dataframe\">\n",
       "  <thead>\n",
       "    <tr style=\"text-align: right;\">\n",
       "      <th></th>\n",
       "      <th>unnamed</th>\n",
       "      <th>key1</th>\n",
       "      <th>key2</th>\n",
       "      <th>value1</th>\n",
       "      <th>value3</th>\n",
       "      <th>value4</th>\n",
       "    </tr>\n",
       "  </thead>\n",
       "  <tbody>\n",
       "    <tr>\n",
       "      <th>0</th>\n",
       "      <td>0</td>\n",
       "      <td>A</td>\n",
       "      <td>W</td>\n",
       "      <td>0.0</td>\n",
       "      <td>4</td>\n",
       "      <td>13</td>\n",
       "    </tr>\n",
       "    <tr>\n",
       "      <th>2</th>\n",
       "      <td>2</td>\n",
       "      <td>a</td>\n",
       "      <td>Z</td>\n",
       "      <td>3.0</td>\n",
       "      <td>17</td>\n",
       "      <td>15</td>\n",
       "    </tr>\n",
       "  </tbody>\n",
       "</table>\n",
       "</div>"
      ],
      "text/plain": [
       "   unnamed key1 key2  value1  value3  value4\n",
       "0        0    A    W     0.0       4      13\n",
       "2        2    a    Z     3.0      17      15"
      ]
     },
     "execution_count": 32,
     "metadata": {},
     "output_type": "execute_result"
    }
   ],
   "source": [
    "dataFrame_2.dropna(axis=0, how='any', inplace=False)"
   ]
  },
  {
   "cell_type": "code",
   "execution_count": 33,
   "id": "1e5699be-7686-419e-99b6-b09a5594bd96",
   "metadata": {},
   "outputs": [
    {
     "data": {
      "text/html": [
       "<div>\n",
       "<style scoped>\n",
       "    .dataframe tbody tr th:only-of-type {\n",
       "        vertical-align: middle;\n",
       "    }\n",
       "\n",
       "    .dataframe tbody tr th {\n",
       "        vertical-align: top;\n",
       "    }\n",
       "\n",
       "    .dataframe thead th {\n",
       "        text-align: right;\n",
       "    }\n",
       "</style>\n",
       "<table border=\"1\" class=\"dataframe\">\n",
       "  <thead>\n",
       "    <tr style=\"text-align: right;\">\n",
       "      <th></th>\n",
       "      <th>unnamed</th>\n",
       "      <th>key1</th>\n",
       "      <th>key2</th>\n",
       "      <th>value1</th>\n",
       "      <th>value3</th>\n",
       "      <th>value4</th>\n",
       "    </tr>\n",
       "  </thead>\n",
       "  <tbody>\n",
       "    <tr>\n",
       "      <th>0</th>\n",
       "      <td>0</td>\n",
       "      <td>A</td>\n",
       "      <td>W</td>\n",
       "      <td>0.0</td>\n",
       "      <td>4</td>\n",
       "      <td>13</td>\n",
       "    </tr>\n",
       "    <tr>\n",
       "      <th>1</th>\n",
       "      <td>1</td>\n",
       "      <td>B</td>\n",
       "      <td>NaN</td>\n",
       "      <td>NaN</td>\n",
       "      <td>10</td>\n",
       "      <td>14</td>\n",
       "    </tr>\n",
       "    <tr>\n",
       "      <th>2</th>\n",
       "      <td>2</td>\n",
       "      <td>a</td>\n",
       "      <td>Z</td>\n",
       "      <td>3.0</td>\n",
       "      <td>17</td>\n",
       "      <td>15</td>\n",
       "    </tr>\n",
       "    <tr>\n",
       "      <th>3</th>\n",
       "      <td>3</td>\n",
       "      <td>NaN</td>\n",
       "      <td>Y</td>\n",
       "      <td>13.0</td>\n",
       "      <td>12</td>\n",
       "      <td>16</td>\n",
       "    </tr>\n",
       "  </tbody>\n",
       "</table>\n",
       "</div>"
      ],
      "text/plain": [
       "   unnamed key1 key2  value1  value3  value4\n",
       "0        0    A    W     0.0       4      13\n",
       "1        1    B  NaN     NaN      10      14\n",
       "2        2    a    Z     3.0      17      15\n",
       "3        3  NaN    Y    13.0      12      16"
      ]
     },
     "execution_count": 33,
     "metadata": {},
     "output_type": "execute_result"
    }
   ],
   "source": [
    "dataFrame_2"
   ]
  },
  {
   "cell_type": "code",
   "execution_count": 34,
   "id": "2f242d4f-1aa3-4ce0-b823-d2b88585a00f",
   "metadata": {},
   "outputs": [],
   "source": [
    "dataFrame_2.dropna(axis=0, how='any', inplace=True)"
   ]
  },
  {
   "cell_type": "code",
   "execution_count": 35,
   "id": "c0d307ab-80a7-4327-b4cf-4baa4955124c",
   "metadata": {
    "tags": []
   },
   "outputs": [
    {
     "data": {
      "text/html": [
       "<div>\n",
       "<style scoped>\n",
       "    .dataframe tbody tr th:only-of-type {\n",
       "        vertical-align: middle;\n",
       "    }\n",
       "\n",
       "    .dataframe tbody tr th {\n",
       "        vertical-align: top;\n",
       "    }\n",
       "\n",
       "    .dataframe thead th {\n",
       "        text-align: right;\n",
       "    }\n",
       "</style>\n",
       "<table border=\"1\" class=\"dataframe\">\n",
       "  <thead>\n",
       "    <tr style=\"text-align: right;\">\n",
       "      <th></th>\n",
       "      <th>unnamed</th>\n",
       "      <th>key1</th>\n",
       "      <th>key2</th>\n",
       "      <th>value1</th>\n",
       "      <th>value3</th>\n",
       "      <th>value4</th>\n",
       "    </tr>\n",
       "  </thead>\n",
       "  <tbody>\n",
       "    <tr>\n",
       "      <th>0</th>\n",
       "      <td>0</td>\n",
       "      <td>A</td>\n",
       "      <td>W</td>\n",
       "      <td>0.0</td>\n",
       "      <td>4</td>\n",
       "      <td>13</td>\n",
       "    </tr>\n",
       "    <tr>\n",
       "      <th>2</th>\n",
       "      <td>2</td>\n",
       "      <td>a</td>\n",
       "      <td>Z</td>\n",
       "      <td>3.0</td>\n",
       "      <td>17</td>\n",
       "      <td>15</td>\n",
       "    </tr>\n",
       "  </tbody>\n",
       "</table>\n",
       "</div>"
      ],
      "text/plain": [
       "   unnamed key1 key2  value1  value3  value4\n",
       "0        0    A    W     0.0       4      13\n",
       "2        2    a    Z     3.0      17      15"
      ]
     },
     "execution_count": 35,
     "metadata": {},
     "output_type": "execute_result"
    }
   ],
   "source": [
    "dataFrame_2"
   ]
  },
  {
   "cell_type": "code",
   "execution_count": 36,
   "id": "7fee45dd-840f-4a95-ae8c-bca5f63f027b",
   "metadata": {
    "tags": []
   },
   "outputs": [],
   "source": [
    "dataFrame_2.set_index('unnamed', inplace=True)"
   ]
  },
  {
   "cell_type": "code",
   "execution_count": 37,
   "id": "2135fa1b-32db-4f5a-8d68-2504b405be65",
   "metadata": {
    "tags": []
   },
   "outputs": [
    {
     "data": {
      "text/html": [
       "<div>\n",
       "<style scoped>\n",
       "    .dataframe tbody tr th:only-of-type {\n",
       "        vertical-align: middle;\n",
       "    }\n",
       "\n",
       "    .dataframe tbody tr th {\n",
       "        vertical-align: top;\n",
       "    }\n",
       "\n",
       "    .dataframe thead th {\n",
       "        text-align: right;\n",
       "    }\n",
       "</style>\n",
       "<table border=\"1\" class=\"dataframe\">\n",
       "  <thead>\n",
       "    <tr style=\"text-align: right;\">\n",
       "      <th></th>\n",
       "      <th>key1</th>\n",
       "      <th>key2</th>\n",
       "      <th>value1</th>\n",
       "      <th>value3</th>\n",
       "      <th>value4</th>\n",
       "    </tr>\n",
       "    <tr>\n",
       "      <th>unnamed</th>\n",
       "      <th></th>\n",
       "      <th></th>\n",
       "      <th></th>\n",
       "      <th></th>\n",
       "      <th></th>\n",
       "    </tr>\n",
       "  </thead>\n",
       "  <tbody>\n",
       "    <tr>\n",
       "      <th>0</th>\n",
       "      <td>A</td>\n",
       "      <td>W</td>\n",
       "      <td>0.0</td>\n",
       "      <td>4</td>\n",
       "      <td>13</td>\n",
       "    </tr>\n",
       "    <tr>\n",
       "      <th>2</th>\n",
       "      <td>a</td>\n",
       "      <td>Z</td>\n",
       "      <td>3.0</td>\n",
       "      <td>17</td>\n",
       "      <td>15</td>\n",
       "    </tr>\n",
       "  </tbody>\n",
       "</table>\n",
       "</div>"
      ],
      "text/plain": [
       "        key1 key2  value1  value3  value4\n",
       "unnamed                                  \n",
       "0          A    W     0.0       4      13\n",
       "2          a    Z     3.0      17      15"
      ]
     },
     "execution_count": 37,
     "metadata": {},
     "output_type": "execute_result"
    }
   ],
   "source": [
    "dataFrame_2"
   ]
  },
  {
   "cell_type": "code",
   "execution_count": 38,
   "id": "a6253dbf-6e25-455e-8992-725b16fa5f7b",
   "metadata": {
    "tags": []
   },
   "outputs": [],
   "source": [
    "dataFrame_2.reset_index(drop=True, inplace=True)"
   ]
  },
  {
   "cell_type": "code",
   "execution_count": 39,
   "id": "cce8295c-bfc1-48e0-9f7c-ff06625c7421",
   "metadata": {
    "tags": []
   },
   "outputs": [
    {
     "data": {
      "text/html": [
       "<div>\n",
       "<style scoped>\n",
       "    .dataframe tbody tr th:only-of-type {\n",
       "        vertical-align: middle;\n",
       "    }\n",
       "\n",
       "    .dataframe tbody tr th {\n",
       "        vertical-align: top;\n",
       "    }\n",
       "\n",
       "    .dataframe thead th {\n",
       "        text-align: right;\n",
       "    }\n",
       "</style>\n",
       "<table border=\"1\" class=\"dataframe\">\n",
       "  <thead>\n",
       "    <tr style=\"text-align: right;\">\n",
       "      <th></th>\n",
       "      <th>key1</th>\n",
       "      <th>key2</th>\n",
       "      <th>value1</th>\n",
       "      <th>value3</th>\n",
       "      <th>value4</th>\n",
       "    </tr>\n",
       "  </thead>\n",
       "  <tbody>\n",
       "    <tr>\n",
       "      <th>0</th>\n",
       "      <td>A</td>\n",
       "      <td>W</td>\n",
       "      <td>0.0</td>\n",
       "      <td>4</td>\n",
       "      <td>13</td>\n",
       "    </tr>\n",
       "    <tr>\n",
       "      <th>1</th>\n",
       "      <td>a</td>\n",
       "      <td>Z</td>\n",
       "      <td>3.0</td>\n",
       "      <td>17</td>\n",
       "      <td>15</td>\n",
       "    </tr>\n",
       "  </tbody>\n",
       "</table>\n",
       "</div>"
      ],
      "text/plain": [
       "  key1 key2  value1  value3  value4\n",
       "0    A    W     0.0       4      13\n",
       "1    a    Z     3.0      17      15"
      ]
     },
     "execution_count": 39,
     "metadata": {},
     "output_type": "execute_result"
    }
   ],
   "source": [
    "dataFrame_2"
   ]
  },
  {
   "cell_type": "code",
   "execution_count": null,
   "id": "d509715f-b4d3-4782-9533-6859e457cbc8",
   "metadata": {},
   "outputs": [],
   "source": []
  },
  {
   "cell_type": "code",
   "execution_count": 40,
   "id": "bf3139e3-bb8d-4ca2-8f13-487920815b95",
   "metadata": {},
   "outputs": [],
   "source": [
    "#df.reset_index(drop=True)"
   ]
  },
  {
   "cell_type": "code",
   "execution_count": 41,
   "id": "59b62fd0-051d-4dce-a374-2cf279ead3da",
   "metadata": {},
   "outputs": [],
   "source": [
    "#dataFrame_3=dataFrame_2.dropna(axis=0, how='any', inplace=False)"
   ]
  },
  {
   "cell_type": "code",
   "execution_count": 42,
   "id": "c1903bc5-c556-412e-b9b5-435d032dc9ee",
   "metadata": {
    "tags": []
   },
   "outputs": [],
   "source": [
    "#dataFrame_3"
   ]
  },
  {
   "cell_type": "code",
   "execution_count": null,
   "id": "66d55979-04c0-4b21-b9ad-dacaabddea80",
   "metadata": {},
   "outputs": [],
   "source": []
  },
  {
   "cell_type": "code",
   "execution_count": null,
   "id": "aec2aa26-24a4-4bfe-aa1e-afc15f1c024b",
   "metadata": {},
   "outputs": [],
   "source": []
  },
  {
   "cell_type": "code",
   "execution_count": null,
   "id": "46fadc73-e1a4-47e0-b6c0-85ec773aba11",
   "metadata": {},
   "outputs": [],
   "source": []
  },
  {
   "cell_type": "code",
   "execution_count": 43,
   "id": "10d28bb5-7591-45cd-8f7d-83bc36a769ed",
   "metadata": {
    "tags": []
   },
   "outputs": [],
   "source": [
    "neighbours = np.arange(1,25)\n",
    "train_accuracy = np.empty(len(neighbours))\n",
    "test_accuracy = np.empty(len(neighbours))"
   ]
  },
  {
   "cell_type": "code",
   "execution_count": 44,
   "id": "9cb9bcfd-5005-4338-805b-d63ad5a38ecc",
   "metadata": {
    "tags": []
   },
   "outputs": [
    {
     "data": {
      "text/plain": [
       "array([-0.25, -0.5 ,  0.  , -0.25,  0.25, -0.5 ,  0.5 , -0.25,  0.25,\n",
       "        0.  ,  0.5 ,  0.25,  0.25,  0.5 ,  0.  ,  0.25, -0.25,  0.5 ,\n",
       "       -0.5 ,  0.25, -0.25,  0.  , -0.5 , -0.25])"
      ]
     },
     "execution_count": 44,
     "metadata": {},
     "output_type": "execute_result"
    }
   ],
   "source": [
    "train_accuracy"
   ]
  },
  {
   "cell_type": "code",
   "execution_count": 45,
   "id": "0f2ebc8d-06da-477c-a73d-cdd9a1dc669b",
   "metadata": {
    "tags": []
   },
   "outputs": [
    {
     "data": {
      "text/plain": [
       "array([6.23042070e-307, 4.67296746e-307, 1.69121096e-306, 9.79103119e-307,\n",
       "       7.56587585e-307, 1.37961302e-306, 1.05699242e-307, 1.95821439e-306,\n",
       "       1.60216183e-306, 1.78019625e-306, 8.45595292e-307, 1.33511290e-306,\n",
       "       1.60218220e-306, 1.11261570e-306, 6.23059726e-307, 6.23053954e-307,\n",
       "       9.34609790e-307, 8.45593934e-307, 9.34600963e-307, 1.37961777e-306,\n",
       "       8.01097889e-307, 1.78021798e-306, 8.34451504e-308, 8.34402698e-308])"
      ]
     },
     "execution_count": 45,
     "metadata": {},
     "output_type": "execute_result"
    }
   ],
   "source": [
    "test_accuracy"
   ]
  },
  {
   "cell_type": "code",
   "execution_count": null,
   "id": "0cae48fd-6807-4868-8894-60ef8902ac05",
   "metadata": {},
   "outputs": [],
   "source": []
  },
  {
   "cell_type": "code",
   "execution_count": null,
   "id": "573a8450-b63d-4bf7-9b5c-84820b85ef19",
   "metadata": {},
   "outputs": [],
   "source": []
  },
  {
   "cell_type": "code",
   "execution_count": 46,
   "id": "c7f053ba-63a1-4e5e-abb3-a525fe89d8d9",
   "metadata": {
    "tags": []
   },
   "outputs": [],
   "source": [
    "df = pd.DataFrame(np.arange(12).reshape(3, 4),\n",
    "                  columns=['A', 'B', 'C', 'D'])"
   ]
  },
  {
   "cell_type": "code",
   "execution_count": 47,
   "id": "d30fa2e3-8811-4a94-be69-e205ecbb577b",
   "metadata": {
    "tags": []
   },
   "outputs": [
    {
     "data": {
      "text/html": [
       "<div>\n",
       "<style scoped>\n",
       "    .dataframe tbody tr th:only-of-type {\n",
       "        vertical-align: middle;\n",
       "    }\n",
       "\n",
       "    .dataframe tbody tr th {\n",
       "        vertical-align: top;\n",
       "    }\n",
       "\n",
       "    .dataframe thead th {\n",
       "        text-align: right;\n",
       "    }\n",
       "</style>\n",
       "<table border=\"1\" class=\"dataframe\">\n",
       "  <thead>\n",
       "    <tr style=\"text-align: right;\">\n",
       "      <th></th>\n",
       "      <th>A</th>\n",
       "      <th>B</th>\n",
       "      <th>C</th>\n",
       "      <th>D</th>\n",
       "    </tr>\n",
       "  </thead>\n",
       "  <tbody>\n",
       "    <tr>\n",
       "      <th>0</th>\n",
       "      <td>0</td>\n",
       "      <td>1</td>\n",
       "      <td>2</td>\n",
       "      <td>3</td>\n",
       "    </tr>\n",
       "    <tr>\n",
       "      <th>1</th>\n",
       "      <td>4</td>\n",
       "      <td>5</td>\n",
       "      <td>6</td>\n",
       "      <td>7</td>\n",
       "    </tr>\n",
       "    <tr>\n",
       "      <th>2</th>\n",
       "      <td>8</td>\n",
       "      <td>9</td>\n",
       "      <td>10</td>\n",
       "      <td>11</td>\n",
       "    </tr>\n",
       "  </tbody>\n",
       "</table>\n",
       "</div>"
      ],
      "text/plain": [
       "   A  B   C   D\n",
       "0  0  1   2   3\n",
       "1  4  5   6   7\n",
       "2  8  9  10  11"
      ]
     },
     "execution_count": 47,
     "metadata": {},
     "output_type": "execute_result"
    }
   ],
   "source": [
    "df"
   ]
  },
  {
   "cell_type": "code",
   "execution_count": 48,
   "id": "fa8e352b-47fc-4c2b-8fec-745be3a52668",
   "metadata": {
    "tags": []
   },
   "outputs": [],
   "source": [
    "df = df.drop(['B'], axis=1)"
   ]
  },
  {
   "cell_type": "code",
   "execution_count": 49,
   "id": "59199d7e-e6f8-4fb0-b071-4198e647982e",
   "metadata": {
    "tags": []
   },
   "outputs": [
    {
     "data": {
      "text/html": [
       "<div>\n",
       "<style scoped>\n",
       "    .dataframe tbody tr th:only-of-type {\n",
       "        vertical-align: middle;\n",
       "    }\n",
       "\n",
       "    .dataframe tbody tr th {\n",
       "        vertical-align: top;\n",
       "    }\n",
       "\n",
       "    .dataframe thead th {\n",
       "        text-align: right;\n",
       "    }\n",
       "</style>\n",
       "<table border=\"1\" class=\"dataframe\">\n",
       "  <thead>\n",
       "    <tr style=\"text-align: right;\">\n",
       "      <th></th>\n",
       "      <th>A</th>\n",
       "      <th>C</th>\n",
       "      <th>D</th>\n",
       "    </tr>\n",
       "  </thead>\n",
       "  <tbody>\n",
       "    <tr>\n",
       "      <th>0</th>\n",
       "      <td>0</td>\n",
       "      <td>2</td>\n",
       "      <td>3</td>\n",
       "    </tr>\n",
       "    <tr>\n",
       "      <th>1</th>\n",
       "      <td>4</td>\n",
       "      <td>6</td>\n",
       "      <td>7</td>\n",
       "    </tr>\n",
       "    <tr>\n",
       "      <th>2</th>\n",
       "      <td>8</td>\n",
       "      <td>10</td>\n",
       "      <td>11</td>\n",
       "    </tr>\n",
       "  </tbody>\n",
       "</table>\n",
       "</div>"
      ],
      "text/plain": [
       "   A   C   D\n",
       "0  0   2   3\n",
       "1  4   6   7\n",
       "2  8  10  11"
      ]
     },
     "execution_count": 49,
     "metadata": {},
     "output_type": "execute_result"
    }
   ],
   "source": [
    "df"
   ]
  },
  {
   "cell_type": "code",
   "execution_count": null,
   "id": "08fb1845-85d5-460f-b446-6fe68e3a6c36",
   "metadata": {},
   "outputs": [],
   "source": []
  },
  {
   "cell_type": "code",
   "execution_count": null,
   "id": "a31d6c82-19eb-4310-bb13-d77bc31dfb56",
   "metadata": {},
   "outputs": [],
   "source": []
  },
  {
   "cell_type": "code",
   "execution_count": null,
   "id": "17eda897-f542-4303-a8c7-64c2c1597841",
   "metadata": {},
   "outputs": [],
   "source": []
  },
  {
   "cell_type": "code",
   "execution_count": null,
   "id": "863a59b6-9807-482d-a81d-b3b2a1a57e44",
   "metadata": {},
   "outputs": [],
   "source": []
  },
  {
   "cell_type": "code",
   "execution_count": null,
   "id": "b334631c-d8bf-4ba4-87d1-55077cd41a28",
   "metadata": {
    "tags": []
   },
   "outputs": [],
   "source": []
  },
  {
   "cell_type": "code",
   "execution_count": null,
   "id": "1c5df0ae-6a2a-4488-8a79-7d9563d9d35c",
   "metadata": {},
   "outputs": [],
   "source": []
  },
  {
   "cell_type": "code",
   "execution_count": null,
   "id": "8318f628-dd02-48ec-9f84-a9caff41b06e",
   "metadata": {},
   "outputs": [],
   "source": []
  },
  {
   "cell_type": "code",
   "execution_count": null,
   "id": "09781912-3bed-4c8e-af1f-41d3bd197c4b",
   "metadata": {
    "tags": []
   },
   "outputs": [],
   "source": []
  },
  {
   "cell_type": "code",
   "execution_count": 50,
   "id": "2036e1cd-5172-4fb7-b15b-f5434e6479ec",
   "metadata": {
    "tags": []
   },
   "outputs": [
    {
     "data": {
      "text/html": [
       "<div>\n",
       "<style scoped>\n",
       "    .dataframe tbody tr th:only-of-type {\n",
       "        vertical-align: middle;\n",
       "    }\n",
       "\n",
       "    .dataframe tbody tr th {\n",
       "        vertical-align: top;\n",
       "    }\n",
       "\n",
       "    .dataframe thead th {\n",
       "        text-align: right;\n",
       "    }\n",
       "</style>\n",
       "<table border=\"1\" class=\"dataframe\">\n",
       "  <thead>\n",
       "    <tr style=\"text-align: right;\">\n",
       "      <th></th>\n",
       "      <th>A</th>\n",
       "      <th>C</th>\n",
       "      <th>D</th>\n",
       "    </tr>\n",
       "  </thead>\n",
       "  <tbody>\n",
       "    <tr>\n",
       "      <th>0</th>\n",
       "      <td>0</td>\n",
       "      <td>2</td>\n",
       "      <td>3</td>\n",
       "    </tr>\n",
       "    <tr>\n",
       "      <th>1</th>\n",
       "      <td>4</td>\n",
       "      <td>6</td>\n",
       "      <td>7</td>\n",
       "    </tr>\n",
       "    <tr>\n",
       "      <th>2</th>\n",
       "      <td>8</td>\n",
       "      <td>10</td>\n",
       "      <td>11</td>\n",
       "    </tr>\n",
       "  </tbody>\n",
       "</table>\n",
       "</div>"
      ],
      "text/plain": [
       "   A   C   D\n",
       "0  0   2   3\n",
       "1  4   6   7\n",
       "2  8  10  11"
      ]
     },
     "execution_count": 50,
     "metadata": {},
     "output_type": "execute_result"
    }
   ],
   "source": [
    "df"
   ]
  },
  {
   "cell_type": "code",
   "execution_count": null,
   "id": "e77f9cab-126a-4da0-8239-c2cb002696c4",
   "metadata": {},
   "outputs": [],
   "source": []
  },
  {
   "cell_type": "code",
   "execution_count": 51,
   "id": "012fa615-6482-42fb-937d-18186c97ffd5",
   "metadata": {
    "tags": []
   },
   "outputs": [
    {
     "name": "stdout",
     "output_type": "stream",
     "text": [
      "Match complet: Hello, world\n",
      "Premier groupe: Hello\n",
      "Deuxième groupe: world\n"
     ]
    }
   ],
   "source": [
    "import re\n",
    "\n",
    "text = \"Hello, world!\"\n",
    "pattern = r\"(\\w+), (\\w+)\"\n",
    "\n",
    "match = re.search(pattern, text)\n",
    "\n",
    "if match:\n",
    "    # Récupérer toute la sous-chaîne correspondante\n",
    "    full_match = match.group()\n",
    "    print(\"Match complet:\", full_match)  # Output: Hello, world!\n",
    "\n",
    "    # Récupérer la première sous-chaîne capturée (groupe 1)\n",
    "    first_group = match.group(1)\n",
    "    print(\"Premier groupe:\", first_group)  # Output: Hello\n",
    "\n",
    "    # Récupérer la deuxième sous-chaîne capturée (groupe 2)\n",
    "    second_group = match.group(2)\n",
    "    print(\"Deuxième groupe:\", second_group)  # Output: world\n"
   ]
  },
  {
   "cell_type": "code",
   "execution_count": null,
   "id": "07c27771-d83e-4f97-9fc0-ba7b826ae1f6",
   "metadata": {},
   "outputs": [],
   "source": []
  },
  {
   "cell_type": "code",
   "execution_count": null,
   "id": "613a1c8c-f7cd-41a1-a337-b859824ca23a",
   "metadata": {},
   "outputs": [],
   "source": []
  },
  {
   "cell_type": "code",
   "execution_count": 53,
   "id": "68ef67a4-8dbb-4a44-8b4b-9704f5b66d75",
   "metadata": {
    "tags": []
   },
   "outputs": [
    {
     "name": "stdout",
     "output_type": "stream",
     "text": [
      "Hello thank you  world of famous Python code is not awesome for all\n"
     ]
    }
   ],
   "source": [
    "import pandas as pd\n",
    "\n",
    "# Exemple de DataFrame avec une colonne \"Char\"\n",
    "data = {\n",
    "    'Char': ['Hello thank you', ' world of famous', 'Python code', 'is not', 'awesome for all']\n",
    "}\n",
    "df = pd.DataFrame(data)\n",
    "\n",
    "# Créer une chaîne de caractères contenant la concaténation de toutes les entrées de la colonne \"Char\"\n",
    "CharChain = ' '.join(df['Char'])\n",
    "\n",
    "# Afficher la chaîne résultante\n",
    "print(CharChain)"
   ]
  },
  {
   "cell_type": "code",
   "execution_count": null,
   "id": "b66993ec-d4ae-463f-8966-da5f0db40ae6",
   "metadata": {},
   "outputs": [],
   "source": []
  }
 ],
 "metadata": {
  "kernelspec": {
   "display_name": "Projet_accidents_routiers_V10",
   "language": "python",
   "name": "projet_accidents_routiers_v10"
  },
  "language_info": {
   "codemirror_mode": {
    "name": "ipython",
    "version": 3
   },
   "file_extension": ".py",
   "mimetype": "text/x-python",
   "name": "python",
   "nbconvert_exporter": "python",
   "pygments_lexer": "ipython3",
   "version": "3.11.7"
  }
 },
 "nbformat": 4,
 "nbformat_minor": 5
}
