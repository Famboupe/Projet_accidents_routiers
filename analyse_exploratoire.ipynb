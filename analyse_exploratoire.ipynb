{
 "cells": [
  {
   "cell_type": "markdown",
   "metadata": {},
   "source": [
    "Projet : Accident de la route\n",
    "==============\n",
    "\n",
    "Le projet qui vous a été attribué est le suivant : Accidents routiers en France\n",
    "\n",
    "- Étape 1/ Exploration des données + DataViz’ : Deadline Vendredi 15 Mars\n",
    "Votre première tâche consistera à définir le <span style=\"color: #26B260\">**contexte**</span> et le <span style=\"color: #26B260\">**périmètre du projet**</span> : j’attends que vous preniez vraiment le temps de bien comprendre le projet et de vous renseigner au mieux sur les notions que celui-ci va introduire.\n",
    "\n",
    "Il faudra ensuite prendre en main et <span style=\"color: #26B260\">**découvrir votre jeu de données**</span> et faire une <span style=\"color: #26B260\">**analyse presque exhaustive**</span> de celui-ci afin de mettre en lumière la <span style=\"color: #26B260\">**structure**</span>, les <span style=\"color: #26B260\">**difficultés**</span> et <span style=\"color: #26B260\">**eventuels</span> biais** du dataset.\n",
    "\n",
    "Vous pourrez utiliser ce [**template : Template - Rapport exploration des données**](https://onedrive.live.com/edit?id=1DD0D0EFB906825!9189&resid=1DD0D0EFB906825!9189&ithint=file%2cxlsx&ct=1708768365134&wdOrigin=OFFICECOM-WEB.MAIN.UPLOAD&wdPreviousSessionSrc=HarmonyWeb&wdPreviousSession=7b89bcec-2c24-4972-bd6b-334e7b3df731&wdo=2&cid=01dd0d0efb906825)\n",
    "J’attendrai également au moins **5 représentations graphiques** construites à partir de votre jeu de données, visuelles et surtout pertinentes. Pour chacune d’elle j’attendrai :\n",
    "\n",
    "\n",
    "## Contexte\n",
    "\n",
    "L’objectif de ce projet est d’essayer de prédire la gravité des accidents routiers en France. Les prédictions seront basées sur les données historiques.\n",
    "\n",
    "La première étape est d’étudier et appliquer des méthodes pour nettoyer le jeu de données. \n",
    "La deuxième étape est d’extraire les caractéristiques qui semblent être pertinentes pour estimer la gravité d’accidents. \n",
    "\n",
    "On pourra créer un modèle prédictif, une fois l’entraînement du modèle effectué, nous allons comparer notre modèle avec les données historiques. \n",
    "Ensuite, à partir de ces résultats, on peut développer un scoring des zones à risque en fonction des informations météorologiques, l’emplacement géographique (coordonnées GPS, images satellite, …)\n",
    "\n"
   ]
  },
  {
   "cell_type": "markdown",
   "metadata": {},
   "source": [
    "### Informations sur les données\n",
    "\n",
    "Les données vont de 2005 à 2022, elles sont annuelles et composées de 4 fichiers (Caractéristiques – Lieux – Véhicules – Usagers) au format csv. Les données ont été anonymisées par le service de gouvernement. \n",
    "Les données répertorient l'intégralité des accidents corporels de la circulation sur le territoire français (France métropolitaine et les DOM-TOM).\n",
    "Le n° d'identifiant de l’accident (Cf. \"Num_Acc\") présent dans ces 4 rubriques permet d'établir un lien entre toutes les variables qui décrivent un accident.\\\n",
    "Quand un accident comporte plusieurs véhicules, il faut aussi pouvoir le relier chaque véhicule à ses occupants. Ce lien est fait par la variable id_vehicule.\n",
    "\n",
    "\n",
    "La variable cible est \"grav\" dans le dataset d'usagers.\n",
    "\n",
    "\n",
    "### Notions introduites :\n",
    "Qu'est-ce qui peut définir un accident comme grave ? \n",
    "Il y a :\n",
    "- le type d'accident :  df_car\n",
    "- la temporalité de l'accident (date et heure) : df_car\n",
    "- le lieu de l'accident : df_car\n",
    "- les caractéristiques de l'accident : df_car\n",
    "- les informations météorologiques de l'accident : df_car['atm'],\n",
    "- l'emplacement géographique de l'accident, df_car[['dep' , 'com', 'agg', 'int','adr']], \n",
    "- les circuits de l'accident,\n",
    "\n",
    "Selon l'OMS, en 2023, 53% des décès dus aux accidents concernent des usagers de la route vulnérables, notamment : les piétons (23 %) ; les conducteurs de deux-roues et de trois-roues motorisés tels que les motocyclettes (21 %) ; les cyclistes (6 %) ; et les usagers d’engins de micro-mobilité comme les trottinettes électriques (3 %).\n",
    "\n",
    "D'après les données disponibles pour 2021 de la commission européenne, 52 % des décès dus à des accidents de la route sont survenus en zone rurale, contre 39 % en zone urbaine et 9 % sur des autoroutes. Trois victimes sur quatre (78 %) sont des hommes.\n",
    "\n",
    "En zone urbaine, les usagers vulnérables de la route (piétons, cyclistes et usagers de deux-roues motorisés) représentent près de 70 % du total des décès."
   ]
  },
  {
   "cell_type": "markdown",
   "metadata": {},
   "source": [
    "### Import des données"
   ]
  },
  {
   "cell_type": "code",
   "execution_count": 4,
   "metadata": {},
   "outputs": [
    {
     "data": {
      "text/plain": [
       "100"
      ]
     },
     "execution_count": 4,
     "metadata": {},
     "output_type": "execute_result"
    }
   ],
   "source": [
    "# import des librairies\n",
    "import pandas as pd\n",
    "import matplotlib.pyplot as plt\n",
    "import seaborn as sns\n",
    "\n",
    "# librairie pour afficher toutes les colonnes du dataframe\n",
    "pd.set_option('display.max_columns', None)\n",
    "pd.options.display.max_info_columns"
   ]
  },
  {
   "cell_type": "code",
   "execution_count": 5,
   "metadata": {},
   "outputs": [
    {
     "ename": "FileNotFoundError",
     "evalue": "[Errno 2] No such file or directory: 'dataset/usagers-2022.csv'",
     "output_type": "error",
     "traceback": [
      "\u001b[1;31m---------------------------------------------------------------------------\u001b[0m",
      "\u001b[1;31mFileNotFoundError\u001b[0m                         Traceback (most recent call last)",
      "Cell \u001b[1;32mIn[5], line 2\u001b[0m\n\u001b[0;32m      1\u001b[0m \u001b[38;5;66;03m# import du dataset : usagers impliqués\u001b[39;00m\n\u001b[1;32m----> 2\u001b[0m df_usa22 \u001b[38;5;241m=\u001b[39m pd\u001b[38;5;241m.\u001b[39mread_csv(\u001b[38;5;124m\"\u001b[39m\u001b[38;5;124mdataset/usagers-2022.csv\u001b[39m\u001b[38;5;124m\"\u001b[39m, sep\u001b[38;5;241m=\u001b[39m\u001b[38;5;124m'\u001b[39m\u001b[38;5;124m;\u001b[39m\u001b[38;5;124m'\u001b[39m)\n\u001b[0;32m      3\u001b[0m df_usa21 \u001b[38;5;241m=\u001b[39m pd\u001b[38;5;241m.\u001b[39mread_csv(\u001b[38;5;124m\"\u001b[39m\u001b[38;5;124mdataset/usagers-2021.csv\u001b[39m\u001b[38;5;124m\"\u001b[39m, sep\u001b[38;5;241m=\u001b[39m\u001b[38;5;124m'\u001b[39m\u001b[38;5;124m;\u001b[39m\u001b[38;5;124m'\u001b[39m)\n\u001b[0;32m      4\u001b[0m df_usa20 \u001b[38;5;241m=\u001b[39m pd\u001b[38;5;241m.\u001b[39mread_csv(\u001b[38;5;124m\"\u001b[39m\u001b[38;5;124mdataset/usagers-2020.csv\u001b[39m\u001b[38;5;124m\"\u001b[39m, sep\u001b[38;5;241m=\u001b[39m\u001b[38;5;124m'\u001b[39m\u001b[38;5;124m;\u001b[39m\u001b[38;5;124m'\u001b[39m)\n",
      "File \u001b[1;32m~\\anaconda3\\envs\\Projet_accidents_routiers\\Lib\\site-packages\\pandas\\io\\parsers\\readers.py:948\u001b[0m, in \u001b[0;36mread_csv\u001b[1;34m(filepath_or_buffer, sep, delimiter, header, names, index_col, usecols, dtype, engine, converters, true_values, false_values, skipinitialspace, skiprows, skipfooter, nrows, na_values, keep_default_na, na_filter, verbose, skip_blank_lines, parse_dates, infer_datetime_format, keep_date_col, date_parser, date_format, dayfirst, cache_dates, iterator, chunksize, compression, thousands, decimal, lineterminator, quotechar, quoting, doublequote, escapechar, comment, encoding, encoding_errors, dialect, on_bad_lines, delim_whitespace, low_memory, memory_map, float_precision, storage_options, dtype_backend)\u001b[0m\n\u001b[0;32m    935\u001b[0m kwds_defaults \u001b[38;5;241m=\u001b[39m _refine_defaults_read(\n\u001b[0;32m    936\u001b[0m     dialect,\n\u001b[0;32m    937\u001b[0m     delimiter,\n\u001b[1;32m   (...)\u001b[0m\n\u001b[0;32m    944\u001b[0m     dtype_backend\u001b[38;5;241m=\u001b[39mdtype_backend,\n\u001b[0;32m    945\u001b[0m )\n\u001b[0;32m    946\u001b[0m kwds\u001b[38;5;241m.\u001b[39mupdate(kwds_defaults)\n\u001b[1;32m--> 948\u001b[0m \u001b[38;5;28;01mreturn\u001b[39;00m _read(filepath_or_buffer, kwds)\n",
      "File \u001b[1;32m~\\anaconda3\\envs\\Projet_accidents_routiers\\Lib\\site-packages\\pandas\\io\\parsers\\readers.py:611\u001b[0m, in \u001b[0;36m_read\u001b[1;34m(filepath_or_buffer, kwds)\u001b[0m\n\u001b[0;32m    608\u001b[0m _validate_names(kwds\u001b[38;5;241m.\u001b[39mget(\u001b[38;5;124m\"\u001b[39m\u001b[38;5;124mnames\u001b[39m\u001b[38;5;124m\"\u001b[39m, \u001b[38;5;28;01mNone\u001b[39;00m))\n\u001b[0;32m    610\u001b[0m \u001b[38;5;66;03m# Create the parser.\u001b[39;00m\n\u001b[1;32m--> 611\u001b[0m parser \u001b[38;5;241m=\u001b[39m TextFileReader(filepath_or_buffer, \u001b[38;5;241m*\u001b[39m\u001b[38;5;241m*\u001b[39mkwds)\n\u001b[0;32m    613\u001b[0m \u001b[38;5;28;01mif\u001b[39;00m chunksize \u001b[38;5;129;01mor\u001b[39;00m iterator:\n\u001b[0;32m    614\u001b[0m     \u001b[38;5;28;01mreturn\u001b[39;00m parser\n",
      "File \u001b[1;32m~\\anaconda3\\envs\\Projet_accidents_routiers\\Lib\\site-packages\\pandas\\io\\parsers\\readers.py:1448\u001b[0m, in \u001b[0;36mTextFileReader.__init__\u001b[1;34m(self, f, engine, **kwds)\u001b[0m\n\u001b[0;32m   1445\u001b[0m     \u001b[38;5;28mself\u001b[39m\u001b[38;5;241m.\u001b[39moptions[\u001b[38;5;124m\"\u001b[39m\u001b[38;5;124mhas_index_names\u001b[39m\u001b[38;5;124m\"\u001b[39m] \u001b[38;5;241m=\u001b[39m kwds[\u001b[38;5;124m\"\u001b[39m\u001b[38;5;124mhas_index_names\u001b[39m\u001b[38;5;124m\"\u001b[39m]\n\u001b[0;32m   1447\u001b[0m \u001b[38;5;28mself\u001b[39m\u001b[38;5;241m.\u001b[39mhandles: IOHandles \u001b[38;5;241m|\u001b[39m \u001b[38;5;28;01mNone\u001b[39;00m \u001b[38;5;241m=\u001b[39m \u001b[38;5;28;01mNone\u001b[39;00m\n\u001b[1;32m-> 1448\u001b[0m \u001b[38;5;28mself\u001b[39m\u001b[38;5;241m.\u001b[39m_engine \u001b[38;5;241m=\u001b[39m \u001b[38;5;28mself\u001b[39m\u001b[38;5;241m.\u001b[39m_make_engine(f, \u001b[38;5;28mself\u001b[39m\u001b[38;5;241m.\u001b[39mengine)\n",
      "File \u001b[1;32m~\\anaconda3\\envs\\Projet_accidents_routiers\\Lib\\site-packages\\pandas\\io\\parsers\\readers.py:1705\u001b[0m, in \u001b[0;36mTextFileReader._make_engine\u001b[1;34m(self, f, engine)\u001b[0m\n\u001b[0;32m   1703\u001b[0m     \u001b[38;5;28;01mif\u001b[39;00m \u001b[38;5;124m\"\u001b[39m\u001b[38;5;124mb\u001b[39m\u001b[38;5;124m\"\u001b[39m \u001b[38;5;129;01mnot\u001b[39;00m \u001b[38;5;129;01min\u001b[39;00m mode:\n\u001b[0;32m   1704\u001b[0m         mode \u001b[38;5;241m+\u001b[39m\u001b[38;5;241m=\u001b[39m \u001b[38;5;124m\"\u001b[39m\u001b[38;5;124mb\u001b[39m\u001b[38;5;124m\"\u001b[39m\n\u001b[1;32m-> 1705\u001b[0m \u001b[38;5;28mself\u001b[39m\u001b[38;5;241m.\u001b[39mhandles \u001b[38;5;241m=\u001b[39m get_handle(\n\u001b[0;32m   1706\u001b[0m     f,\n\u001b[0;32m   1707\u001b[0m     mode,\n\u001b[0;32m   1708\u001b[0m     encoding\u001b[38;5;241m=\u001b[39m\u001b[38;5;28mself\u001b[39m\u001b[38;5;241m.\u001b[39moptions\u001b[38;5;241m.\u001b[39mget(\u001b[38;5;124m\"\u001b[39m\u001b[38;5;124mencoding\u001b[39m\u001b[38;5;124m\"\u001b[39m, \u001b[38;5;28;01mNone\u001b[39;00m),\n\u001b[0;32m   1709\u001b[0m     compression\u001b[38;5;241m=\u001b[39m\u001b[38;5;28mself\u001b[39m\u001b[38;5;241m.\u001b[39moptions\u001b[38;5;241m.\u001b[39mget(\u001b[38;5;124m\"\u001b[39m\u001b[38;5;124mcompression\u001b[39m\u001b[38;5;124m\"\u001b[39m, \u001b[38;5;28;01mNone\u001b[39;00m),\n\u001b[0;32m   1710\u001b[0m     memory_map\u001b[38;5;241m=\u001b[39m\u001b[38;5;28mself\u001b[39m\u001b[38;5;241m.\u001b[39moptions\u001b[38;5;241m.\u001b[39mget(\u001b[38;5;124m\"\u001b[39m\u001b[38;5;124mmemory_map\u001b[39m\u001b[38;5;124m\"\u001b[39m, \u001b[38;5;28;01mFalse\u001b[39;00m),\n\u001b[0;32m   1711\u001b[0m     is_text\u001b[38;5;241m=\u001b[39mis_text,\n\u001b[0;32m   1712\u001b[0m     errors\u001b[38;5;241m=\u001b[39m\u001b[38;5;28mself\u001b[39m\u001b[38;5;241m.\u001b[39moptions\u001b[38;5;241m.\u001b[39mget(\u001b[38;5;124m\"\u001b[39m\u001b[38;5;124mencoding_errors\u001b[39m\u001b[38;5;124m\"\u001b[39m, \u001b[38;5;124m\"\u001b[39m\u001b[38;5;124mstrict\u001b[39m\u001b[38;5;124m\"\u001b[39m),\n\u001b[0;32m   1713\u001b[0m     storage_options\u001b[38;5;241m=\u001b[39m\u001b[38;5;28mself\u001b[39m\u001b[38;5;241m.\u001b[39moptions\u001b[38;5;241m.\u001b[39mget(\u001b[38;5;124m\"\u001b[39m\u001b[38;5;124mstorage_options\u001b[39m\u001b[38;5;124m\"\u001b[39m, \u001b[38;5;28;01mNone\u001b[39;00m),\n\u001b[0;32m   1714\u001b[0m )\n\u001b[0;32m   1715\u001b[0m \u001b[38;5;28;01massert\u001b[39;00m \u001b[38;5;28mself\u001b[39m\u001b[38;5;241m.\u001b[39mhandles \u001b[38;5;129;01mis\u001b[39;00m \u001b[38;5;129;01mnot\u001b[39;00m \u001b[38;5;28;01mNone\u001b[39;00m\n\u001b[0;32m   1716\u001b[0m f \u001b[38;5;241m=\u001b[39m \u001b[38;5;28mself\u001b[39m\u001b[38;5;241m.\u001b[39mhandles\u001b[38;5;241m.\u001b[39mhandle\n",
      "File \u001b[1;32m~\\anaconda3\\envs\\Projet_accidents_routiers\\Lib\\site-packages\\pandas\\io\\common.py:863\u001b[0m, in \u001b[0;36mget_handle\u001b[1;34m(path_or_buf, mode, encoding, compression, memory_map, is_text, errors, storage_options)\u001b[0m\n\u001b[0;32m    858\u001b[0m \u001b[38;5;28;01melif\u001b[39;00m \u001b[38;5;28misinstance\u001b[39m(handle, \u001b[38;5;28mstr\u001b[39m):\n\u001b[0;32m    859\u001b[0m     \u001b[38;5;66;03m# Check whether the filename is to be opened in binary mode.\u001b[39;00m\n\u001b[0;32m    860\u001b[0m     \u001b[38;5;66;03m# Binary mode does not support 'encoding' and 'newline'.\u001b[39;00m\n\u001b[0;32m    861\u001b[0m     \u001b[38;5;28;01mif\u001b[39;00m ioargs\u001b[38;5;241m.\u001b[39mencoding \u001b[38;5;129;01mand\u001b[39;00m \u001b[38;5;124m\"\u001b[39m\u001b[38;5;124mb\u001b[39m\u001b[38;5;124m\"\u001b[39m \u001b[38;5;129;01mnot\u001b[39;00m \u001b[38;5;129;01min\u001b[39;00m ioargs\u001b[38;5;241m.\u001b[39mmode:\n\u001b[0;32m    862\u001b[0m         \u001b[38;5;66;03m# Encoding\u001b[39;00m\n\u001b[1;32m--> 863\u001b[0m         handle \u001b[38;5;241m=\u001b[39m \u001b[38;5;28mopen\u001b[39m(\n\u001b[0;32m    864\u001b[0m             handle,\n\u001b[0;32m    865\u001b[0m             ioargs\u001b[38;5;241m.\u001b[39mmode,\n\u001b[0;32m    866\u001b[0m             encoding\u001b[38;5;241m=\u001b[39mioargs\u001b[38;5;241m.\u001b[39mencoding,\n\u001b[0;32m    867\u001b[0m             errors\u001b[38;5;241m=\u001b[39merrors,\n\u001b[0;32m    868\u001b[0m             newline\u001b[38;5;241m=\u001b[39m\u001b[38;5;124m\"\u001b[39m\u001b[38;5;124m\"\u001b[39m,\n\u001b[0;32m    869\u001b[0m         )\n\u001b[0;32m    870\u001b[0m     \u001b[38;5;28;01melse\u001b[39;00m:\n\u001b[0;32m    871\u001b[0m         \u001b[38;5;66;03m# Binary mode\u001b[39;00m\n\u001b[0;32m    872\u001b[0m         handle \u001b[38;5;241m=\u001b[39m \u001b[38;5;28mopen\u001b[39m(handle, ioargs\u001b[38;5;241m.\u001b[39mmode)\n",
      "\u001b[1;31mFileNotFoundError\u001b[0m: [Errno 2] No such file or directory: 'dataset/usagers-2022.csv'"
     ]
    }
   ],
   "source": [
    "# import du dataset : usagers impliqués\n",
    "df_usa22 = pd.read_csv(\"dataset/usagers-2022.csv\", sep=';')\n",
    "df_usa21 = pd.read_csv(\"dataset/usagers-2021.csv\", sep=';')\n",
    "df_usa20 = pd.read_csv(\"dataset/usagers-2020.csv\", sep=';')\n",
    "df_usa19 = pd.read_csv(\"dataset/usagers-2019.csv\", sep=';')\n",
    "\n",
    "# regrouper les datasets usagers en 1 dataset usager\n",
    "df_usa = pd.concat([df_usa22, df_usa21,df_usa20,df_usa19])\n",
    "df_usa.head()"
   ]
  },
  {
   "cell_type": "markdown",
   "metadata": {},
   "source": [
    "On observe 2 lignes pour le même numéro d'accident, il s'agit non pas d'un doublon mais de 2 usagers différents impliqués dans l'accident."
   ]
  },
  {
   "cell_type": "code",
   "execution_count": null,
   "metadata": {},
   "outputs": [],
   "source": [
    "# import des datasets des lieux des accidents : décrit le lieu principal de l’accident même si celui-ci s’est déroulé à une intersection\n",
    "df_lieux22 = pd.read_csv(\"dataset/lieux-2022.csv\", sep=';')\n",
    "df_lieux21 = pd.read_csv(\"dataset/lieux-2021.csv\", sep=';')\n",
    "df_lieux20 = pd.read_csv(\"dataset/lieux-2020.csv\", sep=';')\n",
    "df_lieux19 = pd.read_csv(\"dataset/lieux-2019.csv\", sep=';')\n",
    "\n",
    "# regrouper les datasets en 1 seul dataset lieux\n",
    "df_lieux = pd.concat([df_lieux22, df_lieux21, df_lieux20, df_lieux19])\n",
    "df_lieux.head()"
   ]
  },
  {
   "cell_type": "code",
   "execution_count": null,
   "metadata": {},
   "outputs": [],
   "source": [
    "# import des datasets des caractéristiques des accidents : décrit les circonstances générales de l’accident\n",
    "df_carac22 = pd.read_csv(\"dataset/carcteristiques-2022.csv\", sep=';')\n",
    "df_carac21 = pd.read_csv(\"dataset/carcteristiques-2021.csv\", sep=';')\n",
    "df_carac20 = pd.read_csv(\"dataset/caracteristiques-2020.csv\", sep=';')\n",
    "df_carac19= pd.read_csv(\"dataset/caracteristiques-2019.csv\", sep=';')\n",
    "df_carac22['Num_Acc'] = df_carac22['Accident_Id']\n",
    "\n",
    "# regrouper les datasets en 1 seul dataset caractéristiques\n",
    "df_car = pd.concat([df_carac22, df_carac21,df_carac20,df_carac19])\n",
    "df_car.head()"
   ]
  },
  {
   "cell_type": "code",
   "execution_count": null,
   "metadata": {},
   "outputs": [],
   "source": [
    "# import des datasets des véhicules impliqués dans des accidents\n",
    "df_veh22 = pd.read_csv(\"dataset/vehicules-2022.csv\", sep=';')\n",
    "df_veh21 = pd.read_csv(\"dataset/vehicules-2021.csv\", sep=';')\n",
    "df_veh20 = pd.read_csv(\"dataset/vehicules-2020.csv\", sep=';')\n",
    "df_veh19 = pd.read_csv(\"dataset/vehicules-2019.csv\", sep=';')\n",
    "\n",
    "# regrouper les datasets en 1 seul dataset véhicules\n",
    "df_veh = pd.concat([df_veh22, df_veh21, df_veh20, df_veh19])\n",
    "df_veh.head()"
   ]
  },
  {
   "cell_type": "markdown",
   "metadata": {},
   "source": [
    "On observe 2 lignes pour le même numéro d'accident, il s'agit non pas d'un doublon mais de 2 véhicules différents impliqués dans l'accident."
   ]
  },
  {
   "cell_type": "markdown",
   "metadata": {},
   "source": [
    "#### Regrouper les 4 datasets en 1 dataset"
   ]
  },
  {
   "cell_type": "code",
   "execution_count": null,
   "metadata": {},
   "outputs": [],
   "source": [
    "df_lieux['Num_Acc'] = df_lieux['Num_Acc'].astype(str)\n",
    "df_car['Num_Acc'] = df_car['Num_Acc'].astype(str)\n",
    "df_veh['Num_Acc'] = df_veh['Num_Acc'].astype(str)\n",
    "df_usa['Num_Acc'] = df_usa['Num_Acc'].astype(str)\n",
    "\n",
    "# merge les datasets ensembles\n",
    "df_temp = pd.merge(df_usa, df_lieux, on=\"Num_Acc\") # usagers + lieux\n",
    "df_temp_2 = pd.merge(df_temp, df_car, on=\"Num_Acc\") # usagers et lieux + caractéristiques\n",
    "df = pd.merge(df_temp_2, df_veh, on = [\"Num_Acc\", \"id_vehicule\", \"num_veh\"]) # usagers et lieux et caractéristiques + vehicules\n",
    "\n",
    "# supprimer les doublons\n",
    "df.drop_duplicates(keep='first')\n",
    "\n",
    "print(df.shape)\n",
    "df.head()"
   ]
  },
  {
   "cell_type": "markdown",
   "metadata": {},
   "source": [
    "## Data exploration"
   ]
  },
  {
   "cell_type": "code",
   "execution_count": null,
   "metadata": {},
   "outputs": [],
   "source": [
    "df.shape"
   ]
  },
  {
   "cell_type": "code",
   "execution_count": null,
   "metadata": {},
   "outputs": [],
   "source": [
    "df.dtypes.value_counts()"
   ]
  },
  {
   "cell_type": "code",
   "execution_count": null,
   "metadata": {},
   "outputs": [],
   "source": [
    "plt.figure(figsize=(5,5))\n",
    "plt.title(\"Répartition des types de données\")\n",
    "df.dtypes.value_counts().plot.pie(autopct='%1.1f%%', colors=['skyblue', 'lightgreen', 'lightcoral'])\n",
    "plt.ylabel('')\n",
    "plt.show();"
   ]
  },
  {
   "cell_type": "markdown",
   "metadata": {},
   "source": [
    "#### Affichage des données manquantes par colonnes"
   ]
  },
  {
   "cell_type": "code",
   "execution_count": null,
   "metadata": {},
   "outputs": [],
   "source": [
    "# Fonction pour mettre en évidence les données manquants et leur donner un pourcentage \n",
    "def missing_values_table(df):\n",
    "        mis_val = df.isnull().sum()\n",
    "        mis_val_percent = 100 * df.isnull().sum() / len(df)\n",
    "        mis_val_table = pd.concat([mis_val, mis_val_percent], axis=1)\n",
    "        mis_val_table_ren_columns = mis_val_table.rename(\n",
    "        columns = {0 : 'Missing Values', 1 : '% of Total Values'})\n",
    "        mis_val_table_ren_columns = mis_val_table_ren_columns[\n",
    "            mis_val_table_ren_columns.iloc[:,1] != 0].sort_values(\n",
    "        '% of Total Values', ascending=False).round(1)\n",
    "        print (\"Your selected dataframe has \" + str(df.shape[1]) + \" columns.\\n\"      \n",
    "            \"There are \" + str(mis_val_table_ren_columns.shape[0]) +\n",
    "              \" columns that have missing values.\")\n",
    "        return mis_val_table_ren_columns\n",
    "missing_values_table(df)"
   ]
  },
  {
   "cell_type": "markdown",
   "metadata": {},
   "source": [
    "On supprime les colonnes ayant plus de 90 % de manquants."
   ]
  },
  {
   "cell_type": "markdown",
   "metadata": {},
   "source": [
    "### Répartition des données"
   ]
  },
  {
   "cell_type": "code",
   "execution_count": null,
   "metadata": {},
   "outputs": [],
   "source": [
    "df.describe()"
   ]
  },
  {
   "cell_type": "markdown",
   "metadata": {},
   "source": [
    "### Nombre de valeurs unique"
   ]
  },
  {
   "cell_type": "code",
   "execution_count": null,
   "metadata": {},
   "outputs": [],
   "source": [
    "df.nunique()"
   ]
  },
  {
   "cell_type": "markdown",
   "metadata": {},
   "source": [
    "### Distribution des données"
   ]
  },
  {
   "cell_type": "code",
   "execution_count": null,
   "metadata": {},
   "outputs": [],
   "source": [
    "df.hist(figsize=(20, 20))\n",
    "plt.show()"
   ]
  },
  {
   "cell_type": "markdown",
   "metadata": {},
   "source": [
    "## Visualisation des données"
   ]
  },
  {
   "cell_type": "markdown",
   "metadata": {},
   "source": [
    "### Profil des usagers ayant eu des accident \n",
    "\n",
    "Deux analyses sont réalisées pour les usagers ayant eu des accident :\n",
    "- Nombre d'accidents en fonction du genre\n",
    "- Nombre d'accidents en fonction de l'âge\n",
    "\n",
    "#### Analyse en fonction du genre"
   ]
  },
  {
   "cell_type": "code",
   "execution_count": null,
   "metadata": {},
   "outputs": [],
   "source": [
    "# Nombre d'accidents en fonction du genre\n",
    "\n",
    "# pour enlever les non-renseignés\n",
    "df_genre = df.copy()\n",
    "df_genre = df.loc[(df['sexe'] == 1) | (df['sexe'] == 2)]\n",
    "\n",
    "plt.figure(figsize= (5, 5))\n",
    "plt.hist(df_genre['sexe'],  color = ['#f27750'], label = ['genre'])\n",
    "plt.xlabel(\"Genre\")\n",
    "plt.ylabel(\"Nombre d'accidents\")\n",
    "plt.xticks([1, 2], ['Homme', 'Femme'])\n",
    "plt.title('Distribution des accidents par genre')\n",
    "plt.show();"
   ]
  },
  {
   "cell_type": "markdown",
   "metadata": {},
   "source": [
    "Les hommes sont fortement représentés dans les accidents. Il y a des profils d'usagers dont le genre n'a pas été renseigné."
   ]
  },
  {
   "cell_type": "code",
   "execution_count": null,
   "metadata": {},
   "outputs": [],
   "source": [
    "# Représentation des accidents en fonction du genre et de la gravité\n",
    "\n",
    "colors = {1: 'blue', 2: 'red'}  \n",
    "labels = {1: 'Homme', 2: 'Femme'}\n",
    "\n",
    "plt.figure(figsize=(5, 5))\n",
    "\n",
    "for sexe, data in df_genre.groupby('sexe'):\n",
    "    plt.hist(data['grav'], color=colors[sexe], label=labels[sexe], alpha=0.5) \n",
    "\n",
    "plt.legend(title='Sexe')\n",
    "plt.xlabel('Gravité')\n",
    "plt.xlim(1,5)\n",
    "plt.xticks([1, 2, 3, 4], ['Indemne', 'Tué' ,'Blessé hospitalisé','Blessé léger'], rotation=30)\n",
    "plt.ylabel('Nb accidents')\n",
    "plt.title('Représentation de la gravité en fonction du sexe')\n",
    "plt.show()"
   ]
  },
  {
   "cell_type": "markdown",
   "metadata": {},
   "source": [
    "#### Analyse en fonction de l'âge"
   ]
  },
  {
   "cell_type": "code",
   "execution_count": null,
   "metadata": {},
   "outputs": [],
   "source": [
    "sns.boxplot(data=df_genre, x='sexe', y='an_nais', color='red')\n",
    "\n",
    "plt.title(\"Répartition par genre en fonction de l'âge\", fontsize =18)\n",
    "plt.xticks([0, 1], ['Homme', 'Femme'])\n",
    "plt.xlabel(\"Genre\")\n",
    "plt.ylabel(\"Année de naissance\")\n",
    "plt.show;"
   ]
  },
  {
   "cell_type": "code",
   "execution_count": null,
   "metadata": {},
   "outputs": [],
   "source": [
    "# Nombre d'accidents en fonction de l'âge\n",
    "plt.figure(figsize= (10, 5))\n",
    "sns.displot(df.an_nais, kde=True, bins=30, rug = True, color='red')\n",
    "\n",
    "plt.xlabel(\"année de naissance\", fontsize = 12)\n",
    "plt.ylabel(\"nombre d'accidents\", fontsize = 12)\n",
    "plt.xticks([1920, 1950, 1980, 2000, 2025])\n",
    "plt.xlim([1920, 2030])\n",
    "plt.title('Répartition des accidents de 2019 à 2022 par année de naissance', fontsize = 18)\n",
    "plt.legend();"
   ]
  },
  {
   "cell_type": "code",
   "execution_count": null,
   "metadata": {},
   "outputs": [],
   "source": [
    "print(\"L'usager le plus âgé impliqué dans un accident est né en :\", df.an_nais.min(),\n",
    "      \"et l'usager le plus jeune impliqué dans un accident est né en :\", df.an_nais.max())"
   ]
  },
  {
   "cell_type": "markdown",
   "metadata": {},
   "source": [
    "On observe une forte représentation de profil d'usagers ayant la vingtaine qui a été impliqués dans un accident.\n",
    "\n",
    "Pour **conclure** sur le profil des usagers ayant eu des accident, il y a une forte représentation d'hommes, et d'âge proche de la vingtaine."
   ]
  },
  {
   "cell_type": "markdown",
   "metadata": {},
   "source": [
    "### Typologie des accidents"
   ]
  },
  {
   "cell_type": "code",
   "execution_count": null,
   "metadata": {},
   "outputs": [],
   "source": [
    "df_col = df.loc[(df['col'] >= 1) & (df['grav'] >= 1)]\n",
    "\n",
    "collision_labels = {\n",
    "    1: 'Collision avec véhicule',\n",
    "    2: 'Collision avec piéton',\n",
    "    3: 'Collision avec animal',\n",
    "    4: 'Sortie de route',\n",
    "    5: 'Collision avec obstacle',\n",
    "    6: 'Collision multiple',\n",
    "    7: 'Autres'\n",
    "}\n",
    "\n",
    "cross_tab = pd.crosstab(df_col['col'], df_col['grav'], rownames=['Type de Collision'], colnames=['Gravité'])\n",
    "\n",
    "pastel_palette = sns.color_palette(\"pastel\", n_colors=cross_tab.shape[1])\n",
    "\n",
    "plt.figure(figsize=(12, 8))\n",
    "\n",
    "for i, col in enumerate(cross_tab.columns):\n",
    "    plt.bar(cross_tab.index, cross_tab[col], bottom=cross_tab.iloc[:, :i].sum(axis=1), color=pastel_palette[i], label=f'Gravité {col}')\n",
    "\n",
    "plt.xlabel('Type de collision')\n",
    "plt.ylabel('Nombre d\\'accidents')\n",
    "plt.title('Nombre d\\'accidents par type de collision et en fonction de la gravité')\n",
    "plt.xticks([1,2,3,4,5,6,7], [\"Deux véhicules - frontale\",\"Deux véhicules – par l’arrière\",\"Deux véhicules – par le coté\",\n",
    "                            \"Trois véhicules et plus – en chaîne\",\"Trois véhicules et plus - collisions multiples\",\"Autre collision\",\"Sans collision\"], rotation=45)\n",
    "plt.legend(title='Gravité', bbox_to_anchor=(1.05, 1), loc='upper left')\n",
    "plt.tight_layout()\n",
    "plt.show()"
   ]
  },
  {
   "cell_type": "markdown",
   "metadata": {},
   "source": [
    "On observe que le type de collision le plus fréquent est un accident impliquant 2 véhicules ont une collision par le coté. La catégorie 'autre collision' étant trop vague, on ne pourra pas l'expliquer. Il est possible que ce sont des accidents où les véhicules ne sont pas impliqués."
   ]
  },
  {
   "cell_type": "markdown",
   "metadata": {},
   "source": [
    "#### Nombre d'accidents entre 2019 et 2022"
   ]
  },
  {
   "cell_type": "code",
   "execution_count": null,
   "metadata": {},
   "outputs": [],
   "source": [
    "df['grav'].sum() # 1 251 081 tués de 2019 à 2022\n",
    "\n",
    "df['Num_Acc'] = df['Num_Acc'].astype(str)\n",
    "df['an_acc'] = df['Num_Acc'].str.slice(0,4).astype(int)\n",
    "\n",
    "sns.countplot(x = df['an_acc'])\n",
    "\n",
    "plt.title(\"Nombre d'accidents entre 2019 à 2022\")\n",
    "plt.xlabel(\"Année d'accidents\")\n",
    "plt.ylabel(\"Nombre d'accidents\")\n",
    "plt.show();"
   ]
  },
  {
   "cell_type": "markdown",
   "metadata": {},
   "source": [
    "On observe une baisse des accidents en 2020, cela est peut être dû aux confinements et aux restrictions suite à la période Covid.\n",
    "\n",
    "#### Représentation de la gravité des accidents par année d'accidents"
   ]
  },
  {
   "cell_type": "code",
   "execution_count": null,
   "metadata": {},
   "outputs": [],
   "source": [
    "# dataframe sur la distribution des accidents en fonction de leur gravité\n",
    "df.loc[df['grav'] >= 1].groupby(['an', 'grav']).size().unstack()"
   ]
  },
  {
   "cell_type": "code",
   "execution_count": null,
   "metadata": {},
   "outputs": [],
   "source": [
    "# sous forme dataviz\n",
    "df_annee = df.loc[df['grav'] >= 1]\n",
    "df_annee.groupby(['an', 'grav']).size().unstack().plot()\n",
    "\n",
    "plt.title(\"Accidents entre 2019 à 2022\")\n",
    "plt.xlabel(\"Année d'accident\")\n",
    "plt.ylabel(\"Nombre d'individu\")\n",
    "plt.xticks([2019, 2020, 2021, 2022], rotation=30)\n",
    "plt.show();"
   ]
  },
  {
   "cell_type": "markdown",
   "metadata": {},
   "source": [
    "Pour rappel : \n",
    "- 1 – Indemne\n",
    "- 2 – Tué\n",
    "- 3 – Blessé hospitalisé\n",
    "- 4 – Blessé léger\n",
    "\n",
    "En 2020, on observe une diminution des accidents et également de la gravité."
   ]
  },
  {
   "cell_type": "code",
   "execution_count": null,
   "metadata": {},
   "outputs": [],
   "source": [
    "# Evolution de décès par rapport aux années précédentes :\n",
    "\n",
    "dec22 = (3550 - 3219)/3550*100 # par rapport à 2021 = + 9.32 %\n",
    "\n",
    "dec21 = (3219-2780)/3219*100 # par rapport à 2020 = + 13.64 %\n",
    "\n",
    "dec20 = (2780-3498)/2780*100 # par rapport à 2019 = - 25.83 %"
   ]
  },
  {
   "cell_type": "markdown",
   "metadata": {},
   "source": [
    "#### Analyse des accidents par rapport aux mois"
   ]
  },
  {
   "cell_type": "code",
   "execution_count": null,
   "metadata": {},
   "outputs": [],
   "source": [
    "plt.figure(figsize = (15, 5))\n",
    "\n",
    "sns.countplot(x = df['mois'])\n",
    "plt.title(\"Nombre d'accidents par mois\")\n",
    "plt.show()"
   ]
  },
  {
   "cell_type": "markdown",
   "metadata": {},
   "source": [
    "## Nettoyage des données"
   ]
  },
  {
   "cell_type": "code",
   "execution_count": null,
   "metadata": {},
   "outputs": [],
   "source": [
    "# suppression de variables\n",
    "df = df.drop([\"pr\", # Numéro du PR de rattachement (numéro de la borne)\n",
    "              \"pr1\", # Distance du PR de rattachement en mètre\n",
    "              \"adr\", # information déjà contenu dans la latitude et la longitude\n",
    "              \"voie\", # numéro de la voie\n",
    "              \"id_vehicule\", # colonne qui a permis de faire la jointure\n",
    "              'Accident_Id', # colonne qui a permis de faire la jointure\n",
    "              'Num_Acc', # colonne qui a permis de faire la jointure\n",
    "              \"id_usager\", # colonne qui a permis de faire la jointure\n",
    "              'num_veh', # colonne qui a permis de faire la jointure\n",
    "              \"larrout\", # 26 % de manquants et forte représentation d'une catégorie\n",
    "              \"secu3\",    # bcp de non concernés\n",
    "              \"secu2\",    # bcp de non concernés\n",
    "              \"actp\",     # bcp de non concernés \n",
    "              \"v1\",       # indique le numéro de la route\n",
    "              \"etatp\",    # bcp de non concernés \n",
    "              \"lartpc\",   # 90% de manquants\n",
    "              \"occutc\",   # 90% de manquants\n",
    "              \"v2\"        # 90% de manquants\n",
    "              ], axis=1)"
   ]
  },
  {
   "cell_type": "markdown",
   "metadata": {},
   "source": [
    "### Sauvegarde du dataset"
   ]
  },
  {
   "cell_type": "code",
   "execution_count": null,
   "metadata": {},
   "outputs": [],
   "source": [
    "df.to_csv('dataset/dataset_to_prepro.csv', index=False)"
   ]
  },
  {
   "cell_type": "markdown",
   "metadata": {},
   "source": [
    "## Bibiographie :\n",
    "\n",
    "- base de données : https://www.data.gouv.fr/en/datasets/bases-de-donnees-annuelles-des-accidents-corporels-de-la-circulation-routiere-annees-de-2005-a-2022/#/resources\n",
    "\n",
    "- documentation : https://www.data.gouv.fr/en/datasets/bases-de-donnees-annuelles-des-accidents-corporels-de-la-circulation-routiere-annees-de-2005-a-2022/#/resources/8ef4c2a3-91a0-4d98-ae3a-989bde87b62a\n",
    "\n",
    "\n"
   ]
  },
  {
   "cell_type": "markdown",
   "metadata": {},
   "source": []
  }
 ],
 "metadata": {
  "kernelspec": {
   "display_name": "Projet_accidents_routiers_v12",
   "language": "python",
   "name": "projet_accidents_routiers_v12"
  },
  "language_info": {
   "codemirror_mode": {
    "name": "ipython",
    "version": 3
   },
   "file_extension": ".py",
   "mimetype": "text/x-python",
   "name": "python",
   "nbconvert_exporter": "python",
   "pygments_lexer": "ipython3",
   "version": "3.11.7"
  }
 },
 "nbformat": 4,
 "nbformat_minor": 4
}
