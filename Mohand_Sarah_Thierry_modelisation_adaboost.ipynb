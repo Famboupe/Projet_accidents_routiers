{
 "cells": [
  {
   "cell_type": "markdown",
   "metadata": {},
   "source": [
    "Projet : Accident de la route\n",
    "==============\n",
    "\n",
    "## Etape 3 : Modélisation\n",
    "\n",
    "### Import des données"
   ]
  },
  {
   "cell_type": "code",
   "execution_count": 2,
   "metadata": {},
   "outputs": [],
   "source": [
    "# import des librairies\n",
    "import pandas as pd\n",
    "pd.set_option('display.max_columns', None)\n",
    "pd.options.display.max_info_columns\n",
    "\n",
    "import numpy as np\n",
    "import matplotlib.pyplot as plt\n",
    "import seaborn as sns\n",
    "\n",
    "from lazypredict.Supervised import LazyClassifier\n",
    "\n",
    "from sklearn.model_selection import train_test_split, GridSearchCV\n",
    "from sklearn.feature_selection import SelectKBest, f_classif, chi2\n",
    "from sklearn.multiclass import OneVsRestClassifier\n",
    "from sklearn.preprocessing import StandardScaler\n",
    "\n",
    "from sklearn.tree import DecisionTreeClassifier\n",
    "from sklearn.linear_model import LogisticRegression\n",
    "from sklearn.ensemble import AdaBoostClassifier, RandomForestClassifier, ExtraTreesClassifier\n",
    "\n",
    "from sklearn.metrics import confusion_matrix,classification_report, f1_score\n",
    "\n",
    "import warnings\n",
    "warnings.filterwarnings('ignore')\n",
    "warnings.simplefilter(action='ignore', category=FutureWarning)"
   ]
  },
  {
   "cell_type": "code",
   "execution_count": 3,
   "metadata": {},
   "outputs": [
    {
     "data": {
      "text/html": [
       "<div>\n",
       "<style scoped>\n",
       "    .dataframe tbody tr th:only-of-type {\n",
       "        vertical-align: middle;\n",
       "    }\n",
       "\n",
       "    .dataframe tbody tr th {\n",
       "        vertical-align: top;\n",
       "    }\n",
       "\n",
       "    .dataframe thead th {\n",
       "        text-align: right;\n",
       "    }\n",
       "</style>\n",
       "<table border=\"1\" class=\"dataframe\">\n",
       "  <thead>\n",
       "    <tr style=\"text-align: right;\">\n",
       "      <th></th>\n",
       "      <th>place</th>\n",
       "      <th>catu</th>\n",
       "      <th>grav</th>\n",
       "      <th>sexe</th>\n",
       "      <th>trajet</th>\n",
       "      <th>secu1</th>\n",
       "      <th>locp</th>\n",
       "      <th>catr</th>\n",
       "      <th>circ</th>\n",
       "      <th>nbv</th>\n",
       "      <th>vosp</th>\n",
       "      <th>prof</th>\n",
       "      <th>plan</th>\n",
       "      <th>surf</th>\n",
       "      <th>infra</th>\n",
       "      <th>situ</th>\n",
       "      <th>vma</th>\n",
       "      <th>lum</th>\n",
       "      <th>com</th>\n",
       "      <th>agg</th>\n",
       "      <th>int</th>\n",
       "      <th>atm</th>\n",
       "      <th>col</th>\n",
       "      <th>lat</th>\n",
       "      <th>long</th>\n",
       "      <th>senc</th>\n",
       "      <th>catv</th>\n",
       "      <th>obs</th>\n",
       "      <th>obsm</th>\n",
       "      <th>choc</th>\n",
       "      <th>manv</th>\n",
       "      <th>motor</th>\n",
       "      <th>age_group</th>\n",
       "      <th>h_group</th>\n",
       "      <th>weekday</th>\n",
       "    </tr>\n",
       "  </thead>\n",
       "  <tbody>\n",
       "    <tr>\n",
       "      <th>0</th>\n",
       "      <td>1</td>\n",
       "      <td>1</td>\n",
       "      <td>1</td>\n",
       "      <td>1</td>\n",
       "      <td>5</td>\n",
       "      <td>1</td>\n",
       "      <td>-1</td>\n",
       "      <td>4</td>\n",
       "      <td>2</td>\n",
       "      <td>2</td>\n",
       "      <td>0</td>\n",
       "      <td>1</td>\n",
       "      <td>1</td>\n",
       "      <td>1</td>\n",
       "      <td>0</td>\n",
       "      <td>1</td>\n",
       "      <td>50</td>\n",
       "      <td>1</td>\n",
       "      <td>26198</td>\n",
       "      <td>2</td>\n",
       "      <td>3</td>\n",
       "      <td>1</td>\n",
       "      <td>3</td>\n",
       "      <td>44.56</td>\n",
       "      <td>4.73</td>\n",
       "      <td>1</td>\n",
       "      <td>3</td>\n",
       "      <td>0</td>\n",
       "      <td>2</td>\n",
       "      <td>1</td>\n",
       "      <td>9</td>\n",
       "      <td>1</td>\n",
       "      <td>2</td>\n",
       "      <td>6</td>\n",
       "      <td>2</td>\n",
       "    </tr>\n",
       "    <tr>\n",
       "      <th>1</th>\n",
       "      <td>1</td>\n",
       "      <td>1</td>\n",
       "      <td>0</td>\n",
       "      <td>1</td>\n",
       "      <td>5</td>\n",
       "      <td>1</td>\n",
       "      <td>-1</td>\n",
       "      <td>4</td>\n",
       "      <td>2</td>\n",
       "      <td>2</td>\n",
       "      <td>0</td>\n",
       "      <td>1</td>\n",
       "      <td>1</td>\n",
       "      <td>1</td>\n",
       "      <td>0</td>\n",
       "      <td>1</td>\n",
       "      <td>50</td>\n",
       "      <td>1</td>\n",
       "      <td>26198</td>\n",
       "      <td>2</td>\n",
       "      <td>3</td>\n",
       "      <td>1</td>\n",
       "      <td>3</td>\n",
       "      <td>44.56</td>\n",
       "      <td>4.73</td>\n",
       "      <td>1</td>\n",
       "      <td>6</td>\n",
       "      <td>0</td>\n",
       "      <td>2</td>\n",
       "      <td>2</td>\n",
       "      <td>1</td>\n",
       "      <td>1</td>\n",
       "      <td>7</td>\n",
       "      <td>6</td>\n",
       "      <td>2</td>\n",
       "    </tr>\n",
       "    <tr>\n",
       "      <th>2</th>\n",
       "      <td>1</td>\n",
       "      <td>1</td>\n",
       "      <td>1</td>\n",
       "      <td>1</td>\n",
       "      <td>9</td>\n",
       "      <td>1</td>\n",
       "      <td>0</td>\n",
       "      <td>4</td>\n",
       "      <td>2</td>\n",
       "      <td>2</td>\n",
       "      <td>0</td>\n",
       "      <td>1</td>\n",
       "      <td>1</td>\n",
       "      <td>1</td>\n",
       "      <td>0</td>\n",
       "      <td>1</td>\n",
       "      <td>50</td>\n",
       "      <td>1</td>\n",
       "      <td>25204</td>\n",
       "      <td>2</td>\n",
       "      <td>3</td>\n",
       "      <td>1</td>\n",
       "      <td>3</td>\n",
       "      <td>46.93</td>\n",
       "      <td>6.35</td>\n",
       "      <td>2</td>\n",
       "      <td>6</td>\n",
       "      <td>0</td>\n",
       "      <td>2</td>\n",
       "      <td>8</td>\n",
       "      <td>15</td>\n",
       "      <td>1</td>\n",
       "      <td>4</td>\n",
       "      <td>3</td>\n",
       "      <td>3</td>\n",
       "    </tr>\n",
       "    <tr>\n",
       "      <th>3</th>\n",
       "      <td>1</td>\n",
       "      <td>1</td>\n",
       "      <td>0</td>\n",
       "      <td>1</td>\n",
       "      <td>4</td>\n",
       "      <td>1</td>\n",
       "      <td>0</td>\n",
       "      <td>4</td>\n",
       "      <td>2</td>\n",
       "      <td>2</td>\n",
       "      <td>0</td>\n",
       "      <td>1</td>\n",
       "      <td>1</td>\n",
       "      <td>1</td>\n",
       "      <td>0</td>\n",
       "      <td>1</td>\n",
       "      <td>50</td>\n",
       "      <td>1</td>\n",
       "      <td>25204</td>\n",
       "      <td>2</td>\n",
       "      <td>3</td>\n",
       "      <td>1</td>\n",
       "      <td>3</td>\n",
       "      <td>46.93</td>\n",
       "      <td>6.35</td>\n",
       "      <td>2</td>\n",
       "      <td>5</td>\n",
       "      <td>0</td>\n",
       "      <td>2</td>\n",
       "      <td>1</td>\n",
       "      <td>1</td>\n",
       "      <td>1</td>\n",
       "      <td>6</td>\n",
       "      <td>3</td>\n",
       "      <td>3</td>\n",
       "    </tr>\n",
       "    <tr>\n",
       "      <th>4</th>\n",
       "      <td>1</td>\n",
       "      <td>1</td>\n",
       "      <td>0</td>\n",
       "      <td>1</td>\n",
       "      <td>0</td>\n",
       "      <td>1</td>\n",
       "      <td>-1</td>\n",
       "      <td>3</td>\n",
       "      <td>-1</td>\n",
       "      <td>2</td>\n",
       "      <td>0</td>\n",
       "      <td>1</td>\n",
       "      <td>1</td>\n",
       "      <td>1</td>\n",
       "      <td>5</td>\n",
       "      <td>1</td>\n",
       "      <td>50</td>\n",
       "      <td>1</td>\n",
       "      <td>22360</td>\n",
       "      <td>2</td>\n",
       "      <td>6</td>\n",
       "      <td>1</td>\n",
       "      <td>2</td>\n",
       "      <td>48.49</td>\n",
       "      <td>-2.76</td>\n",
       "      <td>2</td>\n",
       "      <td>6</td>\n",
       "      <td>0</td>\n",
       "      <td>2</td>\n",
       "      <td>1</td>\n",
       "      <td>2</td>\n",
       "      <td>1</td>\n",
       "      <td>3</td>\n",
       "      <td>6</td>\n",
       "      <td>3</td>\n",
       "    </tr>\n",
       "  </tbody>\n",
       "</table>\n",
       "</div>"
      ],
      "text/plain": [
       "   place  catu  grav  sexe  trajet  secu1  locp  catr  circ  nbv  vosp  prof  \\\n",
       "0      1     1     1     1       5      1    -1     4     2    2     0     1   \n",
       "1      1     1     0     1       5      1    -1     4     2    2     0     1   \n",
       "2      1     1     1     1       9      1     0     4     2    2     0     1   \n",
       "3      1     1     0     1       4      1     0     4     2    2     0     1   \n",
       "4      1     1     0     1       0      1    -1     3    -1    2     0     1   \n",
       "\n",
       "   plan  surf  infra  situ  vma  lum    com  agg  int  atm  col   lat  long  \\\n",
       "0     1     1      0     1   50    1  26198    2    3    1    3 44.56  4.73   \n",
       "1     1     1      0     1   50    1  26198    2    3    1    3 44.56  4.73   \n",
       "2     1     1      0     1   50    1  25204    2    3    1    3 46.93  6.35   \n",
       "3     1     1      0     1   50    1  25204    2    3    1    3 46.93  6.35   \n",
       "4     1     1      5     1   50    1  22360    2    6    1    2 48.49 -2.76   \n",
       "\n",
       "   senc  catv  obs  obsm  choc  manv  motor  age_group  h_group  weekday  \n",
       "0     1     3    0     2     1     9      1          2        6        2  \n",
       "1     1     6    0     2     2     1      1          7        6        2  \n",
       "2     2     6    0     2     8    15      1          4        3        3  \n",
       "3     2     5    0     2     1     1      1          6        3        3  \n",
       "4     2     6    0     2     1     2      1          3        6        3  "
      ]
     },
     "execution_count": 3,
     "metadata": {},
     "output_type": "execute_result"
    }
   ],
   "source": [
    "# import du dataset\n",
    "df = pd.read_csv(\"dataset/dataset_final.csv\")\n",
    "df.head()"
   ]
  },
  {
   "cell_type": "markdown",
   "metadata": {},
   "source": [
    "### Séparation des données"
   ]
  },
  {
   "cell_type": "code",
   "execution_count": 4,
   "metadata": {},
   "outputs": [
    {
     "name": "stdout",
     "output_type": "stream",
     "text": [
      "Séparation des labels et targets : (365142, 34) (91286, 34) (365142,) (91286,)\n"
     ]
    }
   ],
   "source": [
    "X_train, X_test, y_train, y_test = train_test_split(df.drop([\"grav\"], axis=1), df.grav, test_size=0.2)\n",
    "print(\"Séparation des labels et targets :\", X_train.shape, X_test.shape, y_train.shape, y_test.shape)"
   ]
  },
  {
   "cell_type": "markdown",
   "metadata": {},
   "source": [
    "### Aperçu  de la performance relative des différents modèles de classification\n"
   ]
  },
  {
   "cell_type": "code",
   "execution_count": null,
   "metadata": {},
   "outputs": [],
   "source": [
    "models_list = [DummyClassifier, LogisticRegression, DecisionTreeClassifier, XGBClassifier,\n",
    "               LGBMClassifier,KNeighborsClassifier, ExtraTreesClassifier, Perceptron, AdaBoostClassifier]\n"
   ]
  },
  {
   "cell_type": "code",
   "execution_count": null,
   "metadata": {},
   "outputs": [],
   "source": [
    "# Initialiser LazyClassifier\n",
    "clf = LazyClassifier(verbose=0, ignore_warnings=True, custom_metric=None,\n",
    "                     predictions=True, classifiers=models_list)\n",
    "\n",
    "# Entrainer et évaluer les modèles\n",
    "models_train, predictions_train = clf.fit(X_train, X_test, y_train, y_test)\n",
    "models_test, predictions_test = clf.fit(X_train, X_test, y_train, y_test)\n",
    "# Afficher les résultats\n",
    "print(models_list)\n"
   ]
  },
  {
   "cell_type": "code",
   "execution_count": null,
   "metadata": {},
   "outputs": [],
   "source": [
    "models_train"
   ]
  },
  {
   "cell_type": "code",
   "execution_count": 5,
   "metadata": {},
   "outputs": [],
   "source": [
    "# standardisation\n",
    "scaler = StandardScaler()\n",
    "\n",
    "X_train_scaled = scaler.fit_transform(X_train)\n",
    "X_test_scaled = scaler.transform(X_test)"
   ]
  },
  {
   "cell_type": "markdown",
   "metadata": {},
   "source": [
    "### Modélisation"
   ]
  },
  {
   "cell_type": "code",
   "execution_count": 7,
   "metadata": {},
   "outputs": [
    {
     "name": "stdout",
     "output_type": "stream",
     "text": [
      "Fitting 5 folds for each of 6 candidates, totalling 30 fits\n",
      "Meilleurs paramètres trouvés: {'algorithm': 'SAMME.R', 'learning_rate': 0.1, 'n_estimators': 800}\n",
      "Meilleur score de validation croisée: 0.8127946304507304\n",
      "Matrice de confusion :\n",
      " [[30331  7878]\n",
      " [11325 41752]]\n"
     ]
    },
    {
     "data": {
      "image/png": "[encoded data removed]",
      "text/plain": [
       "<Figure size 800x600 with 2 Axes>"
      ]
     },
     "metadata": {},
     "output_type": "display_data"
    }
   ],
   "source": [
    "# model n°1\n",
    "\n",
    "hp_ada = {\n",
    "    'n_estimators': [600, 700, 800],        # Nombre de classificateurs faibles\n",
    "    'learning_rate': [0.01, 0.1],     # Taux d'apprentissage : ajuste la contribution de chaque classificateur faible à la prédiction finale\n",
    "    'algorithm': ['SAMME.R']      # Algorithme utilisé; 'SAMME.R' deprecied\n",
    "}\n",
    "\n",
    "dtc = DecisionTreeClassifier(random_state=42, max_depth=1)\n",
    "\n",
    "gs_ada= GridSearchCV(estimator=AdaBoostClassifier(random_state=42, estimator=dtc),\n",
    "                     param_grid=hp_ada,\n",
    "                           cv = 5,  # Nombre de folds pour la validation croisée\n",
    "                           verbose = 3, # Affiche le degré de détail des calculs\n",
    "                           refit=True, # réentraine le modèle avec toutes les données\n",
    "                           scoring=\"f1\",\n",
    "                           n_jobs = -1)  # Utiliser tous les coeurs du CPU\n",
    "\n",
    "gs_ada.fit(X_train_scaled, y_train)\n",
    "\n",
    "best_hp_ada = gs_ada.best_params_\n",
    "best_score_ada = gs_ada.best_score_\n",
    "best_estimator_ada = gs_ada.best_estimator_\n",
    "\n",
    "print(\"Meilleurs paramètres trouvés:\", best_hp_ada)\n",
    "print(\"Meilleur score de validation croisée:\", best_score_ada)\n",
    "\n",
    "y_pred_ada = best_estimator_ada.predict(X_test_scaled)\n",
    "\n",
    "cm_ada = confusion_matrix(y_test, y_pred_ada)\n",
    "print(\"Matrice de confusion :\\n\", cm_ada)\n",
    "\n",
    "row_sums_ada = cm_ada.sum(axis = 1)\n",
    "cm_percent_ada = (cm_ada.T / row_sums_ada).T * 100\n",
    "\n",
    "plt.figure(figsize=(8, 6))\n",
    "sns.heatmap(cm_percent_ada, annot = True, fmt = \".2f\", cmap = \"Blues\")\n",
    "plt.xlabel('Classe prédite')\n",
    "plt.ylabel('Classe réelle')\n",
    "plt.title('Matrice de confusion avec pourcentages')\n",
    "plt.show();"
   ]
  },
  {
   "cell_type": "markdown",
   "metadata": {},
   "source": [
    "### Sauvegarde du modèle"
   ]
  },
  {
   "cell_type": "code",
   "execution_count": 10,
   "metadata": {},
   "outputs": [
    {
     "data": {
      "text/plain": [
       "['best_estimator_ada_model.joblib']"
      ]
     },
     "execution_count": 10,
     "metadata": {},
     "output_type": "execute_result"
    }
   ],
   "source": [
    "import joblib\n",
    "\n",
    "# Sauvegarder le modèle\n",
    "joblib.dump(best_estimator_ada, 'best_estimator_ada_model.joblib')"
   ]
  },
  {
   "cell_type": "markdown",
   "metadata": {},
   "source": [
    "### Modèle ExtraTreesClassifier"
   ]
  },
  {
   "cell_type": "code",
   "execution_count": 17,
   "metadata": {},
   "outputs": [
    {
     "name": "stdout",
     "output_type": "stream",
     "text": [
      "ExtraTreesClassifier Accuracy: 0.78\n",
      "\n",
      "Classification Report:\n",
      "              precision    recall  f1-score   support\n",
      "\n",
      "           0       0.74      0.73      0.73     38368\n",
      "           1       0.81      0.81      0.81     52918\n",
      "\n",
      "    accuracy                           0.78     91286\n",
      "   macro avg       0.77      0.77      0.77     91286\n",
      "weighted avg       0.78      0.78      0.78     91286\n",
      "\n"
     ]
    }
   ],
   "source": [
    "# ExtraTreesClassifier\n",
    "# Initialiser et entraîner le modèle ExtraTreesClassifier\n",
    "et_clf = ExtraTreesClassifier(n_estimators=100, random_state=42)\n",
    "et_clf.fit(X_train, y_train)\n",
    "# Prédire les valeurs pour l'ensemble de test\n",
    "y_pred = et_clf.predict(X_test)\n",
    "\n",
    "# Évaluer le modèle\n",
    "accuracy = accuracy_score(y_test, y_pred)\n",
    "report = classification_report(y_test, y_pred)\n",
    "\n",
    "# Afficher les résultats\n",
    "print(f\"ExtraTreesClassifier Accuracy: {accuracy:.2f}\")\n",
    "print(\"\\nClassification Report:\")\n",
    "print(report)"
   ]
  },
  {
   "cell_type": "markdown",
   "metadata": {},
   "source": [
    "### Modèle XGBClassifier"
   ]
  },
  {
   "cell_type": "code",
   "execution_count": 20,
   "metadata": {},
   "outputs": [
    {
     "name": "stdout",
     "output_type": "stream",
     "text": [
      "XGBClassifier Accuracy: 0.81\n",
      "\n",
      "Classification Report:\n",
      "              precision    recall  f1-score   support\n",
      "\n",
      "           0       0.77      0.78      0.78     38368\n",
      "           1       0.84      0.83      0.83     52918\n",
      "\n",
      "    accuracy                           0.81     91286\n",
      "   macro avg       0.80      0.81      0.80     91286\n",
      "weighted avg       0.81      0.81      0.81     91286\n",
      "\n"
     ]
    }
   ],
   "source": [
    "# XGBClassifier\n",
    "from xgboost import XGBClassifier\n",
    "\n",
    "# Initialiser et entraîner le modèle XGBClassifier\n",
    "xgb_clf = XGBClassifier(use_label_encoder=False, eval_metric='logloss')\n",
    "xgb_clf.fit(X_train, y_train)\n",
    "# Prédire les valeurs pour l'ensemble de test\n",
    "y_pred = xgb_clf.predict(X_test)\n",
    "# Évaluer le modèle\n",
    "accuracy = accuracy_score(y_test, y_pred)\n",
    "report = classification_report(y_test, y_pred)\n",
    "# Afficher les résultats\n",
    "print(f\"XGBClassifier Accuracy: {accuracy:.2f}\")\n",
    "print(\"\\nClassification Report:\")\n",
    "print(report)"
   ]
  },
  {
   "cell_type": "markdown",
   "metadata": {},
   "source": [
    "### Modèle LGBMClassifier"
   ]
  },
  {
   "cell_type": "code",
   "execution_count": 22,
   "metadata": {},
   "outputs": [
    {
     "name": "stdout",
     "output_type": "stream",
     "text": [
      "LGBMClassifier Accuracy: 0.81\n",
      "\n",
      "Classification Report:\n",
      "              precision    recall  f1-score   support\n",
      "\n",
      "           0       0.76      0.78      0.77     38368\n",
      "           1       0.84      0.83      0.83     52918\n",
      "\n",
      "    accuracy                           0.81     91286\n",
      "   macro avg       0.80      0.80      0.80     91286\n",
      "weighted avg       0.81      0.81      0.81     91286\n",
      "\n"
     ]
    }
   ],
   "source": [
    "# LGBMClassifier\n",
    "from lightgbm import LGBMClassifier\n",
    "\n",
    "# LightGBM : lightgbm.LGBMClassifier\n",
    "# Initialiser et entraîner le modèle LightGBM\n",
    "lig_clf = LGBMClassifier(use_label_encoder=False, eval_metric='logloss')\n",
    "lig_clf.fit(X_train, y_train)\n",
    "# Prédire les valeurs pour l'ensemble de test\n",
    "y_pred = lig_clf.predict(X_test)\n",
    "# Évaluer le modèle\n",
    "accuracy = accuracy_score(y_test, y_pred)\n",
    "report = classification_report(y_test, y_pred)\n",
    "# Afficher les résultats\n",
    "print(f\"LGBMClassifier Accuracy: {accuracy:.2f}\")\n",
    "print(\"\\nClassification Report:\")\n",
    "print(report)"
   ]
  },
  {
   "cell_type": "markdown",
   "metadata": {},
   "source": [
    "### Modèle KNeighborsClassifier"
   ]
  },
  {
   "cell_type": "code",
   "execution_count": 24,
   "metadata": {},
   "outputs": [
    {
     "name": "stdout",
     "output_type": "stream",
     "text": [
      "KNeighborsClassifier Accuracy: 0.77\n",
      "\n",
      "Classification Report:\n",
      "              precision    recall  f1-score   support\n",
      "\n",
      "           0       0.72      0.73      0.72     38368\n",
      "           1       0.80      0.80      0.80     52918\n",
      "\n",
      "    accuracy                           0.77     91286\n",
      "   macro avg       0.76      0.76      0.76     91286\n",
      "weighted avg       0.77      0.77      0.77     91286\n",
      "\n"
     ]
    }
   ],
   "source": [
    "# KNeighborsClassifier\n",
    "\n",
    "from sklearn.neighbors import KNeighborsClassifier\n",
    "# Initialiser et entraîner le modèle KNeighborsClassifier\n",
    "knn_clf = KNeighborsClassifier(n_neighbors=3)\n",
    "knn_clf.fit(X_train, y_train)\n",
    "\n",
    "# Prédire les valeurs pour l'ensemble de test\n",
    "y_pred = knn_clf.predict(X_test)\n",
    "\n",
    "# Évaluer le modèle\n",
    "accuracy = accuracy_score(y_test, y_pred)\n",
    "report = classification_report(y_test, y_pred)\n",
    "\n",
    "# Afficher les résultats\n",
    "print(f\"KNeighborsClassifier Accuracy: {accuracy:.2f}\")\n",
    "print(\"\\nClassification Report:\")\n",
    "print(report)"
   ]
  },
  {
   "cell_type": "markdown",
   "metadata": {},
   "source": [
    "### Cross Validation"
   ]
  },
  {
   "cell_type": "code",
   "execution_count": 31,
   "metadata": {},
   "outputs": [
    {
     "name": "stdout",
     "output_type": "stream",
     "text": [
      "Scores de validation croisée :  [0.80976272 0.8086344  0.80788949 0.80954155 0.81061511]\n",
      "Score moyen :  0.8092886535868639\n",
      "Ecart type  :  0.0009416876404237049\n"
     ]
    }
   ],
   "source": [
    "# Cross validation - XGBClassifier - KFold = 5\n",
    "import pandas as pd\n",
    "from sklearn.model_selection import KFold, cross_val_score\n",
    "\n",
    "\n",
    "# Initialisation du modèle\n",
    "model = XGBClassifier()\n",
    "\n",
    "# Configuration de la validation croisée K-Fold\n",
    "kf = KFold(n_splits=5, shuffle=True, random_state=42)\n",
    "\n",
    "# Évaluation du modèle avec la validation croisée\n",
    "scores = cross_val_score(model, X, y, cv=kf)\n",
    "std_score = np.std(scores)    # Écart-type des scores\n",
    "print(\"Scores de validation croisée : \", scores)\n",
    "print(\"Score moyen : \", scores.mean())\n",
    "print(\"Ecart type  : \", std_score)"
   ]
  },
  {
   "cell_type": "code",
   "execution_count": 35,
   "metadata": {},
   "outputs": [
    {
     "name": "stdout",
     "output_type": "stream",
     "text": [
      "Scores de validation croisée :  [0.78783165 0.78836842 0.78789738 0.78666813 0.78867284]\n",
      "Score moyen :  0.787887683414686\n",
      "Ecart type moyen :  0.0006838318929365241\n"
     ]
    }
   ],
   "source": [
    "# Cross validation - AdaBoostClassifier\n",
    "import pandas as pd\n",
    "from sklearn.model_selection import KFold, cross_val_score\n",
    "\n",
    "\n",
    "# Initialisation du modèle\n",
    "model = AdaBoostClassifier()\n",
    "\n",
    "# Configuration de la validation croisée K-Fold\n",
    "kf = KFold(n_splits=5, shuffle=True, random_state=42)\n",
    "\n",
    "# Évaluation du modèle avec la validation croisée\n",
    "scores = cross_val_score(model, X, y, cv=kf)\n",
    "std_score = np.std(scores)    # Écart-type des scores\n",
    "print(\"Scores de validation croisée : \", scores)\n",
    "print(\"Score moyen : \", scores.mean())\n",
    "print(\"Ecart type moyen : \", std_score)"
   ]
  },
  {
   "cell_type": "markdown",
   "metadata": {},
   "source": [
    "### Stockage les résultats de la Cross Validation pour chaque modèle et dans une liste"
   ]
  },
  {
   "cell_type": "code",
   "execution_count": 37,
   "metadata": {},
   "outputs": [],
   "source": [
    "from sklearn.model_selection import cross_validate"
   ]
  },
  {
   "cell_type": "code",
   "execution_count": 47,
   "metadata": {},
   "outputs": [
    {
     "name": "stderr",
     "output_type": "stream",
     "text": [
      "c:\\ProgramData\\anaconda3\\Lib\\site-packages\\sklearn\\linear_model\\_logistic.py:460: ConvergenceWarning: lbfgs failed to converge (status=1):\n",
      "STOP: TOTAL NO. of ITERATIONS REACHED LIMIT.\n",
      "\n",
      "Increase the number of iterations (max_iter) or scale the data as shown in:\n",
      "    https://scikit-learn.org/stable/modules/preprocessing.html\n",
      "Please also refer to the documentation for alternative solver options:\n",
      "    https://scikit-learn.org/stable/modules/linear_model.html#logistic-regression\n",
      "  n_iter_i = _check_optimize_result(\n",
      "c:\\ProgramData\\anaconda3\\Lib\\site-packages\\sklearn\\linear_model\\_logistic.py:460: ConvergenceWarning: lbfgs failed to converge (status=1):\n",
      "STOP: TOTAL NO. of ITERATIONS REACHED LIMIT.\n",
      "\n",
      "Increase the number of iterations (max_iter) or scale the data as shown in:\n",
      "    https://scikit-learn.org/stable/modules/preprocessing.html\n",
      "Please also refer to the documentation for alternative solver options:\n",
      "    https://scikit-learn.org/stable/modules/linear_model.html#logistic-regression\n",
      "  n_iter_i = _check_optimize_result(\n",
      "c:\\ProgramData\\anaconda3\\Lib\\site-packages\\sklearn\\linear_model\\_logistic.py:460: ConvergenceWarning: lbfgs failed to converge (status=1):\n",
      "STOP: TOTAL NO. of ITERATIONS REACHED LIMIT.\n",
      "\n",
      "Increase the number of iterations (max_iter) or scale the data as shown in:\n",
      "    https://scikit-learn.org/stable/modules/preprocessing.html\n",
      "Please also refer to the documentation for alternative solver options:\n",
      "    https://scikit-learn.org/stable/modules/linear_model.html#logistic-regression\n",
      "  n_iter_i = _check_optimize_result(\n",
      "c:\\ProgramData\\anaconda3\\Lib\\site-packages\\sklearn\\linear_model\\_logistic.py:460: ConvergenceWarning: lbfgs failed to converge (status=1):\n",
      "STOP: TOTAL NO. of ITERATIONS REACHED LIMIT.\n",
      "\n",
      "Increase the number of iterations (max_iter) or scale the data as shown in:\n",
      "    https://scikit-learn.org/stable/modules/preprocessing.html\n",
      "Please also refer to the documentation for alternative solver options:\n",
      "    https://scikit-learn.org/stable/modules/linear_model.html#logistic-regression\n",
      "  n_iter_i = _check_optimize_result(\n",
      "c:\\ProgramData\\anaconda3\\Lib\\site-packages\\sklearn\\linear_model\\_logistic.py:460: ConvergenceWarning: lbfgs failed to converge (status=1):\n",
      "STOP: TOTAL NO. of ITERATIONS REACHED LIMIT.\n",
      "\n",
      "Increase the number of iterations (max_iter) or scale the data as shown in:\n",
      "    https://scikit-learn.org/stable/modules/preprocessing.html\n",
      "Please also refer to the documentation for alternative solver options:\n",
      "    https://scikit-learn.org/stable/modules/linear_model.html#logistic-regression\n",
      "  n_iter_i = _check_optimize_result(\n"
     ]
    },
    {
     "name": "stdout",
     "output_type": "stream",
     "text": [
      "                    Model  Mean Accuracy  Std Accuracy  Mean Precision  \\\n",
      "0      AdaBoostClassifier           0.79          0.00            0.78   \n",
      "1    ExtraTreesClassifier           0.78          0.00            0.77   \n",
      "2           XGBClassifier           0.81          0.00            0.80   \n",
      "3      LogisticRegression           0.74          0.00            0.73   \n",
      "4    KNeighborsClassifier           0.77          0.00            0.77   \n",
      "5  DecisionTreeClassifier           0.74          0.00            0.73   \n",
      "\n",
      "   Std Precision  Mean Recall  Std Recall  Mean F1-score  Std F1-score  \n",
      "0           0.00         0.79        0.00           0.78          0.00  \n",
      "1           0.00         0.77        0.00           0.77          0.00  \n",
      "2           0.00         0.80        0.00           0.80          0.00  \n",
      "3           0.00         0.73        0.00           0.73          0.00  \n",
      "4           0.00         0.77        0.00           0.77          0.00  \n",
      "5           0.00         0.73        0.00           0.73          0.00  \n"
     ]
    }
   ],
   "source": [
    "# Définir les modèles à tester\n",
    "models = {\n",
    "    'AdaBoostClassifier': AdaBoostClassifier(),\n",
    "    'ExtraTreesClassifier': ExtraTreesClassifier(),\n",
    "    'XGBClassifier': XGBClassifier(),\n",
    "    'LogisticRegression':LogisticRegression(),\n",
    "    'KNeighborsClassifier' : KNeighborsClassifier(),\n",
    "    'DecisionTreeClassifier':DecisionTreeClassifier()\n",
    "   }\n",
    "\n",
    "\n",
    "# Liste pour stocker les résultats\n",
    "results = []\n",
    "\n",
    "# Effectuer la validation croisée pour chaque modèle\n",
    "for name, model in models.items():\n",
    "    cv_results = cross_validate(model, X_train, y_train, cv=5, scoring=['accuracy', 'precision_macro', 'recall_macro', 'f1_macro'])\n",
    "    # cv_scores = cross_val_score(model, X_train, y_train, cv=5)\n",
    "    results.append({\n",
    "        'Model': name,\n",
    "        'Mean Accuracy': np.mean(cv_results['test_accuracy']),\n",
    "        'Std Accuracy': np.std(cv_results['test_accuracy']),\n",
    "        'Mean Precision': np.mean(cv_results['test_precision_macro']),\n",
    "        'Std Precision': np.std(cv_results['test_precision_macro']),\n",
    "        'Mean Recall': np.mean(cv_results['test_recall_macro']),\n",
    "        'Std Recall': np.std(cv_results['test_recall_macro']),\n",
    "        'Mean F1-score': np.mean(cv_results['test_f1_macro']),\n",
    "        'Std F1-score': np.std(cv_results['test_f1_macro'])\n",
    "    })\n",
    "\n",
    "# Convertir les résultats en DataFrame\n",
    "results_df = pd.DataFrame(results)\n",
    "# Afficher le résultat\n",
    "print(results_df)"
   ]
  },
  {
   "cell_type": "code",
   "execution_count": 48,
   "metadata": {},
   "outputs": [
    {
     "data": {
      "text/html": [
       "<div>\n",
       "<style scoped>\n",
       "    .dataframe tbody tr th:only-of-type {\n",
       "        vertical-align: middle;\n",
       "    }\n",
       "\n",
       "    .dataframe tbody tr th {\n",
       "        vertical-align: top;\n",
       "    }\n",
       "\n",
       "    .dataframe thead th {\n",
       "        text-align: right;\n",
       "    }\n",
       "</style>\n",
       "<table border=\"1\" class=\"dataframe\">\n",
       "  <thead>\n",
       "    <tr style=\"text-align: right;\">\n",
       "      <th></th>\n",
       "      <th>Model</th>\n",
       "      <th>Mean Accuracy</th>\n",
       "      <th>Std Accuracy</th>\n",
       "      <th>Mean Precision</th>\n",
       "      <th>Std Precision</th>\n",
       "      <th>Mean Recall</th>\n",
       "      <th>Std Recall</th>\n",
       "      <th>Mean F1-score</th>\n",
       "      <th>Std F1-score</th>\n",
       "    </tr>\n",
       "  </thead>\n",
       "  <tbody>\n",
       "    <tr>\n",
       "      <th>0</th>\n",
       "      <td>AdaBoostClassifier</td>\n",
       "      <td>0.79</td>\n",
       "      <td>0.00</td>\n",
       "      <td>0.78</td>\n",
       "      <td>0.00</td>\n",
       "      <td>0.79</td>\n",
       "      <td>0.00</td>\n",
       "      <td>0.78</td>\n",
       "      <td>0.00</td>\n",
       "    </tr>\n",
       "    <tr>\n",
       "      <th>1</th>\n",
       "      <td>ExtraTreesClassifier</td>\n",
       "      <td>0.78</td>\n",
       "      <td>0.00</td>\n",
       "      <td>0.77</td>\n",
       "      <td>0.00</td>\n",
       "      <td>0.77</td>\n",
       "      <td>0.00</td>\n",
       "      <td>0.77</td>\n",
       "      <td>0.00</td>\n",
       "    </tr>\n",
       "    <tr>\n",
       "      <th>2</th>\n",
       "      <td>XGBClassifier</td>\n",
       "      <td>0.81</td>\n",
       "      <td>0.00</td>\n",
       "      <td>0.80</td>\n",
       "      <td>0.00</td>\n",
       "      <td>0.80</td>\n",
       "      <td>0.00</td>\n",
       "      <td>0.80</td>\n",
       "      <td>0.00</td>\n",
       "    </tr>\n",
       "    <tr>\n",
       "      <th>3</th>\n",
       "      <td>LogisticRegression</td>\n",
       "      <td>0.74</td>\n",
       "      <td>0.00</td>\n",
       "      <td>0.73</td>\n",
       "      <td>0.00</td>\n",
       "      <td>0.73</td>\n",
       "      <td>0.00</td>\n",
       "      <td>0.73</td>\n",
       "      <td>0.00</td>\n",
       "    </tr>\n",
       "    <tr>\n",
       "      <th>4</th>\n",
       "      <td>KNeighborsClassifier</td>\n",
       "      <td>0.77</td>\n",
       "      <td>0.00</td>\n",
       "      <td>0.77</td>\n",
       "      <td>0.00</td>\n",
       "      <td>0.77</td>\n",
       "      <td>0.00</td>\n",
       "      <td>0.77</td>\n",
       "      <td>0.00</td>\n",
       "    </tr>\n",
       "    <tr>\n",
       "      <th>5</th>\n",
       "      <td>DecisionTreeClassifier</td>\n",
       "      <td>0.74</td>\n",
       "      <td>0.00</td>\n",
       "      <td>0.73</td>\n",
       "      <td>0.00</td>\n",
       "      <td>0.73</td>\n",
       "      <td>0.00</td>\n",
       "      <td>0.73</td>\n",
       "      <td>0.00</td>\n",
       "    </tr>\n",
       "  </tbody>\n",
       "</table>\n",
       "</div>"
      ],
      "text/plain": [
       "                    Model  Mean Accuracy  Std Accuracy  Mean Precision  \\\n",
       "0      AdaBoostClassifier           0.79          0.00            0.78   \n",
       "1    ExtraTreesClassifier           0.78          0.00            0.77   \n",
       "2           XGBClassifier           0.81          0.00            0.80   \n",
       "3      LogisticRegression           0.74          0.00            0.73   \n",
       "4    KNeighborsClassifier           0.77          0.00            0.77   \n",
       "5  DecisionTreeClassifier           0.74          0.00            0.73   \n",
       "\n",
       "   Std Precision  Mean Recall  Std Recall  Mean F1-score  Std F1-score  \n",
       "0           0.00         0.79        0.00           0.78          0.00  \n",
       "1           0.00         0.77        0.00           0.77          0.00  \n",
       "2           0.00         0.80        0.00           0.80          0.00  \n",
       "3           0.00         0.73        0.00           0.73          0.00  \n",
       "4           0.00         0.77        0.00           0.77          0.00  \n",
       "5           0.00         0.73        0.00           0.73          0.00  "
      ]
     },
     "execution_count": 48,
     "metadata": {},
     "output_type": "execute_result"
    }
   ],
   "source": [
    "results_df"
   ]
  },
  {
   "cell_type": "markdown",
   "metadata": {},
   "source": [
    "### Analyse des résultats"
   ]
  },
  {
   "cell_type": "code",
   "execution_count": null,
   "metadata": {},
   "outputs": [],
   "source": [
    "# création d'un df pour ajouter les prédictions au dataset\n",
    "df_filtered = df.iloc[:len(y_test)]  \n",
    "\n",
    "df_filtered['pred_ada'] = y_pred_ada\n",
    "df_filtered.head()"
   ]
  },
  {
   "cell_type": "code",
   "execution_count": null,
   "metadata": {},
   "outputs": [],
   "source": [
    "# création d'un df qui affiche toutes les prédictions qui ne sont pas identiques au réel\n",
    "df_mismatch = df_filtered[df_filtered['grav'] != df_filtered['pred_ada']]\n",
    "df_mismatch.head()"
   ]
  },
  {
   "cell_type": "code",
   "execution_count": null,
   "metadata": {},
   "outputs": [],
   "source": []
  },
  {
   "cell_type": "code",
   "execution_count": null,
   "metadata": {},
   "outputs": [],
   "source": []
  },
  {
   "cell_type": "code",
   "execution_count": null,
   "metadata": {},
   "outputs": [],
   "source": []
  },
  {
   "cell_type": "code",
   "execution_count": null,
   "metadata": {},
   "outputs": [],
   "source": []
  }
 ],
 "metadata": {
  "kernelspec": {
   "display_name": "Python 3 (ipykernel)",
   "language": "python",
   "name": "python3"
  },
  "language_info": {
   "codemirror_mode": {
    "name": "ipython",
    "version": 3
   },
   "file_extension": ".py",
   "mimetype": "text/x-python",
   "name": "python",
   "nbconvert_exporter": "python",
   "pygments_lexer": "ipython3",
   "version": "3.11.5"
  }
 },
 "nbformat": 4,
 "nbformat_minor": 4
}
